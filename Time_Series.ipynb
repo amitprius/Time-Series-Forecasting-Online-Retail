{
  "nbformat": 4,
  "nbformat_minor": 0,
  "metadata": {
    "colab": {
      "provenance": []
    },
    "kernelspec": {
      "name": "python3",
      "display_name": "Python 3"
    },
    "language_info": {
      "name": "python"
    }
  },
  "cells": [
    {
      "cell_type": "code",
      "execution_count": 1,
      "metadata": {
        "id": "Ljs1Y5AqpHCk"
      },
      "outputs": [],
      "source": [
        "import pandas as pd\n",
        "import numpy as np"
      ]
    },
    {
      "cell_type": "code",
      "source": [
        "df = pd.read_excel('Online Retail.xlsx')\n",
        "df.head(3)"
      ],
      "metadata": {
        "colab": {
          "base_uri": "https://localhost:8080/",
          "height": 196
        },
        "id": "6Bxb2DzJr2ci",
        "outputId": "408b0cef-a061-48bc-8620-319f343d0fdb"
      },
      "execution_count": 2,
      "outputs": [
        {
          "output_type": "execute_result",
          "data": {
            "text/plain": [
              "  InvoiceNo StockCode                         Description  Quantity  \\\n",
              "0    536365    85123A  WHITE HANGING HEART T-LIGHT HOLDER         6   \n",
              "1    536365     71053                 WHITE METAL LANTERN         6   \n",
              "2    536365    84406B      CREAM CUPID HEARTS COAT HANGER         8   \n",
              "\n",
              "          InvoiceDate  UnitPrice  CustomerID         Country  \n",
              "0 2010-12-01 08:26:00       2.55     17850.0  United Kingdom  \n",
              "1 2010-12-01 08:26:00       3.39     17850.0  United Kingdom  \n",
              "2 2010-12-01 08:26:00       2.75     17850.0  United Kingdom  "
            ],
            "text/html": [
              "\n",
              "  <div id=\"df-5fe29916-2965-467a-9de8-f0ba2b800522\" class=\"colab-df-container\">\n",
              "    <div>\n",
              "<style scoped>\n",
              "    .dataframe tbody tr th:only-of-type {\n",
              "        vertical-align: middle;\n",
              "    }\n",
              "\n",
              "    .dataframe tbody tr th {\n",
              "        vertical-align: top;\n",
              "    }\n",
              "\n",
              "    .dataframe thead th {\n",
              "        text-align: right;\n",
              "    }\n",
              "</style>\n",
              "<table border=\"1\" class=\"dataframe\">\n",
              "  <thead>\n",
              "    <tr style=\"text-align: right;\">\n",
              "      <th></th>\n",
              "      <th>InvoiceNo</th>\n",
              "      <th>StockCode</th>\n",
              "      <th>Description</th>\n",
              "      <th>Quantity</th>\n",
              "      <th>InvoiceDate</th>\n",
              "      <th>UnitPrice</th>\n",
              "      <th>CustomerID</th>\n",
              "      <th>Country</th>\n",
              "    </tr>\n",
              "  </thead>\n",
              "  <tbody>\n",
              "    <tr>\n",
              "      <th>0</th>\n",
              "      <td>536365</td>\n",
              "      <td>85123A</td>\n",
              "      <td>WHITE HANGING HEART T-LIGHT HOLDER</td>\n",
              "      <td>6</td>\n",
              "      <td>2010-12-01 08:26:00</td>\n",
              "      <td>2.55</td>\n",
              "      <td>17850.0</td>\n",
              "      <td>United Kingdom</td>\n",
              "    </tr>\n",
              "    <tr>\n",
              "      <th>1</th>\n",
              "      <td>536365</td>\n",
              "      <td>71053</td>\n",
              "      <td>WHITE METAL LANTERN</td>\n",
              "      <td>6</td>\n",
              "      <td>2010-12-01 08:26:00</td>\n",
              "      <td>3.39</td>\n",
              "      <td>17850.0</td>\n",
              "      <td>United Kingdom</td>\n",
              "    </tr>\n",
              "    <tr>\n",
              "      <th>2</th>\n",
              "      <td>536365</td>\n",
              "      <td>84406B</td>\n",
              "      <td>CREAM CUPID HEARTS COAT HANGER</td>\n",
              "      <td>8</td>\n",
              "      <td>2010-12-01 08:26:00</td>\n",
              "      <td>2.75</td>\n",
              "      <td>17850.0</td>\n",
              "      <td>United Kingdom</td>\n",
              "    </tr>\n",
              "  </tbody>\n",
              "</table>\n",
              "</div>\n",
              "    <div class=\"colab-df-buttons\">\n",
              "\n",
              "  <div class=\"colab-df-container\">\n",
              "    <button class=\"colab-df-convert\" onclick=\"convertToInteractive('df-5fe29916-2965-467a-9de8-f0ba2b800522')\"\n",
              "            title=\"Convert this dataframe to an interactive table.\"\n",
              "            style=\"display:none;\">\n",
              "\n",
              "  <svg xmlns=\"http://www.w3.org/2000/svg\" height=\"24px\" viewBox=\"0 -960 960 960\">\n",
              "    <path d=\"M120-120v-720h720v720H120Zm60-500h600v-160H180v160Zm220 220h160v-160H400v160Zm0 220h160v-160H400v160ZM180-400h160v-160H180v160Zm440 0h160v-160H620v160ZM180-180h160v-160H180v160Zm440 0h160v-160H620v160Z\"/>\n",
              "  </svg>\n",
              "    </button>\n",
              "\n",
              "  <style>\n",
              "    .colab-df-container {\n",
              "      display:flex;\n",
              "      gap: 12px;\n",
              "    }\n",
              "\n",
              "    .colab-df-convert {\n",
              "      background-color: #E8F0FE;\n",
              "      border: none;\n",
              "      border-radius: 50%;\n",
              "      cursor: pointer;\n",
              "      display: none;\n",
              "      fill: #1967D2;\n",
              "      height: 32px;\n",
              "      padding: 0 0 0 0;\n",
              "      width: 32px;\n",
              "    }\n",
              "\n",
              "    .colab-df-convert:hover {\n",
              "      background-color: #E2EBFA;\n",
              "      box-shadow: 0px 1px 2px rgba(60, 64, 67, 0.3), 0px 1px 3px 1px rgba(60, 64, 67, 0.15);\n",
              "      fill: #174EA6;\n",
              "    }\n",
              "\n",
              "    .colab-df-buttons div {\n",
              "      margin-bottom: 4px;\n",
              "    }\n",
              "\n",
              "    [theme=dark] .colab-df-convert {\n",
              "      background-color: #3B4455;\n",
              "      fill: #D2E3FC;\n",
              "    }\n",
              "\n",
              "    [theme=dark] .colab-df-convert:hover {\n",
              "      background-color: #434B5C;\n",
              "      box-shadow: 0px 1px 3px 1px rgba(0, 0, 0, 0.15);\n",
              "      filter: drop-shadow(0px 1px 2px rgba(0, 0, 0, 0.3));\n",
              "      fill: #FFFFFF;\n",
              "    }\n",
              "  </style>\n",
              "\n",
              "    <script>\n",
              "      const buttonEl =\n",
              "        document.querySelector('#df-5fe29916-2965-467a-9de8-f0ba2b800522 button.colab-df-convert');\n",
              "      buttonEl.style.display =\n",
              "        google.colab.kernel.accessAllowed ? 'block' : 'none';\n",
              "\n",
              "      async function convertToInteractive(key) {\n",
              "        const element = document.querySelector('#df-5fe29916-2965-467a-9de8-f0ba2b800522');\n",
              "        const dataTable =\n",
              "          await google.colab.kernel.invokeFunction('convertToInteractive',\n",
              "                                                    [key], {});\n",
              "        if (!dataTable) return;\n",
              "\n",
              "        const docLinkHtml = 'Like what you see? Visit the ' +\n",
              "          '<a target=\"_blank\" href=https://colab.research.google.com/notebooks/data_table.ipynb>data table notebook</a>'\n",
              "          + ' to learn more about interactive tables.';\n",
              "        element.innerHTML = '';\n",
              "        dataTable['output_type'] = 'display_data';\n",
              "        await google.colab.output.renderOutput(dataTable, element);\n",
              "        const docLink = document.createElement('div');\n",
              "        docLink.innerHTML = docLinkHtml;\n",
              "        element.appendChild(docLink);\n",
              "      }\n",
              "    </script>\n",
              "  </div>\n",
              "\n",
              "\n",
              "<div id=\"df-a4f1a342-7fc8-4a04-bb51-8ee80aaed99d\">\n",
              "  <button class=\"colab-df-quickchart\" onclick=\"quickchart('df-a4f1a342-7fc8-4a04-bb51-8ee80aaed99d')\"\n",
              "            title=\"Suggest charts\"\n",
              "            style=\"display:none;\">\n",
              "\n",
              "<svg xmlns=\"http://www.w3.org/2000/svg\" height=\"24px\"viewBox=\"0 0 24 24\"\n",
              "     width=\"24px\">\n",
              "    <g>\n",
              "        <path d=\"M19 3H5c-1.1 0-2 .9-2 2v14c0 1.1.9 2 2 2h14c1.1 0 2-.9 2-2V5c0-1.1-.9-2-2-2zM9 17H7v-7h2v7zm4 0h-2V7h2v10zm4 0h-2v-4h2v4z\"/>\n",
              "    </g>\n",
              "</svg>\n",
              "  </button>\n",
              "\n",
              "<style>\n",
              "  .colab-df-quickchart {\n",
              "      --bg-color: #E8F0FE;\n",
              "      --fill-color: #1967D2;\n",
              "      --hover-bg-color: #E2EBFA;\n",
              "      --hover-fill-color: #174EA6;\n",
              "      --disabled-fill-color: #AAA;\n",
              "      --disabled-bg-color: #DDD;\n",
              "  }\n",
              "\n",
              "  [theme=dark] .colab-df-quickchart {\n",
              "      --bg-color: #3B4455;\n",
              "      --fill-color: #D2E3FC;\n",
              "      --hover-bg-color: #434B5C;\n",
              "      --hover-fill-color: #FFFFFF;\n",
              "      --disabled-bg-color: #3B4455;\n",
              "      --disabled-fill-color: #666;\n",
              "  }\n",
              "\n",
              "  .colab-df-quickchart {\n",
              "    background-color: var(--bg-color);\n",
              "    border: none;\n",
              "    border-radius: 50%;\n",
              "    cursor: pointer;\n",
              "    display: none;\n",
              "    fill: var(--fill-color);\n",
              "    height: 32px;\n",
              "    padding: 0;\n",
              "    width: 32px;\n",
              "  }\n",
              "\n",
              "  .colab-df-quickchart:hover {\n",
              "    background-color: var(--hover-bg-color);\n",
              "    box-shadow: 0 1px 2px rgba(60, 64, 67, 0.3), 0 1px 3px 1px rgba(60, 64, 67, 0.15);\n",
              "    fill: var(--button-hover-fill-color);\n",
              "  }\n",
              "\n",
              "  .colab-df-quickchart-complete:disabled,\n",
              "  .colab-df-quickchart-complete:disabled:hover {\n",
              "    background-color: var(--disabled-bg-color);\n",
              "    fill: var(--disabled-fill-color);\n",
              "    box-shadow: none;\n",
              "  }\n",
              "\n",
              "  .colab-df-spinner {\n",
              "    border: 2px solid var(--fill-color);\n",
              "    border-color: transparent;\n",
              "    border-bottom-color: var(--fill-color);\n",
              "    animation:\n",
              "      spin 1s steps(1) infinite;\n",
              "  }\n",
              "\n",
              "  @keyframes spin {\n",
              "    0% {\n",
              "      border-color: transparent;\n",
              "      border-bottom-color: var(--fill-color);\n",
              "      border-left-color: var(--fill-color);\n",
              "    }\n",
              "    20% {\n",
              "      border-color: transparent;\n",
              "      border-left-color: var(--fill-color);\n",
              "      border-top-color: var(--fill-color);\n",
              "    }\n",
              "    30% {\n",
              "      border-color: transparent;\n",
              "      border-left-color: var(--fill-color);\n",
              "      border-top-color: var(--fill-color);\n",
              "      border-right-color: var(--fill-color);\n",
              "    }\n",
              "    40% {\n",
              "      border-color: transparent;\n",
              "      border-right-color: var(--fill-color);\n",
              "      border-top-color: var(--fill-color);\n",
              "    }\n",
              "    60% {\n",
              "      border-color: transparent;\n",
              "      border-right-color: var(--fill-color);\n",
              "    }\n",
              "    80% {\n",
              "      border-color: transparent;\n",
              "      border-right-color: var(--fill-color);\n",
              "      border-bottom-color: var(--fill-color);\n",
              "    }\n",
              "    90% {\n",
              "      border-color: transparent;\n",
              "      border-bottom-color: var(--fill-color);\n",
              "    }\n",
              "  }\n",
              "</style>\n",
              "\n",
              "  <script>\n",
              "    async function quickchart(key) {\n",
              "      const quickchartButtonEl =\n",
              "        document.querySelector('#' + key + ' button');\n",
              "      quickchartButtonEl.disabled = true;  // To prevent multiple clicks.\n",
              "      quickchartButtonEl.classList.add('colab-df-spinner');\n",
              "      try {\n",
              "        const charts = await google.colab.kernel.invokeFunction(\n",
              "            'suggestCharts', [key], {});\n",
              "      } catch (error) {\n",
              "        console.error('Error during call to suggestCharts:', error);\n",
              "      }\n",
              "      quickchartButtonEl.classList.remove('colab-df-spinner');\n",
              "      quickchartButtonEl.classList.add('colab-df-quickchart-complete');\n",
              "    }\n",
              "    (() => {\n",
              "      let quickchartButtonEl =\n",
              "        document.querySelector('#df-a4f1a342-7fc8-4a04-bb51-8ee80aaed99d button');\n",
              "      quickchartButtonEl.style.display =\n",
              "        google.colab.kernel.accessAllowed ? 'block' : 'none';\n",
              "    })();\n",
              "  </script>\n",
              "</div>\n",
              "\n",
              "    </div>\n",
              "  </div>\n"
            ],
            "application/vnd.google.colaboratory.intrinsic+json": {
              "type": "dataframe",
              "variable_name": "df"
            }
          },
          "metadata": {},
          "execution_count": 2
        }
      ]
    },
    {
      "cell_type": "code",
      "source": [
        "df.info()"
      ],
      "metadata": {
        "colab": {
          "base_uri": "https://localhost:8080/"
        },
        "id": "w31nMuU8hTIr",
        "outputId": "6b81d2b8-6897-4ed9-e65b-ed4aac078053"
      },
      "execution_count": 3,
      "outputs": [
        {
          "output_type": "stream",
          "name": "stdout",
          "text": [
            "<class 'pandas.core.frame.DataFrame'>\n",
            "RangeIndex: 541909 entries, 0 to 541908\n",
            "Data columns (total 8 columns):\n",
            " #   Column       Non-Null Count   Dtype         \n",
            "---  ------       --------------   -----         \n",
            " 0   InvoiceNo    541909 non-null  object        \n",
            " 1   StockCode    541909 non-null  object        \n",
            " 2   Description  540455 non-null  object        \n",
            " 3   Quantity     541909 non-null  int64         \n",
            " 4   InvoiceDate  541909 non-null  datetime64[ns]\n",
            " 5   UnitPrice    541909 non-null  float64       \n",
            " 6   CustomerID   406829 non-null  float64       \n",
            " 7   Country      541909 non-null  object        \n",
            "dtypes: datetime64[ns](1), float64(2), int64(1), object(4)\n",
            "memory usage: 33.1+ MB\n"
          ]
        }
      ]
    },
    {
      "cell_type": "code",
      "source": [
        "total_entries = len(df)\n",
        "description_missing_pct = (df['Description'].isnull().sum() / total_entries) * 100\n",
        "customerid_missing_pct = (df['CustomerID'].isnull().sum() / total_entries) * 100\n",
        "\n",
        "print(f\"Missing Description: {description_missing_pct:.2f}%\")\n",
        "print(f\"Missing CustomerID: {customerid_missing_pct:.2f}%\")\n"
      ],
      "metadata": {
        "id": "SdX_gpeYiqZy",
        "outputId": "66b51cf7-33d5-4732-a929-5c519387237f",
        "colab": {
          "base_uri": "https://localhost:8080/"
        }
      },
      "execution_count": 4,
      "outputs": [
        {
          "output_type": "stream",
          "name": "stdout",
          "text": [
            "Missing Description: 0.27%\n",
            "Missing CustomerID: 24.93%\n"
          ]
        }
      ]
    },
    {
      "cell_type": "code",
      "source": [
        "# Filter the rows where 'Description' is missing\n",
        "missing_description_rows = df[df['Description'].isnull()]\n",
        "\n",
        "# Display the rows with missing 'Description'\n",
        "print(missing_description_rows[['InvoiceNo', 'StockCode', 'Description']])"
      ],
      "metadata": {
        "colab": {
          "base_uri": "https://localhost:8080/"
        },
        "id": "UikmzTd237vU",
        "outputId": "6dc616d4-4fa0-44b8-8641-8d0921569fd3"
      },
      "execution_count": 5,
      "outputs": [
        {
          "output_type": "stream",
          "name": "stdout",
          "text": [
            "       InvoiceNo StockCode Description\n",
            "622       536414     22139         NaN\n",
            "1970      536545     21134         NaN\n",
            "1971      536546     22145         NaN\n",
            "1972      536547     37509         NaN\n",
            "1987      536549    85226A         NaN\n",
            "...          ...       ...         ...\n",
            "535322    581199     84581         NaN\n",
            "535326    581203     23406         NaN\n",
            "535332    581209     21620         NaN\n",
            "536981    581234     72817         NaN\n",
            "538554    581408     85175         NaN\n",
            "\n",
            "[1454 rows x 3 columns]\n"
          ]
        }
      ]
    },
    {
      "cell_type": "code",
      "source": [
        "# Select rows where 'InvoiceNo' is equal to 536365\n",
        "specific_invoice_rows = df[df['StockCode'] == 84581]\n",
        "\n",
        "# Display the selected rows\n",
        "print(specific_invoice_rows)"
      ],
      "metadata": {
        "colab": {
          "base_uri": "https://localhost:8080/"
        },
        "id": "dJLzk7cW38AY",
        "outputId": "154f8806-e69a-4d0f-ece8-abb6bdd34089"
      },
      "execution_count": 6,
      "outputs": [
        {
          "output_type": "stream",
          "name": "stdout",
          "text": [
            "       InvoiceNo StockCode                      Description  Quantity  \\\n",
            "1823      536544     84581  DOG TOY WITH PINK CROCHET SKIRT         1   \n",
            "7105      536988     84581  DOG TOY WITH PINK CROCHET SKIRT         1   \n",
            "7694      537050     84581  DOG TOY WITH PINK CROCHET SKIRT         1   \n",
            "13836     537434     84581  DOG TOY WITH PINK CROCHET SKIRT         1   \n",
            "16697     537666     84581  DOG TOY WITH PINK CROCHET SKIRT         1   \n",
            "...          ...       ...                              ...       ...   \n",
            "517398    580054     84581  DOG TOY WITH PINK CROCHET SKIRT         2   \n",
            "518666    580115     84581  DOG TOY WITH PINK CROCHET SKIRT         1   \n",
            "522023    580367     84581  DOG TOY WITH PINK CROCHET SKIRT         1   \n",
            "524127    580529     84581  DOG TOY WITH PINK CROCHET SKIRT         2   \n",
            "535322    581199     84581                              NaN        -2   \n",
            "\n",
            "               InvoiceDate  UnitPrice  CustomerID         Country  \n",
            "1823   2010-12-01 14:32:00       4.21         NaN  United Kingdom  \n",
            "7105   2010-12-03 15:05:00       3.75     17238.0  United Kingdom  \n",
            "7694   2010-12-05 11:10:00       3.75     14800.0  United Kingdom  \n",
            "13836  2010-12-06 16:57:00       4.21         NaN  United Kingdom  \n",
            "16697  2010-12-07 18:36:00       4.21         NaN  United Kingdom  \n",
            "...                    ...        ...         ...             ...  \n",
            "517398 2011-12-01 13:08:00       3.75     18122.0  United Kingdom  \n",
            "518666 2011-12-01 16:22:00       4.13         NaN  United Kingdom  \n",
            "522023 2011-12-02 16:39:00       4.13         NaN  United Kingdom  \n",
            "524127 2011-12-04 15:35:00       3.75     14658.0  United Kingdom  \n",
            "535322 2011-12-07 18:26:00       0.00         NaN  United Kingdom  \n",
            "\n",
            "[93 rows x 8 columns]\n"
          ]
        }
      ]
    },
    {
      "cell_type": "code",
      "source": [
        "# Create a list of unique StockCode values from these rows\n",
        "unique_missing_stockcodes = missing_description_rows['StockCode'].unique().tolist()\n",
        "\n",
        "# Display the unique list of StockCodes\n",
        "print(unique_missing_stockcodes)\n",
        "print(len(unique_missing_stockcodes))"
      ],
      "metadata": {
        "colab": {
          "base_uri": "https://localhost:8080/"
        },
        "id": "nHHXb4p087_6",
        "outputId": "73595c7c-6d6e-434a-cc82-a3e84a0cf474"
      },
      "execution_count": 7,
      "outputs": [
        {
          "output_type": "stream",
          "name": "stdout",
          "text": [
            "[22139, 21134, 22145, 37509, '85226A', 85044, 20950, 37461, 84670, 21777, '84952C', 35951, 22712, 22028, 85067, 21421, 21414, 21653, 21651, 85126, 21814, 21692, 21648, 21172, 21161, '84534B', 22162, 21535, 35965, 21040, 37464, 21836, '47556B', '84562A', 37474, 21807, 21011, '18098C', 21696, 37476, '84569B', 21027, '84898F', '84968B', 85215, 84270, 90167, 22959, 21054, 20684, 84881, 20941, 21248, 21349, 22155, 21488, 84840, 21486, 21595, '85170A', 20849, 84977, 21661, '72803B', 22034, 35958, 22114, 21690, 21763, 22833, 84688, 85008, 21429, '85167B', 22454, 20966, 21801, 21743, 37467, 21357, 84497, '90042C', '17091A', 84773, '85018C', 20878, 21186, '62095B', 72814, '84802A', '90002D', 22218, '84247C', '90042B', 20892, 21324, 20956, 22353, 21431, 79067, 85084, '35004P', '85135B', 22444, 21895, 22591, 71477, 35400, 21491, 21009, 22734, '35001W', 22830, 85064, 21784, 84689, 84675, 84499, '85230F', 22158, 22501, 90112, 22865, 35957, 22198, 90096, '47591D', 21587, 21589, 21275, '85124C', 21667, 84546, '35271S', 82605, 'POST', '84029E', 22323, '17011A', 21632, 22837, 85118, 22866, 22632, 22451, 20854, 84823, 21348, 20699, 21897, 82583, '85188B', '84279B', 35922, 84917, 84455, 84227, 84452, 22146, '84967A', '84967B', '84966B', '84966A', 37413, '79063D', 20798, '85049B', '75013B', '35607A', 22184, 'DCGS0055', 'DCGS0072', 'DCGS0074', '17165D', 20734, 20864, 20910, 21282, 21645, 21805, 21841, 22143, 22765, 35644, 35991, 47579, '84424A', '84509F', 84526, 84664, '84964B', 84975, '85028L', '85028S', '85031C', 85110, 85119, '85179B', '85232B', '90000C', 90095, 90091, 'DCGS0057', '84795C', 22242, 21448, 84748, 84465, '47591B', '85049F', '35004C', '79063C', '79062D', 21355, 35645, '84611B', '84613C', '84872A', 82095, 84306, 84638, 84631, 21087, 35969, 35954, '16207B', 84880, 85150, 22769, 22627, 22847, 22525, 21717, '84801B', 21655, 21785, 16033, 22633, 22867, '62094B', 22588, 22202, '62096A', '90200C', 22024, 20738, 22862, '85061W', '77101A', '15058B', '15058A', 22021, '84459B', 22988, '37379A', 20689, 20671, 85092, '47563B', '37477D', '37444B', 22080, 22272, '85160A', 21973, 37468, '84535A', '84247K', '79302M', 20752, 21503, 21504, 85045, 21484, '84029G', 21555, '85185B', 85096, '72225C', '84563A', 22777, 79321, '85206A', 23348, 20681, 21894, '17013D', 21613, 22791, 20934, 22245, '85049D', 22838, 21000, 22470, 21898, '84596E', 21538, 85197, 21258, 21826, 22764, 90084, '90005A', '85025C', 20785, 82483, '17011F', 21332, 21361, 22173, 21547, 20973, '84849D', '35809B', 21143, 21147, '84559D', 22459, '37444C', 21393, 21445, 71038, 20713, 'DOT', 21228, '35823P', 20857, 20860, 85224, 21051, 21190, 20850, 21283, 84854, 21911, 72821, '46115B', 21614, 22469, 21621, '47593A', 90099, 90104, 22036, 10002, 21527, 21827, 21095, '79172D', 84678, 84683, 22533, 85016, 22052, 20702, 84906, 22168, 22194, 21195, 22482, 15030, '90010A', '90010B', 90173, '90082B', '90035A', 16010, 21472, '82494L', '85185D', '72800F', 72781, 35015, 72793, '72800D', 72789, '72801G', '72798C', '85018B', 22720, '35824B', 84726, '84875A', '84876C', '47570B', 21210, '72799F', '84507B', '84741C', 35972, '84845D', 21278, 21279, 21274, '16020C', '84508B', 21281, 21474, 21684, '62096B', '84569A', '84520B', 10134, 20778, 16254, '16248B', '72051S', '84993B', '84569C', '84569D', 21681, 84990, 20756, 20759, 20758, 20760, '35819B', 35650, '84597C', 21416, '85017A', 20773, 35649, 79336, 21664, 21511, 21910, '81953P', 21518, '84247L', '16169P', '35815P', 44265, '84846A', '82545A', '84251F', 21637, 84218, 21160, 21171, '35603B', 20821, 47502, 84007, 84522, 79331, 21337, 84593, '46037A', '84856S', '84856L', 21738, '84912A', 51008, '84989A', '84251J', '40018F', '84864A', 20774, '35818B', 72815, 21825, 20748, 22033, 35914, '84251B', '10123G', '84597B', 85006, '84899F', 84921, 20775, 20863, '17014A', 22078, '84857C', '84858C', '47341A', '47344B', '62097B', '62043B', 20716, 20731, '84910A', 84919, 20701, '84415B', 20816, '46775D', 85146, 21736, 22415, '84559B', 20820, 21422, '84751B', '84531A', '84531B', '85099F', '35915C', '16202B', '84750B', 84388, 85030, 84666, '85027L', 21316, 79329, 82599, 85200, 85145, 85068, 16015, 22719, 21320, 22084, '44091A', 21923, 20896, 20825, '85136B', 85060, 35920, 35594, 21410, 21330, 84715, 78027, 37333, 22795, 21806, 22521, '85135A', 21269, 21038, '85226C', 85189, '47591A', 37424, 22726, 21412, 90100, '90037D', '85098B', '84873A', '84857A', 84482, 21120, 21854, 84548, 20933, '84750A', 84539, '79192A', 22625, 84685, 47589, 22467, 85144, 22656, 20975, 22136, '35609A', 20851, 84916, 17096, 21363, '84406B', 22073, 21043, 21974, 22524, 84766, 22775, 22035, '84596J', '84912B', 20964, 22926, 21137, 79164, 22087, 35970, 84789, 22060, 21259, 75131, '46126A', 20826, 20967, '37444A', 21318, 85141, '84760S', 23444, 22520, 22518, 20886, '82613B', 20998, '84313C', 22966, '84743C', 21144, 85195, 85198, '47574B', 16053, '16244B', 21609, '84913A', '16151A', 84746, 85214, 35653, 20903, 71143, 20664, '85086A', '35916A', '35916B', '35916C', 16049, 20801, 21904, 40003, 84691, '84804B', 22276, 21399, '35809A', '47021G', '15044B', 21662, 37501, 20906, 84226, 22519, '17007B', 22502, '84796B', 16052, 16043, 20823, 20735, 22968, '37479B', 22698, 22783, '84809A', '84800L', 22192, '79071B', 22480, 21446, 21447, 21937, 85213, 22567, '84706D', '84387A', '85130A', 22443, '84876B', 20658, 22722, 22088, 84576, '85132B', '85232A', '84709B', '47013C', 37423, '79161A', 22164, 22163, 21145, 21817, 35966, 21896, 23574, '35810B', '84857B', 84686, 84944, '16156S', 22050, 48116, 23283, 79337, 21700, 21169, 21635, 22863, '84341B', 22855, 21067, 21578, 44236, 21673, '84874B', 21683, 21865, 75172, '10123C', '16162L', '16162M', 21069, '84925F', 21272, '16169K', '81950B', 84629, 21634, 18007, '84877A', '84797B', '84798B', 21686, '81953B', '81950V', '35819P', 21891, '84402B', 84907, 72127, '85230E', 23084, 15036, 84763, 85087, 'DCGS0071', 'DCGS0070', 'DCGS0066P', 10080, 21868, '81952B', 21792, 21294, '84415A', '84595E', 84584, 21839, '40046A', 20954, 21594, 21858, 21432, 77079, 77081, 21765, 84905, 21781, 22528, 84761, '18097A', '17090D', 21610, 72709, '85040B', '84925D', 84466, 20666, '84927E', '84927D', '79026B', 21658, 21392, '37477B', '37477C', 84799, '84802B', 84847, 23134, 23284, 85127, '85017B', 22044, 22042, 21187, 21391, 23175, '47559B', '84596L', 21246, 22854, 85152, 84920, 21918, 21359, 21033, '84800M', 79000, 22740, 79163, 22461, 85106, 85107, 37342, '90120D', 'gift_0001_30', 'gift_0001_10', 22157, 16046, 22171, 21670, 22606, 21257, 84976, 21907, 21179, 82551, 21165, 21175, 20665, '85032D', 84754, 21820, '90209C', 16259, '84660C', 21682, '47343A', '85232D', 23066, '15060B', 20686, 22268, 23306, '84708B', 23065, 22244, 21311, 20977, 16045, '48173C', 84725, 22453, 22452, 22445, '84877B', 23135, '35592T', '35597D', 23028, 22925, 21174, '17012A', 22665, 22688, 23091, 20980, '35597A', '35591T', '35598A', '84663A', '84927A', 21641, 20793, 85211, '35911A', 21586, 22687, '90082D', 22497, 22893, '18094C', '84660A', 22548, 22409, 21830, 21098, 21244, 22829, 22784, 21809, '84625C', '47504K', 23152, 21163, 20984, 21870, '90210C', '90014C', '90014B', '90164B', '90164A', 22062, 37370, '90209B', 21395, 21394, 22570, 22336, 35933, 23412, 21288, 23268, '84247E', 22848, 21078, 21402, '84596G', 72816, 20669, 21407, 23159, 82567, 23702, 22149, 22729, '85036A', '84877D', 37327, '79030D', 40016, 72818, 22180, 21804, 23400, 23579, 21071, 21181, 'C2', 22827, 22812, '17012B', 22121, 22412, '16207A', 21618, '72802C', 85125, 72817, '37489A', 22125, 22568, '84971L', 23131, 22579, 23541, 22943, 21811, 21638, 21110, 22810, 21116, '47503A', 21927, 22947, 22696, 21758, 21808, 21803, 22689, 84581, 23406, 21620, 85175]\n",
            "960\n"
          ]
        }
      ]
    },
    {
      "cell_type": "code",
      "source": [
        "# Step 1: Filter the rows where 'Description' is not missing and 'StockCode' is in the missing list\n",
        "missing_stockcodes = missing_description_rows['StockCode'].unique().tolist()\n",
        "stockcode_description_dict = df.dropna(subset=['Description']) \\\n",
        "                              [df['StockCode'].isin(missing_stockcodes)] \\\n",
        "                              .drop_duplicates(subset=['StockCode']) \\\n",
        "                              .set_index('StockCode')['Description'].to_dict()\n",
        "\n",
        "# Display the dictionary of StockCode and Description\n",
        "print(stockcode_description_dict)\n",
        "print(len(stockcode_description_dict))"
      ],
      "metadata": {
        "colab": {
          "base_uri": "https://localhost:8080/"
        },
        "id": "iifZ2oTB-am4",
        "outputId": "20f4ec6c-c507-46ef-a54f-93706bf891b2"
      },
      "execution_count": 8,
      "outputs": [
        {
          "output_type": "stream",
          "name": "stdout",
          "text": [
            "{'84406B': 'CREAM CUPID HEARTS COAT HANGER', '84029G': 'KNITTED UNION FLAG HOT WATER BOTTLE', '84029E': 'RED WOOLLY HOTTIE WHITE HEART.', 22633: 'HAND WARMER UNION JACK', 22632: 'HAND WARMER RED POLKA DOT', 21777: 'RECIPE BOX WITH METAL HEART', 22726: 'ALARM CLOCK BAKELIKE GREEN', 10002: 'INFLATABLE POLITICAL GLOBE ', 'POST': 'POSTAGE', 37370: 'RETRO COFFEE MUGS ASSORTED', 21071: 'VINTAGE BILLBOARD DRINK ME MUG', 82483: 'WOOD 2 DRAWER CABINET WHITE FINISH', '82494L': 'WOODEN FRAME ANTIQUE WHITE ', 21258: 'VICTORIAN SEWING BOX LARGE', 22114: 'HOT WATER BOTTLE TEA AND SYMPATHY', 21033: 'JUMBO BAG CHARLIE AND LOLA TOYS', 22139: 'RETROSPOT TEA SET CERAMIC 11 PC ', 84854: 'GIRLY PINK TOOL SET', 82567: 'AIRLINE LOUNGE,METAL SIGN', 21169: \"YOU'RE CONFUSING ME METAL SIGN \", 21175: 'GIN + TONIC DIET METAL SIGN', '37444A': 'YELLOW BREAKFAST CUP AND SAUCER', '37444C': 'PINK BREAKFAST CUP AND SAUCER ', 22719: 'GUMBALL MONOCHROME COAT RACK', 22926: 'IVORY GIANT GARDEN THERMOMETER', 22838: '3 TIER CAKE TIN RED AND CREAM', 22783: 'SET 3 WICKER OVAL BASKETS W LIDS', '35004C': 'SET OF 3 COLOURED  FLYING DUCKS', 21324: 'HANGING MEDINA LANTERN SMALL', 22469: 'HEART OF WICKER SMALL', 22470: 'HEART OF WICKER LARGE', 22168: 'ORGANISER WOOD ANTIQUE WHITE ', 84880: 'WHITE WIRE EGG HOLDER', 79321: 'CHILLI LIGHTS', 21363: 'HOME SMALL WOOD LETTERS', 22242: '5 HOOK HANGER MAGIC TOADSTOOL', 22192: 'BLUE DINER WALL CLOCK', 22968: 'ROSE COTTAGE KEEPSAKE BOX ', 22198: 'LARGE POPCORN HOLDER ', 21484: 'CHICK GREY HOT WATER BOTTLE', 21891: 'TRADITIONAL WOODEN SKIPPING ROPE', 22827: 'RUSTIC  SEVENTEEN DRAWER SIDEBOARD', 22502: 'PICNIC BASKET WICKER SMALL', 22180: 'RETROSPOT LAMP', 22866: 'HAND WARMER SCOTTY DOG DESIGN', 22865: 'HAND WARMER OWL DESIGN', 85152: 'HAND OVER THE CHOCOLATE   SIGN ', 22729: 'ALARM CLOCK BAKELIKE ORANGE', 22867: 'HAND WARMER BIRD DESIGN', 22451: 'SILK PURSE BABUSHKA RED', '17091A': 'LAVENDER INCENSE IN TIN', 20820: 'SILVER LOOKING MIRROR', 85150: 'LADIES & GENTLEMEN METAL SIGN', 21907: \"I'M ON HOLIDAY METAL SIGN\", 22810: 'SET OF 6 T-LIGHTS SNOWMEN', 20966: 'SANDWICH BATH SPONGE', 21743: 'STAR PORTABLE TABLE LIGHT ', '84709B': 'PINK OVAL JEWELLED MIRROR', 21587: 'COSY HOUR GIANT TUBE MATCHES', 22467: 'GUMBALL COAT RACK', '84625C': 'BLUE NEW BAROQUE CANDLESTICK CANDLE', 22848: 'BREAD BIN DINER STYLE PINK', '47570B': 'TEA TIME TABLE CLOTH', 22837: 'HOT WATER BOTTLE BABUSHKA ', '85049D': 'BRIGHT BLUES RIBBONS ', 22533: 'MAGIC DRAWING SLATE BAKE A CAKE ', 21210: 'SET OF 72 RETROSPOT PAPER  DOILIES', 22812: 'PACK 3 BOXES CHRISTMAS PANNETONE', 22568: 'FELTCRAFT CUSHION OWL', 21609: 'SET 12 LAVENDER  BOTANICAL T-LIGHTS', 20669: 'RED HEART LUGGAGE TAG', '72802C': 'VANILLA SCENT CANDLE JEWELLED BOX', 21811: 'CHRISTMAS HANGING HEART WITH BELL', 84906: \"PINK B'FLY C/COVER W BOBBLES\", 20713: 'JUMBO BAG OWLS', 21116: 'OWL DOORSTOP', '85099F': 'JUMBO BAG STRAWBERRY', 21244: 'BLUE POLKADOT PLATE ', 21738: 'COSY SLIPPER SHOES SMALL  RED ', 21448: '12 DAISY PEGS IN WOOD BOX', 22570: 'FELTCRAFT CUSHION RABBIT', 22988: 'SOLDIERS EGG CUP ', '35591T': 'TURQUOISE CHRISTMAS TREE ', 22149: 'FELTCRAFT 6 FLOWER FRIENDS', 22775: 'PURPLE DRAWERKNOB ACRYLIC EDWARDIAN', 22829: 'SWEETHEART WIRE WALL TIDY', 84678: 'CLASSICAL ROSE SMALL VASE', 22480: 'RED TEA TOWEL CLASSIC DESIGN', 20774: 'GREEN FERN NOTEBOOK', 20773: 'BLUE PAISLEY NOTEBOOK', 21651: 'HANGING GLASS ETCHED TEALIGHT', 21586: 'KINGS CHOICE GIANT TUBE MATCHES', 84754: 'S/15 SILVER GLASS BAUBLES IN BAG', 22925: 'BLUE GIANT GARDEN THERMOMETER', 21259: 'VICTORIAN SEWING BOX SMALL ', 21257: 'VICTORIAN SEWING BOX MEDIUM', '90200C': 'BLUE SWEETHEART BRACELET', 21814: 'HEART T-LIGHT HOLDER ', 20878: 'SET/9 CHRISTMAS T-LIGHTS SCENTED ', '48173C': 'DOORMAT BLACK FLOCK ', 72818: 'CHRISTMAS DECOUPAGE CANDLE', 21137: 'BLACK RECORD COVER FRAME', 20977: '36 PENCILS TUBE WOODLAND', 21621: 'VINTAGE UNION JACK BUNTING', 22087: 'PAPER BUNTING WHITE LACE', 21895: \"POTTING SHED SOW 'N' GROW SET\", 21190: 'PINK HEARTS PAPER GARLAND', 21894: 'POTTING SHED SEED ENVELOPES', 22712: 'CARD DOLLY GIRL ', 22024: 'RAINY LADIES BIRTHDAY CARD', 21488: 'RED WHITE SCARF  HOT WATER BOTTLE', 22784: 'LANTERN CREAM GAZEBO ', 22588: 'CARD HOLDER GINGHAM HEART', 21486: 'PINK HEART DOTS HOT WATER BOTTLE', 21804: 'WHITE CHRISTMAS GARLAND STARS TREES', '84596E': 'SMALL LICORICE DES PINK BOWL', 22501: 'PICNIC BASKET WICKER LARGE', 22854: 'CREAM SWEETHEART EGG HOLDER', 21664: 'RIDGED GLASS STORAGE JAR CREAM LID', 21098: 'CHRISTMAS TOILET ROLL', '84563A': 'PINK & WHITE BREAKFAST TRAY', 22943: 'CHRISTMAS LIGHTS 10 VINTAGE BAUBLES', 21826: 'EIGHT PIECE DINOSAUR SET', 22548: 'HEADS AND TAILS SPORTING FUN', 20973: '12 PENCIL SMALL TUBE WOODLAND', '15044B': 'BLUE PAPER PARASOL ', 22173: 'METAL 4 HOOK HANGER FRENCH CHATEAU', 22625: 'RED KITCHEN SCALES', 22244: '3 HOOK HANGER MAGIC GARDEN', '84569B': 'PACK 3 FIRE ENGINE/CAR PATCHES', 22454: 'MEASURING TAPE BABUSHKA RED', 22453: 'MEASURING TAPE BABUSHKA BLUE', 22445: 'PENCIL CASE LIFE IS BEAUTIFUL', 22947: 'WOODEN ADVENT CALENDAR RED', 22164: 'STRING OF STARS CARD HOLDER', 22627: 'MINT KITCHEN SCALES', 21038: 'SET/4 MODERN VINTAGE COTTON NAPKINS', 21179: 'NO JUNK MAIL METAL SIGN', 21662: 'VINTAGE GLASS COFFEE CADDY', 21658: 'GLASS  BEURRE DISH', 22194: 'BLACK DINER WALL CLOCK', 22688: 'DOORMAT PEACE ON EARTH BLUE', 22444: 'GROW YOUR OWN PLANT IN A CAN ', 22966: 'GINGERBREAD MAN COOKIE CUTTER', 21870: 'I CAN ONLY PLEASE ONE PERSON MUG', 22665: 'RECIPE BOX BLUE SKETCHBOOK DESIGN', 22567: '20 DOLLY PEGS RETROSPOT', 22740: 'POLKADOT PEN', 22121: 'NOEL WOODEN BLOCK LETTERS ', 72817: 'SET OF 2 CHRISTMAS DECOUPAGE CANDLE', 22791: 'T-LIGHT GLASS FLUTED ANTIQUE', 21690: 'SILVER  CANDLEPOT JARDIN ', 22088: 'PAPER BUNTING COLOURED LACE', 21143: 'ANTIQUE GLASS HEART DECORATION ', 84944: 'SET OF 6 KASHMIR FOLKART BAUBLES', 22171: '3 HOOK PHOTO SHELF ANTIQUE WHITE', 85067: 'CREAM SWEETHEART WALL CABINET', 21429: 'RED GINGHAM ROSE JEWELLERY BOX', '85135B': 'BLUE DRAGONFLY HELICOPTER', 'C2': 'CARRIAGE', 21801: 'CHRISTMAS TREE DECORATION WITH BELL', 21803: 'CHRISTMAS TREE STAR DECORATION', 21809: 'CHRISTMAS HANGING TREE WITH BELL', 21911: 'GARDEN METAL SIGN ', 22080: 'RIBBON REEL POLKADOTS ', 22155: 'STAR DECORATION RUSTIC', 22162: 'HEART GARLAND RUSTIC PADDED', 22276: 'WASH BAG VINTAGE ROSE PAISLEY', 22336: 'DOVE DECORATION PAINTED ZINC ', 22497: 'SET OF 2 TINS VINTAGE BATHROOM ', 22519: 'CHILDS GARDEN BRUSH PINK', 22734: 'SET OF 6 RIBBONS VINTAGE CHRISTMAS', 22769: 'CHALKBOARD KITCHEN ORGANISER', 22847: 'BREAD BIN DINER STYLE IVORY', 22862: 'LOVE HEART NAPKIN BOX ', 35957: 'SMALLFOLKART BAUBLE CHRISTMAS DEC', 37476: 'CONDIMENT TRAY 4 BOWLS AND 4 SPOONS', '47559B': 'TEA TIME OVEN GLOVE', '47591B': 'SCOTTIES CHILDRENS APRON', '47591D': 'PINK FAIRY CAKE CHILDRENS APRON', '72799F': 'IVORY PILLAR CANDLE GOLD FLOCK', 72816: 'SET/3 CHRISTMAS DECOUPAGE CANDLES', '79030D': 'TUMBLER, BAROQUE', 82551: 'LAUNDRY 15C METAL SIGN', 82583: 'HOT BATHS METAL SIGN', '82613B': 'METAL SIGN,CUPCAKE SINGLE HOOK', 85016: 'SET OF 6 VINTAGE NOTELETS KIT', '85017A': 'ENVELOPE 50 ROMANTIC IMAGES', '85017B': 'ENVELOPE 50 BLOSSOM IMAGES', '85032D': 'YULETIDE IMAGES GIFT WRAP SET', 85064: 'CREAM SWEETHEART LETTER RACK', 85127: 'SMALL SQUARE CUT GLASS CANDLESTICK', '85232B': 'SET OF 3 BABUSHKA STACKING TINS', 90099: 'NECKLACE+BRACELET SET BLUE HIBISCUS', '90209B': 'GREEN ENAMEL+GLASS HAIR COMB', 'DOT': 'DOTCOM POSTAGE', '84534B': 'FAIRY CAKE NOTEBOOK A5 SIZE', 84581: 'DOG TOY WITH PINK CROCHET SKIRT', '84912B': 'GREEN ROSE WASHBAG', '84913A': 'SOFT PINK ROSE TOWEL ', 20854: 'BLUE PATCH PURSE PINK HEART', '17011F': 'ORIGAMI SANDLEWOOD INCENSE+FLOWER', '17012A': 'ORIGAMI VANILLA INCENSE/CANDLE SET ', '17012B': 'ORIGAMI JASMINE INCENSE/CANDLE SET', '18098C': 'PORCELAIN BUTTERFLY OIL BURNER', 20658: 'RED RETROSPOT LUGGAGE TAG', 20684: 'STRAWBERRY DREAM CHILDS UMBRELLA', 20735: 'BLACK MINI TAPE MEASURE ', 20956: 'PORCELAIN T-LIGHT HOLDERS ASSORTED', 20975: '12 PENCILS SMALL TUBE RED RETROSPOT', 21000: 'ROSE DU SUD COSMETICS BAG', 21069: 'VINTAGE BILLBOARD TEA MUG', 21147: 'JINGLE BELLS TREE DECORATION', 21165: 'BEWARE OF THE CAT METAL SIGN ', 21174: 'POTTERING IN THE SHED METAL SIGN', 21195: 'PINK  HONEYCOMB PAPER BALL ', 21349: 'IVY HEART WREATH', 21407: 'BROWN CHECK CAT DOORSTOP ', 21634: 'ASSORTED MINI MADRAS NOTEBOOK', 21641: 'ASSORTED TUTTI FRUTTI KEYRING BALL', 21758: 'VINTAGE SHELLS PRINT', 22245: 'HOOK, 1 HANGER ,MAGIC GARDEN', 22482: 'BLUE TEA TOWEL CLASSIC DESIGN', 84920: 'PINK FLOWER FABRIC PONY', 21670: 'BLUE SPOT CERAMIC DRAWER KNOB', 84685: 'BEACH HUT KEY CABINET', 22795: 'SWEETHEART RECIPE BOOK STAND', '79302M': 'ART LIGHTS,FUNK MONKEY', 21181: 'PLEASE ONE PERSON METAL SIGN', 22765: 'NEWSPAPER STAND', 22579: 'WOODEN TREE CHRISTMAS SCANDINAVIAN', 21817: 'GLITTER CHRISTMAS TREE', 21808: 'CHRISTMAS GARLAND STARS,TREES', 21781: 'MA CAMPAGNE CUTLERY BOX', 22696: 'WICKER WREATH LARGE', 35954: 'SMALL FOLKART STAR CHRISTMAS DEC', '84760S': 'SMALL HANGING GLASS+ZINC LANTERN', 85045: 'GREEN CHRISTMAS TREE STRING 20LIGHT', 22855: 'FINE WICKER HEART ', 71477: 'COLOUR GLASS. STAR T-LIGHT HOLDER', 21620: 'SET OF 4 ROSE BOTANICAL CANDLES', 22136: 'LOVE HEART SOCK HANGER', '17014A': 'ORIGAMI VANILLA INCENSE CONES', 20681: 'PINK POLKADOT CHILDRENS UMBRELLA', 20699: 'MOUSEY LONG LEGS SOFT TOY', 20752: 'BLUE POLKADOT WASHING UP GLOVES', 21067: 'VINTAGE RED TEATIME MUG', 21110: 'LARGE CAKE TOWEL PINK SPOTS', 21272: 'SALLE DE BAIN HOOK', 21279: 'VINTAGE KITCHEN PRINT FRUITS', 21281: 'VINTAGE KITCHEN PRINT SEAFOOD', 21288: 'STRIPEY CHOCOLATE NESTING BOXES', 21447: '12 IVORY ROSE PEG PLACE SETTINGS', 21547: 'CERAMIC BIRDHOUSE CRESTED TIT SMALL', 21594: \"Dr. Jam's Arouzer Stress Ball\", 21638: 'ASSORTED TUTTI FRUTTI NOTEBOOK', 21648: 'ASSORTED TUTTI FRUTTI SMALL PURSE', 21684: 'SMALL MEDINA STAMPED METAL BOWL ', 21700: 'BIG DOUGHNUT FRIDGE MAGNETS', 21820: 'GLITTER HEART GARLAND WITH BELLS ', 21830: 'ASSORTED CREEPY CRAWLIES', 21868: 'POTTING SHED TEA MUG', 21896: 'POTTING SHED TWINE', 21974: 'SET OF 36 PAISLEY FLOWER DOILIES', 22078: 'RIBBON REEL LACE DESIGN ', 22084: 'PAPER CHAIN KIT EMPIRE', 22184: 'CAKE STAND VICTORIAN FILIGREE LARGE', 22409: 'MONEY BOX BISCUITS DESIGN', 22459: 'CAST IRON HOOK GARDEN TROWEL', 22863: 'SOAP DISH BROCANTE', '35916B': 'BLUE FELT HANGING HEART W FLOWER', '35916C': 'PINK FELT HANGING HEART W FLOWER', 35965: 'FOLKART HEART NAPKIN RINGS', '46775D': 'SUNSET COLOUR CHUNKY KNITTED THROW', 79067: 'CORONA MEXICAN TRAY', 82599: \"FANNY'S REST STOPMETAL SIGN\", '84459B': 'YELLOW METAL CHICKEN HEART ', '84520B': 'PACK 20 ENGLISH ROSE PAPER NAPKINS', '84559B': '3D SHEET OF CAT STICKERS', '84596J': 'MIXED NUTS LIGHT GREEN BOWL', '84663A': 'GRASS HOPPER WOODEN WALL CLOCK ', '84856L': 'LARGE TAHITI BEACH BAG', 84976: 'RECTANGULAR SHAPED MIRROR', 85008: 'SET OF 3 CONEY ISLAND OVAL BOXES', '85040B': 'SET/4 BLUE FLOWER CANDLES IN BOWL', '85232D': 'SET/3 DECOUPAGE STACKING TINS', 90173: 'PAIR BUTTERFLY HAIR CLIPS', '90209C': 'PINK ENAMEL+GLASS HAIR COMB', 20665: 'RED RETROSPOT PURSE ', 21472: 'LADYBIRD + BEE RAFFIA FOOD COVER', 22524: 'CHILDRENS GARDEN GLOVES BLUE', '72798C': 'SET/4 GARDEN ROSE DINNER CANDLE', '35271S': 'GOLD PRINT PAPER BAG', 21421: 'PORCELAIN ROSE LARGE ', 21422: 'PORCELAIN ROSE SMALL', 22272: 'FELTCRAFT DOLL MARIA', 21172: 'PARTY METAL SIGN ', '62096A': 'PINK/YELLOW FLOWERS HANDBAG', 22044: 'CHRISTMAS CARD STACK OF PRESENTS', 21918: 'SET 12 KIDS COLOUR  CHALK STICKS', 85175: 'CACTI T-LIGHT CANDLES', 21355: 'TOAST ITS - I LOVE YOU ', 21518: 'BANK ACCOUNT  GREETING  CARD ', 22028: 'PENNY FARTHING BIRTHDAY CARD', 21673: 'WHITE SPOT BLUE CERAMIC DRAWER KNOB', 22777: 'GLASS BELL JAR LARGE', 16046: 'TEATIME PEN CASE & PENS', 20967: 'GREY FLORAL FELTCRAFT SHOULDER BAG', 21527: 'RED RETROSPOT TRADITIONAL TEAPOT ', 21538: 'DAIRY MAID  PUDDING BOWL', 21163: 'DO NOT TOUCH MY STUFF DOOR HANGER ', 21161: 'KEEP OUT BOYS DOOR HANGER ', '85061W': 'WHITE JEWELLED HEART DECORATION', 40016: 'CHINESE DRAGON PAPER LANTERNS', 22202: 'MILK PAN PINK POLKADOT', '84341B': 'SMALL PINK MAGIC CHRISTMAS TREE', '84846A': 'SCENTED CANDLE IN DIGITALIS TIN', 20798: 'CLEAR MILKSHAKE GLASS', '85132B': 'CHARLIE AND LOLA TABLE TINS', 22893: 'MINI CAKE STAND T-LIGHT HOLDER', 21784: 'SHOE SHINE BOX ', '17090D': 'VANILLA INCENSE 40 CONES IN TIN', 72127: 'COLUMBIAN CANDLE ROUND ', 84763: 'ZINC FINISH 15CM PLANTER POTS', 21504: 'SKULLS GREETING CARD', 20984: '12 PENCILS TALL TUBE POSY', '85025C': 'PINK HEART SHAPE PHOTO FRAME', '85124C': 'GREEN JUICY FRUIT PHOTO FRAME', '16156S': 'WRAP PINK FAIRY CAKES ', '85049F': 'BABY BOOM RIBBONS ', '90082D': 'DIAMANTE BOW BROOCH BLACK COLOUR', '90082B': 'DIAMANTE BOW BROOCH RED COLOUR', 85106: 'CUT GLASS HEXAGON T-LIGHT HOLDER', 21416: 'CLAM SHELL LARGE', '18097A': 'PINK TALL PORCELAIN T-LIGHT HOLDER ', 20759: 'CHRYSANTHEMUM POCKET BOOK ', 20760: 'GARDEN PATH POCKET BOOK', '85185D': 'FROG SOCK PUPPET', '85185B': 'PINK HORSE SOCK PUPPET', 79164: 'BLACK WINE GLASS', 84683: 'CLASSICAL ROSE CANDLESTAND', 79163: 'BLACK CHAMPAGNE GLASS', '15060B': 'FAIRY CAKE DESIGN UMBRELLA', 15036: 'ASSORTED COLOURS SILK FAN', 22452: 'MEASURING TAPE BABUSHKA PINK', '84952C': 'MIRROR LOVE BIRD T-LIGHT HOLDER', 21392: 'RED POLKADOT PUDDING BOWL', 21393: 'BLUE POLKADOT PUDDING BOWL', 85144: 'JARDIN ETCHED GLASS BUTTER DISH', 21578: 'WOODLAND DESIGN  COTTON TOTE BAG', 21357: 'TOAST ITS - DINOSAUR', 21399: 'BLUE POLKADOT COFFEE MUG', '90002D': 'FLOWER BURST SILVER RING CRYSTAL', 22042: 'CHRISTMAS CARD SINGING ANGEL', 21927: 'BLUE/CREAM STRIPE CUSHION COVER ', 22060: 'LARGE CAKE STAND HANGING HEARTS', 85214: 'TUB 24 PINK FLOWER PEGS', '47021G': 'SET/6 BEAD COASTERS GAUZE BAG GOLD', 22443: 'GROW YOUR OWN HERBS SET OF 3', 21807: 'WHITE CHRISTMAS STAR DECORATION', 22689: 'DOORMAT MERRY CHRISTMAS RED ', 22591: 'CARDHOLDER GINGHAM CHRISTMAS TREE', 22158: '3 HEARTS HANGING DECORATION RUSTIC', 79000: 'MOROCCAN TEA GLASS', '85049B': 'LUSH GREENS RIBBONS', 20941: 'FROG CANDLE', 21361: 'LOVE LARGE WOOD LETTERS ', 22412: 'METAL SIGN NEIGHBOURHOOD WITCH ', 22525: 'CHILDRENS GARDEN GLOVES PINK', '10123C': 'HEARTS WRAPPING TAPE ', 20886: 'BOX OF 9 PEBBLE CANDLES', 21865: 'PINK UNION JACK  PASSPORT COVER ', 22518: 'CHILDS GARDEN BRUSH BLUE', 20998: 'ROSE DU SUD OVEN GLOVE', '84925D': 'LA PALMIERA WALL THERMOMETER', 21078: 'SET/20 STRAWBERRY PAPER NAPKINS ', 22163: 'HEART STRING MEMO HOLDER HANGING', 71143: 'SILVER BOOK MARK WITH BEADS', 75131: 'METAL TUBE CHIME ON BAMBOO', 84270: 'ASSTD DESIGN BUBBLE GUM RING', '84660C': 'PINK STITCHED WALL CLOCK', '84927A': 'WAKE UP COCKEREL TILE HOOK', '85167B': 'BLACK GRAND BAROQUE PHOTO FRAME', 20686: \"DOLLY MIXTURE CHILDREN'S UMBRELLA\", 21051: 'RIBBONS PURSE ', 21446: '12 RED ROSE PEG PLACE SETTINGS', 22959: 'WRAP CHRISTMAS VILLAGE', 21027: 'NINJA RABBIT PINK', 84539: 'KNITTED RABBIT DOLL ', 90096: 'NECKLACE+BRACELET SET BLUE BLOSSOM', 21095: 'SET/6 POSIES PAPER PLATES', 37464: 'ROBOT MUG IN DISPLAY BOX', '84247K': 'FOLK ART GREETING CARD,pack/12', 22035: 'VINTAGE CARAVAN GREETING CARD ', '47504K': 'ENGLISH ROSE GARDEN SECATEURS', '37489A': 'YELLOW/PINK FLOWER DESIGN BIG MUG', '85130A': 'BEADED PEARL HEART WHITE LARGE', '85230F': 'JASMINE VOTIVE CANDLE', 20734: 'SILVER MINI TAPE MEASURE ', 35970: 'ZINC FOLKART SLEIGH BELLS', '84849D': 'HOT BATHS SOAP HOLDER', 20910: 'VINTAGE PHOTO ALBUM PARIS DAYS', '84877D': 'BLUE ROUND COMPACT MIRROR', '47343A': 'FUSCHIA FLOWER PURSE WITH BEADS', 21054: \"NURSE'S BAG SOFT TOY\", '84562A': 'PINK/WHITE RIBBED MELAMINE JUG', 21040: 'MODERN VINTAGE COTTON SHOPPING BAG', 21937: 'STRAWBERRY   PICNIC BAG', 79337: 'BLUE FLOCK GLASS CANDLEHOLDER', '90010A': 'MIDNIGHT BLUE GLASS/SILVER BRACELET', '90010B': 'BLACK/WHITE GLASS/SILVER BRACELET', 21275: '?', '35810B': 'ENAMEL BLUE RIM COFFEE CONTAINER', 21011: 'GLITTER SNOW PEAR TREE DECORATION', '72800D': '4 BLUE DINNER CANDLES SILVER FLOCK', 90167: 'BEADED LOVE HEART JEWELLERY SET', '84898F': 'YELLOW FLOWERS FELT HANDBAG KIT', 22415: 'WHITE TISSUE REAM', '84508B': 'STRIPES DESIGN TEDDY', 21555: 'CERAMIC STRAWBERRY TRINKET TRAY', '84993B': '75 BLACK PETIT FOUR CASES', '85206A': 'CREAM FELT EASTER EGG BASKET', 22021: 'BLUE FELT EASTER EGG BASKET', '84596G': 'SMALL CHOCOLATES PINK BOWL', 21445: '12 PINK ROSE PEG PLACE SETTINGS', '77101A': 'UNION FLAG WINDSOCK', 21294: 'ETCHED GLASS COASTER', 21836: 'GINGHAM OVEN GLOVE RED HEART ', 21682: 'LARGE MEDINA STAMPED METAL BOWL ', 21635: 'MADRAS NOTEBOOK LARGE ', 35653: 'VINTAGE BEAD NOTEBOOK', '84569D': 'PACK 6 HEART/ICE-CREAM PATCHES', 84921: 'CREAM AND PINK FLOWERS PONY ', 21785: 'RAIN PONCHO ', '84874B': 'BLUE TRAVEL FIRST AID KIT', '72051S': 'BAG OF SILVER STONES', 47579: 'TEA TIME BREAKFAST BASKET', 21187: 'WHITE BELL HONEYCOMB PAPER GARLAND ', 21696: 'SMALL SILVER TRELLIS CANDLEPOT', 22034: 'ROBIN CHRISTMAS CARD', 20980: '36 PENCILS TUBE POSY', 35958: 'FOLKART ZINC STAR CHRISTMAS DEC', '75013B': 'STRING OF 8 BUTTERFLIES,PINK', 22830: 'UTILTY CABINET WITH HOOKS', 20748: 'KENSINGTON COFFEE SET', 20702: 'PINK PADDED MOBILE', 21683: 'MEDIUM MEDINA STAMPED METAL BOWL ', 20671: 'BLUE TEATIME PRINT BOWL ', 21904: 'HOUSE WRECKING METAL SIGN ', 37509: 'NEW ENGLAND MUG W GIFT BOX', 84773: 'RED ROSE AND LACE C/COVER', '84597C': 'RETRO PINK BALL ASHTRAY ', 21311: 'SET/4 BIRD MIRROR MAGNETS ', 37461: 'FUNKY MONKEY MUG', '84596L': 'BISCUITS SMALL BOWL LIGHT BLUE', 85215: 'ASSORTED CHEESE FRIDGE MAGNETS', '84531A': 'PINK KNITTED EGG COSY', '84531B': 'BLUE KNITTED EGG COSY', 21910: 'WAY OUT METAL SIGN ', 22461: 'SAVOY ART DECO CLOCK', 22833: 'HALL CABINET WITH 3 DRAWERS', 84881: 'BLUE WIRE SPIRAL CANDLE HOLDER', 21613: 'S/12 VANILLA  BOTANICAL T-LIGHTS', '84809A': 'WHITE CHRYSANTHEMUMS ART FLOWER', 22157: 'ANGEL DECORATION WITH LACE PADDED', 37327: 'ASSTD MULTICOLOUR CIRCLES MUG', '85027L': 'FRENCH CHATEAU LARGE PLATTER ', 16010: 'FOLDING CAMPING SCISSOR W/KNIF & S', '35001W': 'HAND OPEN SHAPE DECO.WHITE', 51008: 'AFGHAN SLIPPER SOCK PAIR', 22052: 'VINTAGE CARAVAN GIFT WRAP', 84840: 'SWEETHEART CARRY-ALL BASKET', 22073: 'RED RETROSPOT STORAGE JAR', 20716: 'PARTY FOOD SHOPPER BAG', 21359: 'RELAX LARGE WOOD LETTERS', 21632: 'VINTAGE PINK DECORATIVE PARASOL', '62094B': 'TURQ ICE CREAM BUM BAG ', 84789: 'ENCHANTED BIRD PLANT CAGE', 85096: 'HILDA CANDY SPOT RABBIT', '90014B': 'GOLD M PEARL  ORBIT NECKLACE', 22521: 'CHILDS GARDEN TROWEL PINK', 21391: 'FRENCH LAVENDER SCENT HEART', 21618: '4 WILDFLOWER BOTANICAL CANDLES', '35916A': 'YELLOW FELT HANGING HEART W FLOWER', 18007: 'ESSENTIAL BALM 3.5g TIN IN ENVELOPE', 22606: 'WOODEN SKITTLES GARDEN SET', '37479B': 'CUBIC MUG FLOCK BLUE ON BROWN', 20903: 'VINTAGE KEEPSAKE BOX TRAVELOGUE', 21973: 'SET OF 36 MUSHROOM PAPER DOILIES', 35400: 'WOODEN BOX ADVENT CALENDAR ', '72801G': '4 BURGUNDY WINE DINNER CANDLES', '35597A': 'DUSTY PINK CHRISTMAS TREE 30CM', 84522: 'PINK PARTY SUNGLASSES', 20731: 'POSY CANDY BAG', '84912A': 'PINK ROSE WASHBAG', '85036A': 'GARDENIA 1 WICK MORRIS BOXED CANDLE', 21692: 'SILVER LATTICE VANILLA CANDLE POT', '84569A': 'PACK 3 IRON ON DOG PATCHES', 20775: 'DAISY NOTEBOOK ', 21827: 'EIGHT PIECE CREEPY CRAWLIE SET', '17007B': 'S/3 POT POURI CUSHIONS BLUE COLOURS', 84916: 'HAND TOWEL PALE BLUE W FLOWERS', '18094C': 'WHITE AND BLUE CERAMIC OIL BURNER', '46115B': 'GREEN POP ART MAO CUSHION COVER ', 84975: 'HEART SHAPED MIRROR', 22050: 'PINK PAISLEY ROSE GIFT WRAP', '84925F': 'PSYCHEDELIC WALL THERMOMETER', '16169K': 'WRAP FOLK ART', 21171: 'BATHROOM METAL SIGN ', 21595: \"Dad's Cab Electronic Meter\", 35914: 'PINK CHICK EGG WARMER + EGG CUP', 37474: 'SET/4 2 TONE EGG SHAPE MIXING BOWLS', 84917: 'WHITE HAND TOWEL WITH BUTTERFLY', 85087: 'CANDY SPOT CUSHION COVER', 85125: 'SMALL ROUND CUT GLASS CANDLESTICK', 90104: 'PURPLE FRANGIPANI HAIRCLIP', 20857: 'BLUE ROSE PATCH PURSE PINK BUTTERFL', 22520: 'CHILDS GARDEN TROWEL BLUE ', 22353: 'LUNCH BOX WITH CUTLERY FAIRY CAKES ', 84725: 'FREESTYLE CANVAS ART PICTURE', 84388: 'WISE MAN STAR SHAPE EGG PAN', 16052: 'TEATIME PUSH DOWN RUBBER', 20801: 'LARGE PINK GLASS SUNDAE DISH', 20892: 'SET/3 TALL GLASS CANDLE HOLDER PINK', 21316: 'SMALL CHUNKY GLASS ROMAN  BOWL', '35809A': 'ENAMEL PINK TEA CONTAINER', 37501: 'TEA TIME TEA SET IN GIFT BOX', '90005A': 'JADE GREEN ENAMEL HAIR COMB', '90210C': 'RED   ACRYLIC FACETED BANGLE', 22528: 'GARDENERS KNEELING PAD', 21410: 'COUNTRY COTTAGE  DOORSTOP GREEN', 85119: 'WATERING CAN SINGLE HOOK PISTACHIO', '84247E': 'PACK/12 XMAS FUN CARD', '85170A': 'SET/6 IVORY BIRD T-LIGHT CANDLES', 84497: 'BUTTONS AND STRIPES NOTEBOOK ', 37467: 'PIG MUG IN TWO COLOUR DESIGNS', '84251B': 'GREETING CARD, STICKY GORDON', '84927D': 'LA PALMIERA TILE HOOK', 85213: 'MINI  ZINC GARDEN DECORATIONS ', 21269: 'ANTIQUE CREAM CUTLERY SHELF ', 21792: 'CLASSIC FRENCH STYLE BASKET GREEN ', 85068: 'CREAM SWEETHEART SHELF + HOOKS', 21686: 'MEDINA STAMPED METAL STOOL', 71038: 'WHITE HANGING BEADS CANDLE HOLDER', '84613C': 'BLUE NEW BAROQUE FLOCK CANDLESTICK', '84910A': 'PINK PAISLEY CUSHION COVER ', 21246: 'RED RETROSPOT BIG BOWL', 48116: 'DOORMAT MULTICOLOUR STRIPE', 72709: 'IVORY SCULPTED RND CANDLE ', 85118: 'HEART T-LIGHT HOLDER', '84415B': 'BLUE FLOCK CUSHION COVER ', 20906: 'VINTAGE NOTEBOOK BEAUTY GIRL', '17013D': 'ORIGAMI ROSE INCENSE IN TUBE', 17096: 'ASSORTED LAQUERED INCENSE HOLDERS', 21717: 'EASTER TIN BUCKET', 22145: 'CHRISTMAS CRAFT HEART STOCKING ', '84706D': 'CHERRY BLOSSOM TABLE CLOCK ', '84247L': 'FAWN AND MUSHROOM GREETING CARD', 22698: 'PINK REGENCY TEACUP AND SAUCER', 85107: 'CUT GLASS T-LIGHT HOLDER OCTAGON', 40003: 'WHITE BAMBOO RIBS LAMPSHADE', 21535: 'RED RETROSPOT SMALL MILK JUG', 21120: '*Boombox Ipod Classic', 16015: 'MEDIUM CHINESE STYLE SCISSOR', '37444B': 'BLUE BREAKFAST CUP AND SAUCER ', 37333: 'RETRO \"TEA FOR ONE\" ', 20778: 'GARDEN PATH NOTEBOOK ', 20758: 'ABSTRACT CIRCLES POCKET BOOK', 21144: 'PINK POODLE HANGING DECORATION ', 72815: '3 WICK CHRISTMAS BRIAR CANDLE ', 84748: 'FOLK FELT HANGING MULTICOL GARLAND', '17165D': \"ASS COL LARGE SAND FROG P'WEIGHT\", '15058A': 'BLUE POLKADOT GARDEN PARASOL', 85006: 'SET 4 NURSERY DES ROUND BOXES', 84638: 'SMALL KITCHEN FLOWER POTS PLAQUE', '16169P': 'WRAP GREEN RUSSIAN FOLKART ', '84595E': 'LARGE TORTILLA DESIGN RED BOWL', '85086A': 'CANDY SPOT HEART DECORATION', 85084: 'HOLLY TOP CHRISTMAS STOCKING', '81950V': 'FLOWER PURPLE CLOCK W/SUCKER', 84631: 'FRUIT TREE AND BIRDS WALL PLAQUE', 84799: 'SPRIG LAVENDER ARTIFICIAL FLOWER', '35004P': 'SET OF 3 PINK FLYING DUCKS', '15058B': 'PINK POLKADOT GARDEN PARASOL', 21318: 'GLASS CHALICE BLUE SMALL ', '35609A': 'PINK FEATHER CHRISTMAS DECORATION', 84688: 'BEACH HUT DESIGN BLACKBOARD', 85211: 'S/4 GROOVY CAT MAGNETS', '85230E': 'STRAWBRY SCENTED VOTIVE CANDLE', 16033: 'MINI HIGHLIGHTER PENS', 20793: 'BLUE TILED TRAY', 20664: 'TROPICAL HOLIDAY PURSE ', '47593A': 'CAROUSEL PONIES BABY BIB', 20666: 'ECONOMY HOLIDAY PURSE', 82605: 'OLD DOC RUSSEL METAL SIGN', '85136B': 'BLUE SHARK HELICOPTER', 21248: 'DOOR HANGER  MUM + DADS ROOM', 21736: 'GOLD SCROLL GLASS T-LIGHT HOLDER', '84876B': 'GREEN HEART COMPACT MIRROR', '84927E': 'FLOWERS TILE HOOK', '90120D': 'WHITE MURANO TWIST BRACELET', 84584: 'PINK GINGHAM CAT WITH SCARF', '85188B': 'PINK METAL SWINGING BUNNY', '90164A': 'PINK ROSEBUD PEARL BRACELET', '90164B': 'WHITE  ROSEBUD PEARL BRACELET', 20826: 'SILVER APERITIF GLASS', 21145: 'ANTIQUE GLASS PLACE SETTING', 22722: 'SET OF 6 SPICE TINS PANTRY DESIGN', 22720: 'SET OF 3 CAKE TINS PANTRY DESIGN ', '84313C': 'ORANGE TV TRAY TABLE ', 84823: 'DANISH ROSE FOLDING CHAIR', 22656: 'VINTAGE BLUE KITCHEN CABINET', 84766: 'SILVER ROCOCO CANDLE STICK', 20860: 'GOLD COSMETICS BAG WITH BUTTERFLY', 85195: 'HANGING HEART BASKET', '84660A': 'WHITE STITCHED WALL CLOCK', '47503A': 'ASS FLORAL PRINT MULTI SCREWDRIVER', '84597B': 'RETRO BROWN BALL ASHTRAY ', 84666: 'SQUARE CHERRY BLOSSOM CABINET', 21160: 'KEEP OUT GIRLS DOOR HANGER ', 21186: 'WHITE DOVE HONEYCOMB PAPER GARLAND', 85141: 'JARDIN ETCHED GLASS FRUITBOWL', '90035A': 'PEARL & SHELL 42\"NECKL. GREEN', 79329: 'PINK FLOCK GLASS CANDLEHOLDER', 85146: 'JARDIN ETCHED GLASS SMALL BELL JAR', 22033: 'BOTANICAL ROSE GREETING CARD', '84751B': 'BLACK MEDIUM GLASS CAKE STAND', '84507B': 'STRIPES DESIGN MONKEY DOLL', 22218: 'CAKE STAND LACE WHITE', 22062: 'CERAMIC BOWL WITH LOVE HEART DESIGN', 21348: 'PINK SPOTS CHOCOLATE NESTING BOXES ', '84877B': 'GREEN ROUND COMPACT MIRROR', '35911A': 'MULTICOLOUR RABBIT EGG WARMER', '85031C': 'CURIOUS IMAGES SCRAP BOOK SET', 21043: 'APRON MODERN VINTAGE COTTON', 37342: 'POLKADOT COFFEE CUP & SAUCER PINK', '84750B': 'BLACK SMALL GLASS CAKE STAND', 21491: 'SET OF THREE VINTAGE GIFT WRAPS', '35607A': 'PINK FLUFFY CHRISTMAS DECORATION', '84857C': 'PINK MONTE CARLO HANDBAG', 20954: '*USB Office Mirror Ball', 35933: 'PINK STOCKING CHRISTMAS DECORATION', '85232A': 'SET/3 POLKADOT STACKING TINS', '72225C': 'LAVENDER SCENT CAKE CANDLE', 20934: 'SET/3 POT PLANT CANDLES', 21402: 'RED  EGG  SPOON', '90042C': 'FRESHWATER PEARL BRACELET IVORY', 21009: 'ETCHED GLASS STAR TREE DECORATION', '84800L': 'LARGE WHITE/PINK ROSE ART FLOWER', '84800M': 'MEDIUM WHITE/PINK ROSE ART FLOWER', '84802A': 'WHITE ANEMONE ARTIFICIAL FLOWER', 21503: 'TOYBOX  WRAP ', '16207A': 'PINK STRAWBERRY HANDBAG ', '35819B': 'ACRYLIC HANGING JEWEL,BLUE', '85135A': 'YELLOW DRAGONFLY HELICOPTER', 'DCGS0070': 'CAMOUFLAGE DOG COLLAR', 85126: 'LARGE ROUND CUTGLASS CANDLESTICK', 84499: 'BLACK FLOWER CANDLE PLATE', 16045: 'POPART WOODEN PENCILS ASST', '84872A': 'TEATIME FUNKY FLOWER BACKPACK FOR 2', 21394: 'RED POLKADOT BEAKER ', 20701: 'PINK CAT FLORAL CUSHION COVER ', 90112: 'PINK DOLLY HAIR CLIPS', 21661: 'VINTAGE GLASS TEA CADDY', 84218: 'BOX/12 CHICK & EGG IN BASKET', 22268: 'EASTER DECORATION SITTING BUNNY', 21412: 'VINTAGE GOLD TINSEL REEL', '84989A': '75 GREEN FAIRY CAKE CASES', '79071B': 'ENGLISH ROSE METAL WASTE BIN', 'gift_0001_30': 'Dotcomgiftshop Gift Voucher £30.00', 20785: 'FUSCHIA RETRO BAR STOOL', 21763: 'VINTAGE WOODEN BAR STOOL', 20933: 'YELLOW POT PLANT CANDLE', 35972: 'DAISY FOLKART HEART DECORATION', 47589: 'CONGRATULATIONS BUNTING', 21645: 'ASSORTED TUTTI FRUTTI ROUND BOX', 21278: 'VINTAGE KITCHEN PRINT PUDDINGS', '84741C': 'CITRUS GARLAND FELT FLOWERS ', 21332: 'MOROCCAN BEATEN METAL MIRROR', 21655: 'HANGING RIDGE GLASS T-LIGHT HOLDER', '44091A': 'BLUE CRUSOE CHECK LAMPSHADE', '35915C': 'PEACH KNITTED HEN ', 85197: 'SET OF 12 MINI BUNNIES IN A BUCKET', '16207B': 'PINK HEART RED HANDBAG', '47556B': 'TEA TIME TEA TOWELS ', '16162L': 'THE KING GIFT BAG', 21667: 'GLASS CAKE COVER AND PLATE', 22323: 'PINK POLKADOT KIDS BAG', 85189: 'HANGING BUTTERFLY  EGG', 37468: 'HARDMAN MUG 3 ASSORTED', 21897: 'POTTING SHED CANDLE CITRONELLA', 85200: 'BUNNY EGG BOX', 35922: 'EASTER BUNNY WREATH', 84675: 'FROG KING WATERING CAN', 84905: 'PINK BUTTERFLY CUSHION COVER ', 85198: 'ASSORTED FARMYARD ANIMALS IN BUCKET', '84796B': 'BLUE SAVANNAH PICNIC HAMPER FOR 2', 84226: 'HEN HOUSE W FAMILY IN BARN & NEST', '37379A': 'PINK CHERRY BLOSSOM CUP & SAUCER', 35920: 'FOUR RABBIT EASTER DECORATIONS', '79192A': \"RETRO PLASTIC 70'S TRAY\", 20756: 'GREEN FERN POCKET BOOK', 21320: 'GLASS CHALICE GREEN  LARGE ', 22125: 'UNION JACK HOT WATER BOTTLE ', '40046A': 'RED DAISY PAPER LAMPSHADE', 22764: 'RUSTIC WOODEN CABINET, GLASS DOORS', 22146: 'EASTER CRAFT IVY WREATH WITH CHICK', '85160A': 'WHITE BIRD GARDEN DESIGN MUG', 72821: 'CUPID SCENTED CANDLE IN GLASS', 84847: 'FLORAL BATHROOM SET', 84465: '15 PINK FLUFFY CHICKS IN BOX', 20851: 'ZINC HEART LATTICE TRAY OVAL ', 84715: 'SET OF 6 ICE CREAM SKITTLES', 84919: 'BLUE CUSHION COVER WITH FLOWER', 84907: 'PINK YELLOW PATCH CUSHION COVER', '84795C': 'OCEAN STRIPE HAMMOCK ', '84279B': 'CHERRY BLOSSOM DECORATIVE FLASK', '84801B': 'WHITE HYDRANGEA ART FLOWER', '84708B': 'PINK JEWELLED PHOTO FRAME ', 84452: 'METAL RABBIT LADDER EASTER ', '84611B': 'thrown away', 85092: 'CANDY SPOT TEA COSY', 37413: 'ICON MUG REVOLUTIONARY', '35815P': 'ACRYLIC JEWEL SNOWFLAKE, PINK', 21228: 'POCKET MIRROR \"GLAMOROUS\"', '79063D': 'RETRO PILL BOX , REVOLUTIONARY', 75172: 'PAINTED SEA SHELL METAL WINDCHIME', 44265: 'M/COLOUR POM-POM CURTAIN', 44236: 'PINK/PURPLE CIRCLE CURTAIN', 21898: 'POTTING SHED ROSE CANDLE', 82095: 'HEART BUTTONS JEWELLERY BOX', '84798B': 'PURPLE FOXGLOVE ARTIIFCIAL FLOWER', 21681: 'GIANT MEDINA STAMPED METAL BOWL ', '79062D': 'RETRO TIN ASHTRAY,REVOLUTIONARY', '47341A': 'FUSCHIA TABLE RUN FLOWER ', 21087: 'SET/6 POSIES PAPER CUPS', 79331: 'PINK FLOCK GLASS CANDLEHOLDER', 84306: 'S/3 PINK SQUARE PLANTERS ROSES', 84691: 'PACK 20 DOLLY PEGS', 21414: 'SCALLOP SHELL SOAP DISH', '84858C': 'PINK RIVIERA HANDBAG', 84466: 'TOP SECRET PEN SET', 90100: 'NECKLACE+BRACELET SET PINK DAISY', 10080: 'GROOVY CACTUS INFLATABLE', '84802B': 'PURPLE ANEMONE ARTIFICIAL FLOWER', '16020C': 'CLEAR STATIONERY BOX SET ', 37423: 'WHITE WITH BLACK CATS PLATE', '79026B': 'S/4 ICON COASTER,ELVIS LIVES', 90084: 'PINK CRYSTAL GUITAR PHONE CHARM', '62096B': 'PURPLE/TURQ FLOWERS HANDBAG', 'gift_0001_10': 'Dotcomgiftshop Gift Voucher £10.00', 84593: 'CROCHET ROSE DES CLOTHES HANGER', '16248B': 'BLUE HOLE PUNCH', 21841: 'BABY MOUSE RED GINGHAM DRESS', '79063C': 'RETRO PILL BOX KEY CHAIN,THE KING', '84535A': 'ENGLISH ROSE NOTEBOOK A6 SIZE', 21395: 'BLUE POLKADOT BEAKER ', '85098B': 'BLUE FLYING SINGING CANARY', 84227: 'HEN HOUSE W CHICK IN NEST', 16259: 'PIECE OF CAMO STATIONERY SET', 22687: 'DOORMAT CHRISTMAS VILLAGE', 84977: 'WIRE FLOWER T-LIGHT HOLDER', '84968B': 'SET OF 16 VINTAGE IVORY CUTLERY', '84750A': 'PINK SMALL GLASS CAKE STAND', 85030: 'FRENCH CHATEAU OVAL PLATTER', 21637: 'ASSORTED SANSKRIT MINI NOTEBOOK', '47344B': 'BLUE FLOWER DES PURSE', '46126A': 'ELVIS WALLHANGING / CURTAIN', 85224: 'ASSORTED COLOUR SILK GLASSES CASE', '47013C': 'WINE BOTTLE DRESSING DARK BLUE', 84548: 'CROCHET BEAR RED/BLUE  KEYRING', 15030: 'FAN BLACK FRAME ', 23159: 'SET OF 5 PANCAKE DAY MAGNETS', '84569C': 'PACK 4 FLOWER/BUTTERFLY PATCHES', 85145: 'JARDIN ETCHED GLASS LARGE BELL JAR', 21839: 'MUMMY MOUSE RED GINGHAM RIBBON', '85028S': 'FRENCH CHATEAU SMALL FRUITBOWL', '85028L': 'FRENCH CHATEAU LARGE FRUIT BOWL ', '84856S': 'SMALL TAHITI BEACH BAG', 20821: 'GOLDIE LOOKING MIRROR', '84743C': 'ORANGE FELT VASE + FLOWERS', 21614: 'SET OF 12 ROSE BOTANICAL T-LIGHTS', '90014C': 'SILVER/BLACK ORBIT NECKLACE', 35649: 'VINTAGE BEAD COSMETIC BAG ', '35809B': 'ENAMEL BLUE RIM TEA CONTAINER', 84686: 'BEACH HUT MIRROR', 84576: 'BLUE CAT BISCUIT BARREL PINK HEART', '84877A': 'PINK ROUND COMPACT MIRROR', 84689: 'S/2 BEACH HUT TREASURE CHESTS', 23065: 'LARGE DECO JEWELLERY STAND', '16202B': 'PASTEL BLUE PHOTO ALBUM ', 23348: 'CHILDRENS TOY COOKING UTENSIL SET', 23066: 'SMALL DECO JEWELLERY STAND', 20823: 'GOLD WINE GOBLET', 23135: 'SMALL ZINC HEART WALL ORGANISER', 23152: 'IVORY SWEETHEART WIRE LETTER RACK ', 23134: 'LARGE ZINC HEART WALL ORGANISER', 84990: '60 GOLD AND SILVER FAIRY CAKE CASES', 16049: 'TEATIME GEL PENS ASST', '16244B': 'MAXWELL 2 TONE BLUE 60 PAGE PHOTO A', 23131: 'MISTLETOE HEART WREATH CREAM', '62097B': 'BLUE STRIPES SHOULDER BAG', '62043B': 'BLUE CHECK BAG W HANDLE 34X20CM', 23284: 'DOORMAT KEEP CALM AND COME IN', 23283: 'DOORMAT VINTAGE LEAVES DESIGN ', 20816: 'GOLD FLOWER CUSHION COVER ', 84629: 'WHITE 3 FRAME BIRDS AND TREE ', 20964: 'POLYESTER FILLER PAD 60x40cm', 23175: 'REGENCY MILK JUG PINK ', 23084: 'RABBIT NIGHT LIGHT', 23091: 'ZINC HERB GARDEN CONTAINER', '16151A': 'FLOWERS HANDBAG blue and orange', '47574B': 'ENGLISH ROSE SCENTED HANGING HEART', '84873A': 'FUNKY FLOWER PICNIC BAG FOR 4', '84804B': 'BLUE DELPHINIUM ARTIFICIAL FLOWER', 23444: 'Next Day Carriage', 23306: 'SET OF 36 DOILIES PANTRY DESIGN', 16043: 'POP ART PUSH DOWN RUBBER ', '84415A': 'PINK FLOCK SUEDE CUSHION COVER ', 35966: 'FOLKART CHRISTMAS TREE T-LIGHT HOLD', 23268: 'SET OF 2 CERAMIC CHRISTMAS REINDEER', 77079: 'DOLPHIN WINDMILL', 23028: 'DRAWER KNOB CRACKLE GLAZE BLUE', 16254: 'TRANSPARENT ACRYLIC TAPE DISPENSER', 84746: 'PINK EASTER HENS+FLOWER', '81952B': 'ROUND BLUE CLOCK WITH SUCKER', '81950B': 'FLOWER BLUE CLOCK WITH SUCKER', 23574: 'PACKING CHARGE', 35645: 'VINTAGE BEAD PINK JEWEL BOX', '81953B': 'ROUND BLUE CLOCK WITH SUCKER', '81953P': 'ROUND ARTICULATED PINK CLOCK W/SUCK', '16162M': 'alan hodge cant mamage this section', '84402B': 'PURPLE DRESS JEWELLERY STAND', '84857B': 'BLUE MONTE CARLO HANDBAG', '84387A': 'BIRD ON BRANCH CANVAS SCREEN', 79336: 'LIGHT PINK FLOCK GLASS CANDLEHOLDER', 35650: 'VINTAGE BEAD PINK JEWEL STAND', '35597D': 'PINK/WHITE CHRISTMAS TREE 30CM', '35818B': 'ACRYLIC JEWEL ICICLE, BLUE', 23406: 'HOME SWEET HOME KEY HOLDER', 23412: 'HEART MIRROR ANTIQUE WHITE', 23400: 'SHELF WITH 4 HOOKS HOME SWEET HOME', '35819P': 'ACRYLIC HANGING JEWEL,PINK', 23541: 'WALL ART CLASSIC PUDDINGS ', 23579: 'SNACK TRAY I LOVE LONDON', 23702: 'High Resolution Image', '79161A': 'ST GEORGE SET OF 10 PARTY LIGHTS', '35598A': 'DUSTY PINK CHRISTMAS TREE 60CM'}\n",
            "848\n"
          ]
        },
        {
          "output_type": "stream",
          "name": "stderr",
          "text": [
            "<ipython-input-8-f42ecce20b8a>:3: UserWarning: Boolean Series key will be reindexed to match DataFrame index.\n",
            "  stockcode_description_dict = df.dropna(subset=['Description']) \\\n"
          ]
        }
      ]
    },
    {
      "cell_type": "code",
      "source": [
        "# Fill missing Description values using the stockcode_description_dict\n",
        "df['Description'] = df.apply(\n",
        "    lambda row: stockcode_description_dict.get(row['StockCode'], row['Description']) if pd.isnull(row['Description']) else row['Description'],\n",
        "    axis=1\n",
        ")\n",
        "\n",
        "# Verify that the missing values have been filled\n",
        "print(df['Description'].isnull().sum())"
      ],
      "metadata": {
        "colab": {
          "base_uri": "https://localhost:8080/"
        },
        "id": "BXWjVbVc-apg",
        "outputId": "fb24012d-1683-44b4-d575-937d9e870ece"
      },
      "execution_count": 9,
      "outputs": [
        {
          "output_type": "stream",
          "name": "stdout",
          "text": [
            "112\n"
          ]
        }
      ]
    },
    {
      "cell_type": "code",
      "source": [
        "df.info()"
      ],
      "metadata": {
        "colab": {
          "base_uri": "https://localhost:8080/"
        },
        "id": "1L4TXE_0-ar_",
        "outputId": "454f9589-70e0-4c35-af9c-5a94e5787400"
      },
      "execution_count": 10,
      "outputs": [
        {
          "output_type": "stream",
          "name": "stdout",
          "text": [
            "<class 'pandas.core.frame.DataFrame'>\n",
            "RangeIndex: 541909 entries, 0 to 541908\n",
            "Data columns (total 8 columns):\n",
            " #   Column       Non-Null Count   Dtype         \n",
            "---  ------       --------------   -----         \n",
            " 0   InvoiceNo    541909 non-null  object        \n",
            " 1   StockCode    541909 non-null  object        \n",
            " 2   Description  541797 non-null  object        \n",
            " 3   Quantity     541909 non-null  int64         \n",
            " 4   InvoiceDate  541909 non-null  datetime64[ns]\n",
            " 5   UnitPrice    541909 non-null  float64       \n",
            " 6   CustomerID   406829 non-null  float64       \n",
            " 7   Country      541909 non-null  object        \n",
            "dtypes: datetime64[ns](1), float64(2), int64(1), object(4)\n",
            "memory usage: 33.1+ MB\n"
          ]
        }
      ]
    },
    {
      "cell_type": "code",
      "source": [
        "total_entries = len(df)\n",
        "description_missing_pct = (df['Description'].isnull().sum() / total_entries) * 100\n",
        "customerid_missing_pct = (df['CustomerID'].isnull().sum() / total_entries) * 100\n",
        "\n",
        "print(f\"Missing Description: {description_missing_pct:.2f}%\")\n",
        "print(f\"Missing CustomerID: {customerid_missing_pct:.2f}%\")"
      ],
      "metadata": {
        "colab": {
          "base_uri": "https://localhost:8080/"
        },
        "id": "IfXGm_5h-auh",
        "outputId": "150fe95e-b867-4463-801e-340298d365c7"
      },
      "execution_count": 11,
      "outputs": [
        {
          "output_type": "stream",
          "name": "stdout",
          "text": [
            "Missing Description: 0.02%\n",
            "Missing CustomerID: 24.93%\n"
          ]
        }
      ]
    },
    {
      "cell_type": "code",
      "source": [
        "# Filter the rows where 'Description' is missing\n",
        "missing_description_rows = df[df['Description'].isnull()]\n",
        "\n",
        "# Display the rows with missing 'Description'\n",
        "print(missing_description_rows[['InvoiceNo', 'StockCode', 'Description']])"
      ],
      "metadata": {
        "colab": {
          "base_uri": "https://localhost:8080/"
        },
        "outputId": "04e84a5a-837b-4ff4-e90c-6222cbee742f",
        "id": "CY5hAKUf_4KZ"
      },
      "execution_count": 12,
      "outputs": [
        {
          "output_type": "stream",
          "name": "stdout",
          "text": [
            "       InvoiceNo StockCode Description\n",
            "1970      536545     21134         NaN\n",
            "1987      536549    85226A         NaN\n",
            "1988      536550     85044         NaN\n",
            "2024      536552     20950         NaN\n",
            "2026      536554     84670         NaN\n",
            "...          ...       ...         ...\n",
            "280754    561498     21610         NaN\n",
            "281615    561555    37477B         NaN\n",
            "281616    561557    37477C         NaN\n",
            "346849    567207    35592T         NaN\n",
            "497301    578360    84971L         NaN\n",
            "\n",
            "[112 rows x 3 columns]\n"
          ]
        }
      ]
    },
    {
      "cell_type": "markdown",
      "source": [
        "As we see above the Decription column have MCAR, so it is good to remove rows."
      ],
      "metadata": {
        "id": "IaYu7JHpDqss"
      }
    },
    {
      "cell_type": "code",
      "source": [
        "# Select rows where 'InvoiceNo' is equal to 536365\n",
        "specific_invoice_rows = df[df['StockCode'] == '35592T']\n",
        "\n",
        "# Display the selected rows\n",
        "print(specific_invoice_rows)"
      ],
      "metadata": {
        "colab": {
          "base_uri": "https://localhost:8080/"
        },
        "id": "zs4vGjcJ_xsj",
        "outputId": "3fd2bb00-96c8-4b76-fd8e-804637299810"
      },
      "execution_count": 13,
      "outputs": [
        {
          "output_type": "stream",
          "name": "stdout",
          "text": [
            "       InvoiceNo StockCode Description  Quantity         InvoiceDate  \\\n",
            "346849    567207    35592T         NaN         4 2011-09-19 11:01:00   \n",
            "\n",
            "        UnitPrice  CustomerID         Country  \n",
            "346849        0.0         NaN  United Kingdom  \n"
          ]
        }
      ]
    },
    {
      "cell_type": "code",
      "source": [],
      "metadata": {
        "id": "BwANSQGt_xvc"
      },
      "execution_count": 13,
      "outputs": []
    },
    {
      "cell_type": "code",
      "source": [
        "# Filter the rows where 'Description' is missing\n",
        "missing_CustomerID_rows = df[df['CustomerID'].isnull()]\n",
        "\n",
        "# Display the rows with missing 'Description'\n",
        "print(missing_CustomerID_rows[['InvoiceNo', 'StockCode', 'Description', 'CustomerID']])"
      ],
      "metadata": {
        "colab": {
          "base_uri": "https://localhost:8080/"
        },
        "id": "RRZ05IAhBZzL",
        "outputId": "210f3e7d-6e07-4eb1-ba46-38b1850139ba"
      },
      "execution_count": 14,
      "outputs": [
        {
          "output_type": "stream",
          "name": "stdout",
          "text": [
            "       InvoiceNo StockCode                       Description  CustomerID\n",
            "622       536414     22139  RETROSPOT TEA SET CERAMIC 11 PC          NaN\n",
            "1443      536544     21773   DECORATIVE ROSE BATHROOM BOTTLE         NaN\n",
            "1444      536544     21774   DECORATIVE CATS BATHROOM BOTTLE         NaN\n",
            "1445      536544     21786                POLKADOT RAIN HAT          NaN\n",
            "1446      536544     21787             RAIN PONCHO RETROSPOT         NaN\n",
            "...          ...       ...                               ...         ...\n",
            "541536    581498    85099B           JUMBO BAG RED RETROSPOT         NaN\n",
            "541537    581498    85099C    JUMBO  BAG BAROQUE BLACK WHITE         NaN\n",
            "541538    581498     85150     LADIES & GENTLEMEN METAL SIGN         NaN\n",
            "541539    581498     85174                 S/4 CACTI CANDLES         NaN\n",
            "541540    581498       DOT                    DOTCOM POSTAGE         NaN\n",
            "\n",
            "[135080 rows x 4 columns]\n"
          ]
        }
      ]
    },
    {
      "cell_type": "code",
      "source": [
        "# Select rows where 'InvoiceNo' is equal to 536365\n",
        "specific_invoice_rows = df[df['InvoiceNo'] == 581498]\n",
        "\n",
        "# Display the selected rows\n",
        "print(specific_invoice_rows)"
      ],
      "metadata": {
        "colab": {
          "base_uri": "https://localhost:8080/"
        },
        "id": "fldtnhl4CWWs",
        "outputId": "28767c2e-3d28-46d1-afbf-04bb6b44bfb6"
      },
      "execution_count": 15,
      "outputs": [
        {
          "output_type": "stream",
          "name": "stdout",
          "text": [
            "       InvoiceNo StockCode                     Description  Quantity  \\\n",
            "541323    581498   15056bl         EDWARDIAN PARASOL BLACK         2   \n",
            "541324    581498     20669           RED HEART LUGGAGE TAG         3   \n",
            "541325    581498     20679           EDWARDIAN PARASOL RED         5   \n",
            "541326    581498     20712      JUMBO BAG WOODLAND ANIMALS         3   \n",
            "541327    581498     20713                  JUMBO BAG OWLS         8   \n",
            "...          ...       ...                             ...       ...   \n",
            "541536    581498    85099B         JUMBO BAG RED RETROSPOT         5   \n",
            "541537    581498    85099C  JUMBO  BAG BAROQUE BLACK WHITE         4   \n",
            "541538    581498     85150   LADIES & GENTLEMEN METAL SIGN         1   \n",
            "541539    581498     85174               S/4 CACTI CANDLES         1   \n",
            "541540    581498       DOT                  DOTCOM POSTAGE         1   \n",
            "\n",
            "               InvoiceDate  UnitPrice  CustomerID         Country  \n",
            "541323 2011-12-09 10:26:00      12.46         NaN  United Kingdom  \n",
            "541324 2011-12-09 10:26:00       2.46         NaN  United Kingdom  \n",
            "541325 2011-12-09 10:26:00      12.46         NaN  United Kingdom  \n",
            "541326 2011-12-09 10:26:00       4.13         NaN  United Kingdom  \n",
            "541327 2011-12-09 10:26:00       4.13         NaN  United Kingdom  \n",
            "...                    ...        ...         ...             ...  \n",
            "541536 2011-12-09 10:26:00       4.13         NaN  United Kingdom  \n",
            "541537 2011-12-09 10:26:00       4.13         NaN  United Kingdom  \n",
            "541538 2011-12-09 10:26:00       4.96         NaN  United Kingdom  \n",
            "541539 2011-12-09 10:26:00      10.79         NaN  United Kingdom  \n",
            "541540 2011-12-09 10:26:00    1714.17         NaN  United Kingdom  \n",
            "\n",
            "[218 rows x 8 columns]\n"
          ]
        }
      ]
    },
    {
      "cell_type": "code",
      "source": [
        "missing_InvoiceNo = missing_CustomerID_rows['InvoiceNo'].unique().tolist()\n",
        "InvoiceNo_CustomerID_dict = df.dropna(subset=['CustomerID']) \\\n",
        "                              [df['InvoiceNo'].isin(missing_stockcodes)] \\\n",
        "                              .drop_duplicates(subset=['InvoiceNo']) \\\n",
        "                              .set_index('InvoiceNo')['CustomerID'].to_dict()\n",
        "\n",
        "print(len(InvoiceNo_CustomerID_dict))"
      ],
      "metadata": {
        "colab": {
          "base_uri": "https://localhost:8080/"
        },
        "id": "_IIg1Y3eAx2I",
        "outputId": "f73d10ed-c2fb-4344-b2eb-d16ab0508eef"
      },
      "execution_count": 16,
      "outputs": [
        {
          "output_type": "stream",
          "name": "stdout",
          "text": [
            "0\n"
          ]
        },
        {
          "output_type": "stream",
          "name": "stderr",
          "text": [
            "<ipython-input-16-99f633765698>:2: UserWarning: Boolean Series key will be reindexed to match DataFrame index.\n",
            "  InvoiceNo_CustomerID_dict = df.dropna(subset=['CustomerID']) \\\n"
          ]
        }
      ]
    },
    {
      "cell_type": "markdown",
      "source": [
        "In the above observation, there are missing values in Description and CustomerID column\n",
        "\n",
        "1. As in general, removing the whole row where missing values in a column. But before removing, we need to check the distribution before and after remove the row. If the percentage of missing is around 3-4% then we can remove the rows.\n",
        "2. Also need to check the missing values in a column should be MCAR ( Missing completely at Random)\n",
        "3. We can remove rows based on Description missing values as it is MCAR."
      ],
      "metadata": {
        "id": "rydBR4D1z9C_"
      }
    },
    {
      "cell_type": "code",
      "source": [
        "df = df.dropna(subset=['Description'])"
      ],
      "metadata": {
        "id": "ZsMlkn7k03Ys"
      },
      "execution_count": 17,
      "outputs": []
    },
    {
      "cell_type": "code",
      "source": [
        "df.info()"
      ],
      "metadata": {
        "colab": {
          "base_uri": "https://localhost:8080/"
        },
        "id": "GsdnRnoa03tJ",
        "outputId": "4c7af796-c427-47be-a629-c5441127ec36"
      },
      "execution_count": 18,
      "outputs": [
        {
          "output_type": "stream",
          "name": "stdout",
          "text": [
            "<class 'pandas.core.frame.DataFrame'>\n",
            "Index: 541797 entries, 0 to 541908\n",
            "Data columns (total 8 columns):\n",
            " #   Column       Non-Null Count   Dtype         \n",
            "---  ------       --------------   -----         \n",
            " 0   InvoiceNo    541797 non-null  object        \n",
            " 1   StockCode    541797 non-null  object        \n",
            " 2   Description  541797 non-null  object        \n",
            " 3   Quantity     541797 non-null  int64         \n",
            " 4   InvoiceDate  541797 non-null  datetime64[ns]\n",
            " 5   UnitPrice    541797 non-null  float64       \n",
            " 6   CustomerID   406829 non-null  float64       \n",
            " 7   Country      541797 non-null  object        \n",
            "dtypes: datetime64[ns](1), float64(2), int64(1), object(4)\n",
            "memory usage: 37.2+ MB\n"
          ]
        }
      ]
    },
    {
      "cell_type": "code",
      "source": [
        "# Decide to fill remaining missing CustomerID with 'Unknown' as the missing percentage is more in CustomerID column\n",
        "df['CustomerID'].fillna('Unknown', inplace=True)"
      ],
      "metadata": {
        "colab": {
          "base_uri": "https://localhost:8080/"
        },
        "id": "9pgzaHZ_Ml9V",
        "outputId": "ededeaee-0709-4f94-f2dc-11609e9952ec"
      },
      "execution_count": 19,
      "outputs": [
        {
          "output_type": "stream",
          "name": "stderr",
          "text": [
            "<ipython-input-19-89ef7d666466>:2: FutureWarning: Setting an item of incompatible dtype is deprecated and will raise in a future error of pandas. Value 'Unknown' has dtype incompatible with float64, please explicitly cast to a compatible dtype first.\n",
            "  df['CustomerID'].fillna('Unknown', inplace=True)\n"
          ]
        }
      ]
    },
    {
      "cell_type": "code",
      "source": [
        "df.info()"
      ],
      "metadata": {
        "colab": {
          "base_uri": "https://localhost:8080/"
        },
        "id": "q4LgbwjEMmFT",
        "outputId": "1d704d31-53d9-46a4-8248-745083a2d4c5"
      },
      "execution_count": 20,
      "outputs": [
        {
          "output_type": "stream",
          "name": "stdout",
          "text": [
            "<class 'pandas.core.frame.DataFrame'>\n",
            "Index: 541797 entries, 0 to 541908\n",
            "Data columns (total 8 columns):\n",
            " #   Column       Non-Null Count   Dtype         \n",
            "---  ------       --------------   -----         \n",
            " 0   InvoiceNo    541797 non-null  object        \n",
            " 1   StockCode    541797 non-null  object        \n",
            " 2   Description  541797 non-null  object        \n",
            " 3   Quantity     541797 non-null  int64         \n",
            " 4   InvoiceDate  541797 non-null  datetime64[ns]\n",
            " 5   UnitPrice    541797 non-null  float64       \n",
            " 6   CustomerID   541797 non-null  object        \n",
            " 7   Country      541797 non-null  object        \n",
            "dtypes: datetime64[ns](1), float64(1), int64(1), object(5)\n",
            "memory usage: 37.2+ MB\n"
          ]
        }
      ]
    },
    {
      "cell_type": "code",
      "source": [],
      "metadata": {
        "id": "QQOeHdloNuyE"
      },
      "execution_count": 20,
      "outputs": []
    },
    {
      "cell_type": "code",
      "source": [
        "# 2. Remove duplicate records\n",
        "df.drop_duplicates(inplace=True)"
      ],
      "metadata": {
        "id": "lAlmMKr_MmMk"
      },
      "execution_count": 21,
      "outputs": []
    },
    {
      "cell_type": "code",
      "source": [
        "# 3. Handle anomalies in Quantity and UnitPrice\n",
        "df = df[(df['Quantity'] > 0) & (df['UnitPrice'] > 0)]"
      ],
      "metadata": {
        "id": "p4Fcjm_0MmSf"
      },
      "execution_count": 22,
      "outputs": []
    },
    {
      "cell_type": "code",
      "source": [
        "# As we have no missing data in the InvoiceDate column, so we can extract year, month, data and weekday.\n",
        "df['TotalAmount'] = df['Quantity']*df['UnitPrice']\n",
        "df['Invoice_Year'] = df['InvoiceDate'].dt.year\n",
        "df['Invoice_Month'] = df['InvoiceDate'].dt.month\n",
        "df['Invoice_Day'] = df['InvoiceDate'].dt.day\n",
        "df['Invoice_Weekday'] = df['InvoiceDate'].dt.weekday\n",
        "df.head(2)"
      ],
      "metadata": {
        "id": "kzaQD3Zxr2zE",
        "colab": {
          "base_uri": "https://localhost:8080/",
          "height": 236
        },
        "outputId": "4b188ac9-f146-4c07-90c3-319fb4c8f258"
      },
      "execution_count": 23,
      "outputs": [
        {
          "output_type": "execute_result",
          "data": {
            "text/plain": [
              "  InvoiceNo StockCode                         Description  Quantity  \\\n",
              "0    536365    85123A  WHITE HANGING HEART T-LIGHT HOLDER         6   \n",
              "1    536365     71053                 WHITE METAL LANTERN         6   \n",
              "\n",
              "          InvoiceDate  UnitPrice CustomerID         Country  TotalAmount  \\\n",
              "0 2010-12-01 08:26:00       2.55    17850.0  United Kingdom        15.30   \n",
              "1 2010-12-01 08:26:00       3.39    17850.0  United Kingdom        20.34   \n",
              "\n",
              "   Invoice_Year  Invoice_Month  Invoice_Day  Invoice_Weekday  \n",
              "0          2010             12            1                2  \n",
              "1          2010             12            1                2  "
            ],
            "text/html": [
              "\n",
              "  <div id=\"df-3b8eb0ad-afe5-4558-8c39-0d801f6db54d\" class=\"colab-df-container\">\n",
              "    <div>\n",
              "<style scoped>\n",
              "    .dataframe tbody tr th:only-of-type {\n",
              "        vertical-align: middle;\n",
              "    }\n",
              "\n",
              "    .dataframe tbody tr th {\n",
              "        vertical-align: top;\n",
              "    }\n",
              "\n",
              "    .dataframe thead th {\n",
              "        text-align: right;\n",
              "    }\n",
              "</style>\n",
              "<table border=\"1\" class=\"dataframe\">\n",
              "  <thead>\n",
              "    <tr style=\"text-align: right;\">\n",
              "      <th></th>\n",
              "      <th>InvoiceNo</th>\n",
              "      <th>StockCode</th>\n",
              "      <th>Description</th>\n",
              "      <th>Quantity</th>\n",
              "      <th>InvoiceDate</th>\n",
              "      <th>UnitPrice</th>\n",
              "      <th>CustomerID</th>\n",
              "      <th>Country</th>\n",
              "      <th>TotalAmount</th>\n",
              "      <th>Invoice_Year</th>\n",
              "      <th>Invoice_Month</th>\n",
              "      <th>Invoice_Day</th>\n",
              "      <th>Invoice_Weekday</th>\n",
              "    </tr>\n",
              "  </thead>\n",
              "  <tbody>\n",
              "    <tr>\n",
              "      <th>0</th>\n",
              "      <td>536365</td>\n",
              "      <td>85123A</td>\n",
              "      <td>WHITE HANGING HEART T-LIGHT HOLDER</td>\n",
              "      <td>6</td>\n",
              "      <td>2010-12-01 08:26:00</td>\n",
              "      <td>2.55</td>\n",
              "      <td>17850.0</td>\n",
              "      <td>United Kingdom</td>\n",
              "      <td>15.30</td>\n",
              "      <td>2010</td>\n",
              "      <td>12</td>\n",
              "      <td>1</td>\n",
              "      <td>2</td>\n",
              "    </tr>\n",
              "    <tr>\n",
              "      <th>1</th>\n",
              "      <td>536365</td>\n",
              "      <td>71053</td>\n",
              "      <td>WHITE METAL LANTERN</td>\n",
              "      <td>6</td>\n",
              "      <td>2010-12-01 08:26:00</td>\n",
              "      <td>3.39</td>\n",
              "      <td>17850.0</td>\n",
              "      <td>United Kingdom</td>\n",
              "      <td>20.34</td>\n",
              "      <td>2010</td>\n",
              "      <td>12</td>\n",
              "      <td>1</td>\n",
              "      <td>2</td>\n",
              "    </tr>\n",
              "  </tbody>\n",
              "</table>\n",
              "</div>\n",
              "    <div class=\"colab-df-buttons\">\n",
              "\n",
              "  <div class=\"colab-df-container\">\n",
              "    <button class=\"colab-df-convert\" onclick=\"convertToInteractive('df-3b8eb0ad-afe5-4558-8c39-0d801f6db54d')\"\n",
              "            title=\"Convert this dataframe to an interactive table.\"\n",
              "            style=\"display:none;\">\n",
              "\n",
              "  <svg xmlns=\"http://www.w3.org/2000/svg\" height=\"24px\" viewBox=\"0 -960 960 960\">\n",
              "    <path d=\"M120-120v-720h720v720H120Zm60-500h600v-160H180v160Zm220 220h160v-160H400v160Zm0 220h160v-160H400v160ZM180-400h160v-160H180v160Zm440 0h160v-160H620v160ZM180-180h160v-160H180v160Zm440 0h160v-160H620v160Z\"/>\n",
              "  </svg>\n",
              "    </button>\n",
              "\n",
              "  <style>\n",
              "    .colab-df-container {\n",
              "      display:flex;\n",
              "      gap: 12px;\n",
              "    }\n",
              "\n",
              "    .colab-df-convert {\n",
              "      background-color: #E8F0FE;\n",
              "      border: none;\n",
              "      border-radius: 50%;\n",
              "      cursor: pointer;\n",
              "      display: none;\n",
              "      fill: #1967D2;\n",
              "      height: 32px;\n",
              "      padding: 0 0 0 0;\n",
              "      width: 32px;\n",
              "    }\n",
              "\n",
              "    .colab-df-convert:hover {\n",
              "      background-color: #E2EBFA;\n",
              "      box-shadow: 0px 1px 2px rgba(60, 64, 67, 0.3), 0px 1px 3px 1px rgba(60, 64, 67, 0.15);\n",
              "      fill: #174EA6;\n",
              "    }\n",
              "\n",
              "    .colab-df-buttons div {\n",
              "      margin-bottom: 4px;\n",
              "    }\n",
              "\n",
              "    [theme=dark] .colab-df-convert {\n",
              "      background-color: #3B4455;\n",
              "      fill: #D2E3FC;\n",
              "    }\n",
              "\n",
              "    [theme=dark] .colab-df-convert:hover {\n",
              "      background-color: #434B5C;\n",
              "      box-shadow: 0px 1px 3px 1px rgba(0, 0, 0, 0.15);\n",
              "      filter: drop-shadow(0px 1px 2px rgba(0, 0, 0, 0.3));\n",
              "      fill: #FFFFFF;\n",
              "    }\n",
              "  </style>\n",
              "\n",
              "    <script>\n",
              "      const buttonEl =\n",
              "        document.querySelector('#df-3b8eb0ad-afe5-4558-8c39-0d801f6db54d button.colab-df-convert');\n",
              "      buttonEl.style.display =\n",
              "        google.colab.kernel.accessAllowed ? 'block' : 'none';\n",
              "\n",
              "      async function convertToInteractive(key) {\n",
              "        const element = document.querySelector('#df-3b8eb0ad-afe5-4558-8c39-0d801f6db54d');\n",
              "        const dataTable =\n",
              "          await google.colab.kernel.invokeFunction('convertToInteractive',\n",
              "                                                    [key], {});\n",
              "        if (!dataTable) return;\n",
              "\n",
              "        const docLinkHtml = 'Like what you see? Visit the ' +\n",
              "          '<a target=\"_blank\" href=https://colab.research.google.com/notebooks/data_table.ipynb>data table notebook</a>'\n",
              "          + ' to learn more about interactive tables.';\n",
              "        element.innerHTML = '';\n",
              "        dataTable['output_type'] = 'display_data';\n",
              "        await google.colab.output.renderOutput(dataTable, element);\n",
              "        const docLink = document.createElement('div');\n",
              "        docLink.innerHTML = docLinkHtml;\n",
              "        element.appendChild(docLink);\n",
              "      }\n",
              "    </script>\n",
              "  </div>\n",
              "\n",
              "\n",
              "<div id=\"df-a2690155-5084-4f33-a57f-0aba00f52b11\">\n",
              "  <button class=\"colab-df-quickchart\" onclick=\"quickchart('df-a2690155-5084-4f33-a57f-0aba00f52b11')\"\n",
              "            title=\"Suggest charts\"\n",
              "            style=\"display:none;\">\n",
              "\n",
              "<svg xmlns=\"http://www.w3.org/2000/svg\" height=\"24px\"viewBox=\"0 0 24 24\"\n",
              "     width=\"24px\">\n",
              "    <g>\n",
              "        <path d=\"M19 3H5c-1.1 0-2 .9-2 2v14c0 1.1.9 2 2 2h14c1.1 0 2-.9 2-2V5c0-1.1-.9-2-2-2zM9 17H7v-7h2v7zm4 0h-2V7h2v10zm4 0h-2v-4h2v4z\"/>\n",
              "    </g>\n",
              "</svg>\n",
              "  </button>\n",
              "\n",
              "<style>\n",
              "  .colab-df-quickchart {\n",
              "      --bg-color: #E8F0FE;\n",
              "      --fill-color: #1967D2;\n",
              "      --hover-bg-color: #E2EBFA;\n",
              "      --hover-fill-color: #174EA6;\n",
              "      --disabled-fill-color: #AAA;\n",
              "      --disabled-bg-color: #DDD;\n",
              "  }\n",
              "\n",
              "  [theme=dark] .colab-df-quickchart {\n",
              "      --bg-color: #3B4455;\n",
              "      --fill-color: #D2E3FC;\n",
              "      --hover-bg-color: #434B5C;\n",
              "      --hover-fill-color: #FFFFFF;\n",
              "      --disabled-bg-color: #3B4455;\n",
              "      --disabled-fill-color: #666;\n",
              "  }\n",
              "\n",
              "  .colab-df-quickchart {\n",
              "    background-color: var(--bg-color);\n",
              "    border: none;\n",
              "    border-radius: 50%;\n",
              "    cursor: pointer;\n",
              "    display: none;\n",
              "    fill: var(--fill-color);\n",
              "    height: 32px;\n",
              "    padding: 0;\n",
              "    width: 32px;\n",
              "  }\n",
              "\n",
              "  .colab-df-quickchart:hover {\n",
              "    background-color: var(--hover-bg-color);\n",
              "    box-shadow: 0 1px 2px rgba(60, 64, 67, 0.3), 0 1px 3px 1px rgba(60, 64, 67, 0.15);\n",
              "    fill: var(--button-hover-fill-color);\n",
              "  }\n",
              "\n",
              "  .colab-df-quickchart-complete:disabled,\n",
              "  .colab-df-quickchart-complete:disabled:hover {\n",
              "    background-color: var(--disabled-bg-color);\n",
              "    fill: var(--disabled-fill-color);\n",
              "    box-shadow: none;\n",
              "  }\n",
              "\n",
              "  .colab-df-spinner {\n",
              "    border: 2px solid var(--fill-color);\n",
              "    border-color: transparent;\n",
              "    border-bottom-color: var(--fill-color);\n",
              "    animation:\n",
              "      spin 1s steps(1) infinite;\n",
              "  }\n",
              "\n",
              "  @keyframes spin {\n",
              "    0% {\n",
              "      border-color: transparent;\n",
              "      border-bottom-color: var(--fill-color);\n",
              "      border-left-color: var(--fill-color);\n",
              "    }\n",
              "    20% {\n",
              "      border-color: transparent;\n",
              "      border-left-color: var(--fill-color);\n",
              "      border-top-color: var(--fill-color);\n",
              "    }\n",
              "    30% {\n",
              "      border-color: transparent;\n",
              "      border-left-color: var(--fill-color);\n",
              "      border-top-color: var(--fill-color);\n",
              "      border-right-color: var(--fill-color);\n",
              "    }\n",
              "    40% {\n",
              "      border-color: transparent;\n",
              "      border-right-color: var(--fill-color);\n",
              "      border-top-color: var(--fill-color);\n",
              "    }\n",
              "    60% {\n",
              "      border-color: transparent;\n",
              "      border-right-color: var(--fill-color);\n",
              "    }\n",
              "    80% {\n",
              "      border-color: transparent;\n",
              "      border-right-color: var(--fill-color);\n",
              "      border-bottom-color: var(--fill-color);\n",
              "    }\n",
              "    90% {\n",
              "      border-color: transparent;\n",
              "      border-bottom-color: var(--fill-color);\n",
              "    }\n",
              "  }\n",
              "</style>\n",
              "\n",
              "  <script>\n",
              "    async function quickchart(key) {\n",
              "      const quickchartButtonEl =\n",
              "        document.querySelector('#' + key + ' button');\n",
              "      quickchartButtonEl.disabled = true;  // To prevent multiple clicks.\n",
              "      quickchartButtonEl.classList.add('colab-df-spinner');\n",
              "      try {\n",
              "        const charts = await google.colab.kernel.invokeFunction(\n",
              "            'suggestCharts', [key], {});\n",
              "      } catch (error) {\n",
              "        console.error('Error during call to suggestCharts:', error);\n",
              "      }\n",
              "      quickchartButtonEl.classList.remove('colab-df-spinner');\n",
              "      quickchartButtonEl.classList.add('colab-df-quickchart-complete');\n",
              "    }\n",
              "    (() => {\n",
              "      let quickchartButtonEl =\n",
              "        document.querySelector('#df-a2690155-5084-4f33-a57f-0aba00f52b11 button');\n",
              "      quickchartButtonEl.style.display =\n",
              "        google.colab.kernel.accessAllowed ? 'block' : 'none';\n",
              "    })();\n",
              "  </script>\n",
              "</div>\n",
              "\n",
              "    </div>\n",
              "  </div>\n"
            ],
            "application/vnd.google.colaboratory.intrinsic+json": {
              "type": "dataframe",
              "variable_name": "df"
            }
          },
          "metadata": {},
          "execution_count": 23
        }
      ]
    },
    {
      "cell_type": "code",
      "source": [
        "#exploring the unique values of each attribute\n",
        "print(\"Number of transactions: \", df['InvoiceNo'].nunique())\n",
        "print(\"Number of products: \",df['StockCode'].nunique())\n",
        "print(\"Number of customers:\", df['CustomerID'].nunique())"
      ],
      "metadata": {
        "id": "sssCYy3yr21G",
        "colab": {
          "base_uri": "https://localhost:8080/"
        },
        "outputId": "b17ea73d-af2c-4df6-9557-e9b6bbbbb99e"
      },
      "execution_count": 24,
      "outputs": [
        {
          "output_type": "stream",
          "name": "stdout",
          "text": [
            "Number of transactions:  19960\n",
            "Number of products:  3922\n",
            "Number of customers: 4339\n"
          ]
        }
      ]
    },
    {
      "cell_type": "code",
      "source": [
        "df.info()"
      ],
      "metadata": {
        "id": "YEH1K5xRr23E",
        "colab": {
          "base_uri": "https://localhost:8080/"
        },
        "outputId": "8cff24e0-48de-45ac-8276-98a6add64619"
      },
      "execution_count": 25,
      "outputs": [
        {
          "output_type": "stream",
          "name": "stdout",
          "text": [
            "<class 'pandas.core.frame.DataFrame'>\n",
            "Index: 524878 entries, 0 to 541908\n",
            "Data columns (total 13 columns):\n",
            " #   Column           Non-Null Count   Dtype         \n",
            "---  ------           --------------   -----         \n",
            " 0   InvoiceNo        524878 non-null  object        \n",
            " 1   StockCode        524878 non-null  object        \n",
            " 2   Description      524878 non-null  object        \n",
            " 3   Quantity         524878 non-null  int64         \n",
            " 4   InvoiceDate      524878 non-null  datetime64[ns]\n",
            " 5   UnitPrice        524878 non-null  float64       \n",
            " 6   CustomerID       524878 non-null  object        \n",
            " 7   Country          524878 non-null  object        \n",
            " 8   TotalAmount      524878 non-null  float64       \n",
            " 9   Invoice_Year     524878 non-null  int32         \n",
            " 10  Invoice_Month    524878 non-null  int32         \n",
            " 11  Invoice_Day      524878 non-null  int32         \n",
            " 12  Invoice_Weekday  524878 non-null  int32         \n",
            "dtypes: datetime64[ns](1), float64(2), int32(4), int64(1), object(5)\n",
            "memory usage: 48.1+ MB\n"
          ]
        }
      ]
    },
    {
      "cell_type": "code",
      "source": [],
      "metadata": {
        "id": "4h7mQD3Ir25B"
      },
      "execution_count": 25,
      "outputs": []
    },
    {
      "cell_type": "code",
      "source": [
        "import matplotlib.pyplot as plt\n",
        "\n",
        "# Aggregate sales by month\n",
        "monthly_sales = df.groupby(df['InvoiceDate'].dt.to_period('M')).agg({'TotalAmount': 'sum'}).reset_index()\n",
        "monthly_sales['InvoiceDate'] = monthly_sales['InvoiceDate'].dt.to_timestamp()\n",
        "\n",
        "# Plot monthly sales trend\n",
        "plt.figure(figsize=(10, 6))\n",
        "plt.plot(monthly_sales['InvoiceDate'], monthly_sales['TotalAmount'], marker='o')\n",
        "plt.title('Monthly Sales Trend')\n",
        "plt.xlabel('Date')\n",
        "plt.ylabel('Total Sales Amount')\n",
        "plt.grid(True)\n",
        "plt.show()"
      ],
      "metadata": {
        "colab": {
          "base_uri": "https://localhost:8080/",
          "height": 564
        },
        "id": "1E-vazLbO7Oq",
        "outputId": "4d917ebb-6269-4a3a-b2ab-7c98170cf54f"
      },
      "execution_count": 26,
      "outputs": [
        {
          "output_type": "display_data",
          "data": {
            "text/plain": [
              "<Figure size 1000x600 with 1 Axes>"
            ],
            "image/png": "[encoded data removed]"
          },
          "metadata": {}
        }
      ]
    },
    {
      "cell_type": "code",
      "source": [
        "# Top-selling products\n",
        "top_products = df.groupby('Description').agg({'Quantity': 'sum'}).reset_index()\n",
        "top_products = top_products.sort_values(by='Quantity', ascending=False)\n",
        "\n",
        "# Display top-selling products\n",
        "print(\"Top-selling Products:\")\n",
        "print(top_products.head())"
      ],
      "metadata": {
        "colab": {
          "base_uri": "https://localhost:8080/"
        },
        "id": "4w_mXiFyO7Th",
        "outputId": "3f06535c-6eba-4bbf-f9e2-fe259a115335"
      },
      "execution_count": 27,
      "outputs": [
        {
          "output_type": "stream",
          "name": "stdout",
          "text": [
            "Top-selling Products:\n",
            "                             Description  Quantity\n",
            "2387         PAPER CRAFT , LITTLE BIRDIE     80995\n",
            "2052      MEDIUM CERAMIC TOP STORAGE JAR     78033\n",
            "3934   WORLD WAR 2 GLIDERS ASSTD DESIGNS     54951\n",
            "1816             JUMBO BAG RED RETROSPOT     48371\n",
            "3844  WHITE HANGING HEART T-LIGHT HOLDER     37872\n"
          ]
        }
      ]
    },
    {
      "cell_type": "code",
      "source": [
        "# List of UK holidays (example for the year 2010)\n",
        "uk_holidays = pd.to_datetime([\n",
        "    '2011-01-01',  # New Year's Day\n",
        "    '2011-04-02',  # Good Friday\n",
        "    '2011-04-05',  # Easter Monday\n",
        "    '2011-05-03',  # Early May Bank Holiday\n",
        "    '2011-05-31',  # Spring Bank Holiday\n",
        "    '2010-08-30',  # Summer Bank Holiday\n",
        "    '2010-12-25',  # Christmas Day\n",
        "    '2010-12-26',  # Boxing Day\n",
        "    '2010-12-27'   # Christmas Holiday (since Christmas Day was on a Saturday)\n",
        "])\n",
        "\n",
        "# Create a new column to mark holidays\n",
        "df['is_holiday'] = df['InvoiceDate'].isin(uk_holidays)\n",
        "\n",
        "# Aggregate sales by holiday and non-holiday\n",
        "sales_comparison = df.groupby('is_holiday').agg({'TotalAmount': 'sum'}).reset_index()\n",
        "\n",
        "# Display results\n",
        "print(\"Sales Comparison by Holiday Status:\")\n",
        "print(sales_comparison)\n",
        "\n",
        "# Plot the sales comparison\n",
        "plt.figure(figsize=(8, 6))\n",
        "plt.bar(sales_comparison['is_holiday'].astype(str), sales_comparison['TotalAmount'], color=['blue', 'orange'])\n",
        "plt.title('Sales Comparison: Holiday vs Non-Holiday')\n",
        "plt.xlabel('Is Holiday')\n",
        "plt.ylabel('Total Sales Amount')\n",
        "plt.xticks(ticks=[0, 1], labels=['Non-Holiday', 'Holiday'])\n",
        "plt.grid(True)\n",
        "plt.show()"
      ],
      "metadata": {
        "colab": {
          "base_uri": "https://localhost:8080/",
          "height": 618
        },
        "id": "no1cctvwO7Yg",
        "outputId": "b3ae16f2-8a78-46d5-b713-d65295422ca2"
      },
      "execution_count": 28,
      "outputs": [
        {
          "output_type": "stream",
          "name": "stdout",
          "text": [
            "Sales Comparison by Holiday Status:\n",
            "   is_holiday   TotalAmount\n",
            "0       False  1.064211e+07\n"
          ]
        },
        {
          "output_type": "display_data",
          "data": {
            "text/plain": [
              "<Figure size 800x600 with 1 Axes>"
            ],
            "image/png": "[encoded data removed]"
          },
          "metadata": {}
        }
      ]
    },
    {
      "cell_type": "markdown",
      "source": [
        "# Customer **Metrics**"
      ],
      "metadata": {
        "id": "k8l6i3KAiIlN"
      }
    },
    {
      "cell_type": "markdown",
      "source": [
        "### Average Purchase Frequency"
      ],
      "metadata": {
        "id": "WvEndLu0iOG1"
      }
    },
    {
      "cell_type": "code",
      "source": [
        "# Convert 'InvoiceDate' to datetime\n",
        "df['InvoiceDate'] = pd.to_datetime(df['InvoiceDate'])\n",
        "\n",
        "# Calculate purchase frequency\n",
        "customer_purchases = df.groupby('CustomerID').agg({\n",
        "    'InvoiceDate': ['min', 'max', 'count']\n",
        "}).reset_index()\n",
        "\n",
        "customer_purchases.columns = ['CustomerID', 'FirstPurchaseDate', 'LastPurchaseDate', 'TotalPurchases']\n",
        "\n",
        "# Calculate time span in days\n",
        "customer_purchases['DaysSpan'] = (customer_purchases['LastPurchaseDate'] - customer_purchases['FirstPurchaseDate']).dt.days\n",
        "\n",
        "# Calculate average purchase frequency\n",
        "customer_purchases['AverageFrequency'] = customer_purchases['TotalPurchases'] / customer_purchases['DaysSpan']\n",
        "\n",
        "print(\"Average Purchase Frequency per Customer:\")\n",
        "print(customer_purchases[['CustomerID', 'AverageFrequency']])\n"
      ],
      "metadata": {
        "colab": {
          "base_uri": "https://localhost:8080/"
        },
        "id": "hKwMCUp7O7bF",
        "outputId": "703beb35-2a81-4e9f-8286-6a8086c38c6a"
      },
      "execution_count": 29,
      "outputs": [
        {
          "output_type": "stream",
          "name": "stdout",
          "text": [
            "Average Purchase Frequency per Customer:\n",
            "     CustomerID  AverageFrequency\n",
            "0       12346.0               inf\n",
            "1       12347.0          0.498630\n",
            "2       12348.0          0.109929\n",
            "3       12349.0               inf\n",
            "4       12350.0               inf\n",
            "...         ...               ...\n",
            "4334    18281.0               inf\n",
            "4335    18282.0          0.101695\n",
            "4336    18283.0          2.165165\n",
            "4337    18287.0          0.443038\n",
            "4338    Unknown        355.338710\n",
            "\n",
            "[4339 rows x 2 columns]\n"
          ]
        }
      ]
    },
    {
      "cell_type": "markdown",
      "source": [
        "### Average Spend Per Visit"
      ],
      "metadata": {
        "id": "Ajrx_Lldimc5"
      }
    },
    {
      "cell_type": "code",
      "source": [
        "# Calculate total spend and average spend per visit\n",
        "customer_spend = df.groupby('CustomerID').agg({\n",
        "    'TotalAmount': 'sum',\n",
        "    'InvoiceNo': 'count'\n",
        "}).reset_index()\n",
        "\n",
        "customer_spend.columns = ['CustomerID', 'TotalSpend', 'TotalVisits']\n",
        "customer_spend['AverageSpendPerVisit'] = customer_spend['TotalSpend'] / customer_spend['TotalVisits']\n",
        "\n",
        "print(\"Average Spend Per Visit per Customer:\")\n",
        "print(customer_spend[['CustomerID', 'AverageSpendPerVisit']])"
      ],
      "metadata": {
        "colab": {
          "base_uri": "https://localhost:8080/"
        },
        "id": "pKiWgpNhO7dz",
        "outputId": "c51b7cd3-5f94-4927-dee2-4411de10684a"
      },
      "execution_count": 30,
      "outputs": [
        {
          "output_type": "stream",
          "name": "stdout",
          "text": [
            "Average Spend Per Visit per Customer:\n",
            "     CustomerID  AverageSpendPerVisit\n",
            "0       12346.0          77183.600000\n",
            "1       12347.0             23.681319\n",
            "2       12348.0             57.975484\n",
            "3       12349.0             24.076027\n",
            "4       12350.0             19.670588\n",
            "...         ...                   ...\n",
            "4334    18281.0             11.545714\n",
            "4335    18282.0             14.837500\n",
            "4336    18283.0              2.837074\n",
            "4337    18287.0             26.246857\n",
            "4338    Unknown             13.276004\n",
            "\n",
            "[4339 rows x 2 columns]\n"
          ]
        }
      ]
    },
    {
      "cell_type": "markdown",
      "source": [
        "### Total Spend Per Customer"
      ],
      "metadata": {
        "id": "uhnOEv-JixMy"
      }
    },
    {
      "cell_type": "code",
      "source": [
        "# Calculate total spend per customer\n",
        "total_spend_per_customer = df.groupby('CustomerID').agg({'TotalAmount': 'sum'}).reset_index()\n",
        "total_spend_per_customer.columns = ['CustomerID', 'TotalSpend']\n",
        "\n",
        "print(\"Total Spend per Customer:\")\n",
        "print(total_spend_per_customer)"
      ],
      "metadata": {
        "colab": {
          "base_uri": "https://localhost:8080/"
        },
        "id": "7rMQQ7sKO7gJ",
        "outputId": "7ef1b231-ad9f-4d27-cf21-2e173a88dd89"
      },
      "execution_count": 31,
      "outputs": [
        {
          "output_type": "stream",
          "name": "stdout",
          "text": [
            "Total Spend per Customer:\n",
            "     CustomerID  TotalSpend\n",
            "0       12346.0    77183.60\n",
            "1       12347.0     4310.00\n",
            "2       12348.0     1797.24\n",
            "3       12349.0     1757.55\n",
            "4       12350.0      334.40\n",
            "...         ...         ...\n",
            "4334    18281.0       80.82\n",
            "4335    18282.0      178.05\n",
            "4336    18283.0     2045.53\n",
            "4337    18287.0     1837.28\n",
            "4338    Unknown  1754901.91\n",
            "\n",
            "[4339 rows x 2 columns]\n"
          ]
        }
      ]
    },
    {
      "cell_type": "markdown",
      "source": [
        "# Product **Metrics**"
      ],
      "metadata": {
        "id": "kcZViDgci4zX"
      }
    },
    {
      "cell_type": "markdown",
      "source": [
        "### Stock Turn Rate"
      ],
      "metadata": {
        "id": "UXBJmWM8jBk3"
      }
    },
    {
      "cell_type": "code",
      "source": [
        "# Calculate stock turn rate\n",
        "product_sales = df.groupby('StockCode').agg({\n",
        "    'Quantity': 'sum'\n",
        "}).reset_index()\n",
        "product_sales.columns = ['StockCode', 'TotalQuantitySold']\n",
        "\n",
        "# Assuming you have stock level data or need to estimate\n",
        "product_sales['StockTurnRate'] = product_sales['TotalQuantitySold'] / 1000  # Example denominator\n",
        "\n",
        "print(\"Stock Turn Rate per Product:\")\n",
        "print(product_sales[['StockCode', 'StockTurnRate']])\n"
      ],
      "metadata": {
        "colab": {
          "base_uri": "https://localhost:8080/"
        },
        "id": "5eHUCIBEO7iG",
        "outputId": "85ecb9f0-1c6f-474a-f4cf-fe006c7a33d5"
      },
      "execution_count": 32,
      "outputs": [
        {
          "output_type": "stream",
          "name": "stdout",
          "text": [
            "Stock Turn Rate per Product:\n",
            "         StockCode  StockTurnRate\n",
            "0            10002          0.860\n",
            "1            10080          0.303\n",
            "2            10120          0.192\n",
            "3            10125          1.295\n",
            "4            10133          2.856\n",
            "...            ...            ...\n",
            "3917  gift_0001_20          0.010\n",
            "3918  gift_0001_30          0.007\n",
            "3919  gift_0001_40          0.003\n",
            "3920  gift_0001_50          0.004\n",
            "3921             m          0.001\n",
            "\n",
            "[3922 rows x 2 columns]\n"
          ]
        }
      ]
    },
    {
      "cell_type": "markdown",
      "source": [
        "### Average Price"
      ],
      "metadata": {
        "id": "hDj-qUQ8jI9r"
      }
    },
    {
      "cell_type": "code",
      "source": [
        "# Calculate average price per product\n",
        "average_price_per_product = df.groupby('StockCode').agg({\n",
        "    'UnitPrice': 'mean'\n",
        "}).reset_index()\n",
        "\n",
        "average_price_per_product.columns = ['StockCode', 'AveragePrice']\n",
        "\n",
        "print(\"Average Price per Product:\")\n",
        "print(average_price_per_product)\n"
      ],
      "metadata": {
        "colab": {
          "base_uri": "https://localhost:8080/"
        },
        "id": "SzQ-yJctjDB0",
        "outputId": "3cdbb4fe-100e-48bc-fcef-5c8833f49c1d"
      },
      "execution_count": 33,
      "outputs": [
        {
          "output_type": "stream",
          "name": "stdout",
          "text": [
            "Average Price per Product:\n",
            "         StockCode  AveragePrice\n",
            "0            10002      1.086620\n",
            "1            10080      0.410909\n",
            "2            10120      0.210000\n",
            "3            10125      0.859785\n",
            "4            10133      0.652551\n",
            "...            ...           ...\n",
            "3917  gift_0001_20     16.708889\n",
            "3918  gift_0001_30     25.075714\n",
            "3919  gift_0001_40     33.566667\n",
            "3920  gift_0001_50     41.890000\n",
            "3921             m      2.550000\n",
            "\n",
            "[3922 rows x 2 columns]\n"
          ]
        }
      ]
    },
    {
      "cell_type": "markdown",
      "source": [
        "### Sales Volume per Product"
      ],
      "metadata": {
        "id": "0o_f6UVijJ6q"
      }
    },
    {
      "cell_type": "code",
      "source": [
        "# Calculate sales volume per product\n",
        "sales_volume_per_product = df.groupby('StockCode').agg({\n",
        "    'Quantity': 'sum'\n",
        "}).reset_index()\n",
        "\n",
        "sales_volume_per_product.columns = ['StockCode', 'SalesVolume']\n",
        "\n",
        "print(\"Sales Volume per Product:\")\n",
        "print(sales_volume_per_product)\n"
      ],
      "metadata": {
        "colab": {
          "base_uri": "https://localhost:8080/"
        },
        "id": "yAkYslKTjVA2",
        "outputId": "855eda14-922f-4dda-a59f-f66ae2d920c2"
      },
      "execution_count": 34,
      "outputs": [
        {
          "output_type": "stream",
          "name": "stdout",
          "text": [
            "Sales Volume per Product:\n",
            "         StockCode  SalesVolume\n",
            "0            10002          860\n",
            "1            10080          303\n",
            "2            10120          192\n",
            "3            10125         1295\n",
            "4            10133         2856\n",
            "...            ...          ...\n",
            "3917  gift_0001_20           10\n",
            "3918  gift_0001_30            7\n",
            "3919  gift_0001_40            3\n",
            "3920  gift_0001_50            4\n",
            "3921             m            1\n",
            "\n",
            "[3922 rows x 2 columns]\n"
          ]
        }
      ]
    },
    {
      "cell_type": "code",
      "source": [],
      "metadata": {
        "id": "W4PA_iUajVMG"
      },
      "execution_count": 34,
      "outputs": []
    },
    {
      "cell_type": "code",
      "source": [
        "dffrom sklearn.ensemble import RandomForestRegressor\n",
        "from statsmodels.tsa.arima.model import ARIMA\n",
        "from statsmodels.tsa.statespace.sarimax import SARIMAX\n",
        "from statsmodels.tsa.seasonal import seasonal_decompose\n",
        "from statsmodels.tsa.stattools import adfuller\n",
        "from sklearn.model_selection import train_test_split, GridSearchCV\n",
        "from sklearn.metrics import mean_absolute_error, mean_squared_error"
      ],
      "metadata": {
        "id": "olUZEqeqjVSW"
      },
      "execution_count": 35,
      "outputs": []
    },
    {
      "cell_type": "code",
      "source": [
        "new_data = df[['InvoiceDate', 'Quantity', 'TotalAmount']]"
      ],
      "metadata": {
        "id": "FdK4AA4wFJ-u"
      },
      "execution_count": 36,
      "outputs": []
    },
    {
      "cell_type": "code",
      "source": [
        "df.set_index('InvoiceDate', inplace=True)"
      ],
      "metadata": {
        "id": "IO13ol5Wk1MO"
      },
      "execution_count": 37,
      "outputs": []
    },
    {
      "cell_type": "code",
      "source": [
        "print(df.dtypes)"
      ],
      "metadata": {
        "colab": {
          "base_uri": "https://localhost:8080/"
        },
        "id": "uoQJq7cql1iH",
        "outputId": "f979d637-d031-4738-b812-8aff7f75f3b7"
      },
      "execution_count": 38,
      "outputs": [
        {
          "output_type": "stream",
          "name": "stdout",
          "text": [
            "InvoiceNo           object\n",
            "StockCode           object\n",
            "Description         object\n",
            "Quantity             int64\n",
            "UnitPrice          float64\n",
            "CustomerID          object\n",
            "Country             object\n",
            "TotalAmount        float64\n",
            "Invoice_Year         int32\n",
            "Invoice_Month        int32\n",
            "Invoice_Day          int32\n",
            "Invoice_Weekday      int32\n",
            "is_holiday            bool\n",
            "dtype: object\n"
          ]
        }
      ]
    },
    {
      "cell_type": "code",
      "source": [
        "df['TotalAmount'] = pd.to_numeric(df['TotalAmount'], errors='coerce')"
      ],
      "metadata": {
        "id": "TPH7XUHAl8xS"
      },
      "execution_count": 39,
      "outputs": []
    },
    {
      "cell_type": "code",
      "source": [
        "df['TotalAmount'].fillna(0, inplace=True)"
      ],
      "metadata": {
        "id": "DWCfu1PPl9bi"
      },
      "execution_count": 40,
      "outputs": []
    },
    {
      "cell_type": "code",
      "source": [
        "print(df['TotalAmount'].apply(type).value_counts())"
      ],
      "metadata": {
        "colab": {
          "base_uri": "https://localhost:8080/"
        },
        "id": "XMX9ffzGl9fw",
        "outputId": "82537270-f250-4ac9-97fb-822bd200efb7"
      },
      "execution_count": 41,
      "outputs": [
        {
          "output_type": "stream",
          "name": "stdout",
          "text": [
            "TotalAmount\n",
            "<class 'float'>    524878\n",
            "Name: count, dtype: int64\n"
          ]
        }
      ]
    },
    {
      "cell_type": "code",
      "source": [
        "# Identify rows with non-numeric 'TotalAmount' values\n",
        "non_numeric_values = df[~df['TotalAmount'].apply(lambda x: isinstance(x, (int, float)))]\n",
        "print(non_numeric_values)"
      ],
      "metadata": {
        "colab": {
          "base_uri": "https://localhost:8080/"
        },
        "id": "mG7P_py_9tZS",
        "outputId": "48ee632a-9853-48ab-f0c0-c436ca3183df"
      },
      "execution_count": 42,
      "outputs": [
        {
          "output_type": "stream",
          "name": "stdout",
          "text": [
            "Empty DataFrame\n",
            "Columns: [InvoiceNo, StockCode, Description, Quantity, UnitPrice, CustomerID, Country, TotalAmount, Invoice_Year, Invoice_Month, Invoice_Day, Invoice_Weekday, is_holiday]\n",
            "Index: []\n"
          ]
        }
      ]
    },
    {
      "cell_type": "code",
      "source": [
        "# Convert 'TotalAmount' to numeric, coercing errors to NaN\n",
        "df['TotalAmount'] = pd.to_numeric(df['TotalAmount'], errors='coerce')\n",
        "\n",
        "# Check for NaN values after conversion\n",
        "nan_rows = df[df['TotalAmount'].isna()]\n",
        "print(\"Rows with NaN after conversion:\")\n",
        "print(nan_rows)"
      ],
      "metadata": {
        "colab": {
          "base_uri": "https://localhost:8080/"
        },
        "id": "Atp8SFGh-cea",
        "outputId": "f87194f8-d772-4acd-958e-2d3508b24348"
      },
      "execution_count": 43,
      "outputs": [
        {
          "output_type": "stream",
          "name": "stdout",
          "text": [
            "Rows with NaN after conversion:\n",
            "Empty DataFrame\n",
            "Columns: [InvoiceNo, StockCode, Description, Quantity, UnitPrice, CustomerID, Country, TotalAmount, Invoice_Year, Invoice_Month, Invoice_Day, Invoice_Weekday, is_holiday]\n",
            "Index: []\n"
          ]
        }
      ]
    },
    {
      "cell_type": "code",
      "source": [
        "# Check for string or non-numeric values\n",
        "non_numeric_values = df[~df['TotalAmount'].apply(lambda x: isinstance(x, (int, float)))]\n",
        "\n",
        "print(\"Rows with non-numeric (string or other) values in 'TotalAmount':\")\n",
        "print(non_numeric_values)"
      ],
      "metadata": {
        "colab": {
          "base_uri": "https://localhost:8080/"
        },
        "id": "_twNQQM8_2Ae",
        "outputId": "1f9f33e8-61ca-4a3a-e2ec-1efac81b4d14"
      },
      "execution_count": 44,
      "outputs": [
        {
          "output_type": "stream",
          "name": "stdout",
          "text": [
            "Rows with non-numeric (string or other) values in 'TotalAmount':\n",
            "Empty DataFrame\n",
            "Columns: [InvoiceNo, StockCode, Description, Quantity, UnitPrice, CustomerID, Country, TotalAmount, Invoice_Year, Invoice_Month, Invoice_Day, Invoice_Weekday, is_holiday]\n",
            "Index: []\n"
          ]
        }
      ]
    },
    {
      "cell_type": "code",
      "source": [
        "df"
      ],
      "metadata": {
        "colab": {
          "base_uri": "https://localhost:8080/",
          "height": 961
        },
        "id": "4hMC0NNV_MAJ",
        "outputId": "d9785b7a-47a1-485d-f898-2aee0229d586"
      },
      "execution_count": 45,
      "outputs": [
        {
          "output_type": "execute_result",
          "data": {
            "text/plain": [
              "                    InvoiceNo StockCode                          Description  \\\n",
              "InvoiceDate                                                                    \n",
              "2010-12-01 08:26:00    536365    85123A   WHITE HANGING HEART T-LIGHT HOLDER   \n",
              "2010-12-01 08:26:00    536365     71053                  WHITE METAL LANTERN   \n",
              "2010-12-01 08:26:00    536365    84406B       CREAM CUPID HEARTS COAT HANGER   \n",
              "2010-12-01 08:26:00    536365    84029G  KNITTED UNION FLAG HOT WATER BOTTLE   \n",
              "2010-12-01 08:26:00    536365    84029E       RED WOOLLY HOTTIE WHITE HEART.   \n",
              "...                       ...       ...                                  ...   \n",
              "2011-12-09 12:50:00    581587     22613          PACK OF 20 SPACEBOY NAPKINS   \n",
              "2011-12-09 12:50:00    581587     22899         CHILDREN'S APRON DOLLY GIRL    \n",
              "2011-12-09 12:50:00    581587     23254        CHILDRENS CUTLERY DOLLY GIRL    \n",
              "2011-12-09 12:50:00    581587     23255      CHILDRENS CUTLERY CIRCUS PARADE   \n",
              "2011-12-09 12:50:00    581587     22138        BAKING SET 9 PIECE RETROSPOT    \n",
              "\n",
              "                     Quantity  UnitPrice CustomerID         Country  \\\n",
              "InvoiceDate                                                           \n",
              "2010-12-01 08:26:00         6       2.55    17850.0  United Kingdom   \n",
              "2010-12-01 08:26:00         6       3.39    17850.0  United Kingdom   \n",
              "2010-12-01 08:26:00         8       2.75    17850.0  United Kingdom   \n",
              "2010-12-01 08:26:00         6       3.39    17850.0  United Kingdom   \n",
              "2010-12-01 08:26:00         6       3.39    17850.0  United Kingdom   \n",
              "...                       ...        ...        ...             ...   \n",
              "2011-12-09 12:50:00        12       0.85    12680.0          France   \n",
              "2011-12-09 12:50:00         6       2.10    12680.0          France   \n",
              "2011-12-09 12:50:00         4       4.15    12680.0          France   \n",
              "2011-12-09 12:50:00         4       4.15    12680.0          France   \n",
              "2011-12-09 12:50:00         3       4.95    12680.0          France   \n",
              "\n",
              "                     TotalAmount  Invoice_Year  Invoice_Month  Invoice_Day  \\\n",
              "InvoiceDate                                                                  \n",
              "2010-12-01 08:26:00        15.30          2010             12            1   \n",
              "2010-12-01 08:26:00        20.34          2010             12            1   \n",
              "2010-12-01 08:26:00        22.00          2010             12            1   \n",
              "2010-12-01 08:26:00        20.34          2010             12            1   \n",
              "2010-12-01 08:26:00        20.34          2010             12            1   \n",
              "...                          ...           ...            ...          ...   \n",
              "2011-12-09 12:50:00        10.20          2011             12            9   \n",
              "2011-12-09 12:50:00        12.60          2011             12            9   \n",
              "2011-12-09 12:50:00        16.60          2011             12            9   \n",
              "2011-12-09 12:50:00        16.60          2011             12            9   \n",
              "2011-12-09 12:50:00        14.85          2011             12            9   \n",
              "\n",
              "                     Invoice_Weekday  is_holiday  \n",
              "InvoiceDate                                       \n",
              "2010-12-01 08:26:00                2       False  \n",
              "2010-12-01 08:26:00                2       False  \n",
              "2010-12-01 08:26:00                2       False  \n",
              "2010-12-01 08:26:00                2       False  \n",
              "2010-12-01 08:26:00                2       False  \n",
              "...                              ...         ...  \n",
              "2011-12-09 12:50:00                4       False  \n",
              "2011-12-09 12:50:00                4       False  \n",
              "2011-12-09 12:50:00                4       False  \n",
              "2011-12-09 12:50:00                4       False  \n",
              "2011-12-09 12:50:00                4       False  \n",
              "\n",
              "[524878 rows x 13 columns]"
            ],
            "text/html": [
              "\n",
              "  <div id=\"df-b7c1da8a-0673-47b8-b96d-2084fb73e2af\" class=\"colab-df-container\">\n",
              "    <div>\n",
              "<style scoped>\n",
              "    .dataframe tbody tr th:only-of-type {\n",
              "        vertical-align: middle;\n",
              "    }\n",
              "\n",
              "    .dataframe tbody tr th {\n",
              "        vertical-align: top;\n",
              "    }\n",
              "\n",
              "    .dataframe thead th {\n",
              "        text-align: right;\n",
              "    }\n",
              "</style>\n",
              "<table border=\"1\" class=\"dataframe\">\n",
              "  <thead>\n",
              "    <tr style=\"text-align: right;\">\n",
              "      <th></th>\n",
              "      <th>InvoiceNo</th>\n",
              "      <th>StockCode</th>\n",
              "      <th>Description</th>\n",
              "      <th>Quantity</th>\n",
              "      <th>UnitPrice</th>\n",
              "      <th>CustomerID</th>\n",
              "      <th>Country</th>\n",
              "      <th>TotalAmount</th>\n",
              "      <th>Invoice_Year</th>\n",
              "      <th>Invoice_Month</th>\n",
              "      <th>Invoice_Day</th>\n",
              "      <th>Invoice_Weekday</th>\n",
              "      <th>is_holiday</th>\n",
              "    </tr>\n",
              "    <tr>\n",
              "      <th>InvoiceDate</th>\n",
              "      <th></th>\n",
              "      <th></th>\n",
              "      <th></th>\n",
              "      <th></th>\n",
              "      <th></th>\n",
              "      <th></th>\n",
              "      <th></th>\n",
              "      <th></th>\n",
              "      <th></th>\n",
              "      <th></th>\n",
              "      <th></th>\n",
              "      <th></th>\n",
              "      <th></th>\n",
              "    </tr>\n",
              "  </thead>\n",
              "  <tbody>\n",
              "    <tr>\n",
              "      <th>2010-12-01 08:26:00</th>\n",
              "      <td>536365</td>\n",
              "      <td>85123A</td>\n",
              "      <td>WHITE HANGING HEART T-LIGHT HOLDER</td>\n",
              "      <td>6</td>\n",
              "      <td>2.55</td>\n",
              "      <td>17850.0</td>\n",
              "      <td>United Kingdom</td>\n",
              "      <td>15.30</td>\n",
              "      <td>2010</td>\n",
              "      <td>12</td>\n",
              "      <td>1</td>\n",
              "      <td>2</td>\n",
              "      <td>False</td>\n",
              "    </tr>\n",
              "    <tr>\n",
              "      <th>2010-12-01 08:26:00</th>\n",
              "      <td>536365</td>\n",
              "      <td>71053</td>\n",
              "      <td>WHITE METAL LANTERN</td>\n",
              "      <td>6</td>\n",
              "      <td>3.39</td>\n",
              "      <td>17850.0</td>\n",
              "      <td>United Kingdom</td>\n",
              "      <td>20.34</td>\n",
              "      <td>2010</td>\n",
              "      <td>12</td>\n",
              "      <td>1</td>\n",
              "      <td>2</td>\n",
              "      <td>False</td>\n",
              "    </tr>\n",
              "    <tr>\n",
              "      <th>2010-12-01 08:26:00</th>\n",
              "      <td>536365</td>\n",
              "      <td>84406B</td>\n",
              "      <td>CREAM CUPID HEARTS COAT HANGER</td>\n",
              "      <td>8</td>\n",
              "      <td>2.75</td>\n",
              "      <td>17850.0</td>\n",
              "      <td>United Kingdom</td>\n",
              "      <td>22.00</td>\n",
              "      <td>2010</td>\n",
              "      <td>12</td>\n",
              "      <td>1</td>\n",
              "      <td>2</td>\n",
              "      <td>False</td>\n",
              "    </tr>\n",
              "    <tr>\n",
              "      <th>2010-12-01 08:26:00</th>\n",
              "      <td>536365</td>\n",
              "      <td>84029G</td>\n",
              "      <td>KNITTED UNION FLAG HOT WATER BOTTLE</td>\n",
              "      <td>6</td>\n",
              "      <td>3.39</td>\n",
              "      <td>17850.0</td>\n",
              "      <td>United Kingdom</td>\n",
              "      <td>20.34</td>\n",
              "      <td>2010</td>\n",
              "      <td>12</td>\n",
              "      <td>1</td>\n",
              "      <td>2</td>\n",
              "      <td>False</td>\n",
              "    </tr>\n",
              "    <tr>\n",
              "      <th>2010-12-01 08:26:00</th>\n",
              "      <td>536365</td>\n",
              "      <td>84029E</td>\n",
              "      <td>RED WOOLLY HOTTIE WHITE HEART.</td>\n",
              "      <td>6</td>\n",
              "      <td>3.39</td>\n",
              "      <td>17850.0</td>\n",
              "      <td>United Kingdom</td>\n",
              "      <td>20.34</td>\n",
              "      <td>2010</td>\n",
              "      <td>12</td>\n",
              "      <td>1</td>\n",
              "      <td>2</td>\n",
              "      <td>False</td>\n",
              "    </tr>\n",
              "    <tr>\n",
              "      <th>...</th>\n",
              "      <td>...</td>\n",
              "      <td>...</td>\n",
              "      <td>...</td>\n",
              "      <td>...</td>\n",
              "      <td>...</td>\n",
              "      <td>...</td>\n",
              "      <td>...</td>\n",
              "      <td>...</td>\n",
              "      <td>...</td>\n",
              "      <td>...</td>\n",
              "      <td>...</td>\n",
              "      <td>...</td>\n",
              "      <td>...</td>\n",
              "    </tr>\n",
              "    <tr>\n",
              "      <th>2011-12-09 12:50:00</th>\n",
              "      <td>581587</td>\n",
              "      <td>22613</td>\n",
              "      <td>PACK OF 20 SPACEBOY NAPKINS</td>\n",
              "      <td>12</td>\n",
              "      <td>0.85</td>\n",
              "      <td>12680.0</td>\n",
              "      <td>France</td>\n",
              "      <td>10.20</td>\n",
              "      <td>2011</td>\n",
              "      <td>12</td>\n",
              "      <td>9</td>\n",
              "      <td>4</td>\n",
              "      <td>False</td>\n",
              "    </tr>\n",
              "    <tr>\n",
              "      <th>2011-12-09 12:50:00</th>\n",
              "      <td>581587</td>\n",
              "      <td>22899</td>\n",
              "      <td>CHILDREN'S APRON DOLLY GIRL</td>\n",
              "      <td>6</td>\n",
              "      <td>2.10</td>\n",
              "      <td>12680.0</td>\n",
              "      <td>France</td>\n",
              "      <td>12.60</td>\n",
              "      <td>2011</td>\n",
              "      <td>12</td>\n",
              "      <td>9</td>\n",
              "      <td>4</td>\n",
              "      <td>False</td>\n",
              "    </tr>\n",
              "    <tr>\n",
              "      <th>2011-12-09 12:50:00</th>\n",
              "      <td>581587</td>\n",
              "      <td>23254</td>\n",
              "      <td>CHILDRENS CUTLERY DOLLY GIRL</td>\n",
              "      <td>4</td>\n",
              "      <td>4.15</td>\n",
              "      <td>12680.0</td>\n",
              "      <td>France</td>\n",
              "      <td>16.60</td>\n",
              "      <td>2011</td>\n",
              "      <td>12</td>\n",
              "      <td>9</td>\n",
              "      <td>4</td>\n",
              "      <td>False</td>\n",
              "    </tr>\n",
              "    <tr>\n",
              "      <th>2011-12-09 12:50:00</th>\n",
              "      <td>581587</td>\n",
              "      <td>23255</td>\n",
              "      <td>CHILDRENS CUTLERY CIRCUS PARADE</td>\n",
              "      <td>4</td>\n",
              "      <td>4.15</td>\n",
              "      <td>12680.0</td>\n",
              "      <td>France</td>\n",
              "      <td>16.60</td>\n",
              "      <td>2011</td>\n",
              "      <td>12</td>\n",
              "      <td>9</td>\n",
              "      <td>4</td>\n",
              "      <td>False</td>\n",
              "    </tr>\n",
              "    <tr>\n",
              "      <th>2011-12-09 12:50:00</th>\n",
              "      <td>581587</td>\n",
              "      <td>22138</td>\n",
              "      <td>BAKING SET 9 PIECE RETROSPOT</td>\n",
              "      <td>3</td>\n",
              "      <td>4.95</td>\n",
              "      <td>12680.0</td>\n",
              "      <td>France</td>\n",
              "      <td>14.85</td>\n",
              "      <td>2011</td>\n",
              "      <td>12</td>\n",
              "      <td>9</td>\n",
              "      <td>4</td>\n",
              "      <td>False</td>\n",
              "    </tr>\n",
              "  </tbody>\n",
              "</table>\n",
              "<p>524878 rows × 13 columns</p>\n",
              "</div>\n",
              "    <div class=\"colab-df-buttons\">\n",
              "\n",
              "  <div class=\"colab-df-container\">\n",
              "    <button class=\"colab-df-convert\" onclick=\"convertToInteractive('df-b7c1da8a-0673-47b8-b96d-2084fb73e2af')\"\n",
              "            title=\"Convert this dataframe to an interactive table.\"\n",
              "            style=\"display:none;\">\n",
              "\n",
              "  <svg xmlns=\"http://www.w3.org/2000/svg\" height=\"24px\" viewBox=\"0 -960 960 960\">\n",
              "    <path d=\"M120-120v-720h720v720H120Zm60-500h600v-160H180v160Zm220 220h160v-160H400v160Zm0 220h160v-160H400v160ZM180-400h160v-160H180v160Zm440 0h160v-160H620v160ZM180-180h160v-160H180v160Zm440 0h160v-160H620v160Z\"/>\n",
              "  </svg>\n",
              "    </button>\n",
              "\n",
              "  <style>\n",
              "    .colab-df-container {\n",
              "      display:flex;\n",
              "      gap: 12px;\n",
              "    }\n",
              "\n",
              "    .colab-df-convert {\n",
              "      background-color: #E8F0FE;\n",
              "      border: none;\n",
              "      border-radius: 50%;\n",
              "      cursor: pointer;\n",
              "      display: none;\n",
              "      fill: #1967D2;\n",
              "      height: 32px;\n",
              "      padding: 0 0 0 0;\n",
              "      width: 32px;\n",
              "    }\n",
              "\n",
              "    .colab-df-convert:hover {\n",
              "      background-color: #E2EBFA;\n",
              "      box-shadow: 0px 1px 2px rgba(60, 64, 67, 0.3), 0px 1px 3px 1px rgba(60, 64, 67, 0.15);\n",
              "      fill: #174EA6;\n",
              "    }\n",
              "\n",
              "    .colab-df-buttons div {\n",
              "      margin-bottom: 4px;\n",
              "    }\n",
              "\n",
              "    [theme=dark] .colab-df-convert {\n",
              "      background-color: #3B4455;\n",
              "      fill: #D2E3FC;\n",
              "    }\n",
              "\n",
              "    [theme=dark] .colab-df-convert:hover {\n",
              "      background-color: #434B5C;\n",
              "      box-shadow: 0px 1px 3px 1px rgba(0, 0, 0, 0.15);\n",
              "      filter: drop-shadow(0px 1px 2px rgba(0, 0, 0, 0.3));\n",
              "      fill: #FFFFFF;\n",
              "    }\n",
              "  </style>\n",
              "\n",
              "    <script>\n",
              "      const buttonEl =\n",
              "        document.querySelector('#df-b7c1da8a-0673-47b8-b96d-2084fb73e2af button.colab-df-convert');\n",
              "      buttonEl.style.display =\n",
              "        google.colab.kernel.accessAllowed ? 'block' : 'none';\n",
              "\n",
              "      async function convertToInteractive(key) {\n",
              "        const element = document.querySelector('#df-b7c1da8a-0673-47b8-b96d-2084fb73e2af');\n",
              "        const dataTable =\n",
              "          await google.colab.kernel.invokeFunction('convertToInteractive',\n",
              "                                                    [key], {});\n",
              "        if (!dataTable) return;\n",
              "\n",
              "        const docLinkHtml = 'Like what you see? Visit the ' +\n",
              "          '<a target=\"_blank\" href=https://colab.research.google.com/notebooks/data_table.ipynb>data table notebook</a>'\n",
              "          + ' to learn more about interactive tables.';\n",
              "        element.innerHTML = '';\n",
              "        dataTable['output_type'] = 'display_data';\n",
              "        await google.colab.output.renderOutput(dataTable, element);\n",
              "        const docLink = document.createElement('div');\n",
              "        docLink.innerHTML = docLinkHtml;\n",
              "        element.appendChild(docLink);\n",
              "      }\n",
              "    </script>\n",
              "  </div>\n",
              "\n",
              "\n",
              "<div id=\"df-d039d947-89b2-4ed6-bf0f-7c73109f74d2\">\n",
              "  <button class=\"colab-df-quickchart\" onclick=\"quickchart('df-d039d947-89b2-4ed6-bf0f-7c73109f74d2')\"\n",
              "            title=\"Suggest charts\"\n",
              "            style=\"display:none;\">\n",
              "\n",
              "<svg xmlns=\"http://www.w3.org/2000/svg\" height=\"24px\"viewBox=\"0 0 24 24\"\n",
              "     width=\"24px\">\n",
              "    <g>\n",
              "        <path d=\"M19 3H5c-1.1 0-2 .9-2 2v14c0 1.1.9 2 2 2h14c1.1 0 2-.9 2-2V5c0-1.1-.9-2-2-2zM9 17H7v-7h2v7zm4 0h-2V7h2v10zm4 0h-2v-4h2v4z\"/>\n",
              "    </g>\n",
              "</svg>\n",
              "  </button>\n",
              "\n",
              "<style>\n",
              "  .colab-df-quickchart {\n",
              "      --bg-color: #E8F0FE;\n",
              "      --fill-color: #1967D2;\n",
              "      --hover-bg-color: #E2EBFA;\n",
              "      --hover-fill-color: #174EA6;\n",
              "      --disabled-fill-color: #AAA;\n",
              "      --disabled-bg-color: #DDD;\n",
              "  }\n",
              "\n",
              "  [theme=dark] .colab-df-quickchart {\n",
              "      --bg-color: #3B4455;\n",
              "      --fill-color: #D2E3FC;\n",
              "      --hover-bg-color: #434B5C;\n",
              "      --hover-fill-color: #FFFFFF;\n",
              "      --disabled-bg-color: #3B4455;\n",
              "      --disabled-fill-color: #666;\n",
              "  }\n",
              "\n",
              "  .colab-df-quickchart {\n",
              "    background-color: var(--bg-color);\n",
              "    border: none;\n",
              "    border-radius: 50%;\n",
              "    cursor: pointer;\n",
              "    display: none;\n",
              "    fill: var(--fill-color);\n",
              "    height: 32px;\n",
              "    padding: 0;\n",
              "    width: 32px;\n",
              "  }\n",
              "\n",
              "  .colab-df-quickchart:hover {\n",
              "    background-color: var(--hover-bg-color);\n",
              "    box-shadow: 0 1px 2px rgba(60, 64, 67, 0.3), 0 1px 3px 1px rgba(60, 64, 67, 0.15);\n",
              "    fill: var(--button-hover-fill-color);\n",
              "  }\n",
              "\n",
              "  .colab-df-quickchart-complete:disabled,\n",
              "  .colab-df-quickchart-complete:disabled:hover {\n",
              "    background-color: var(--disabled-bg-color);\n",
              "    fill: var(--disabled-fill-color);\n",
              "    box-shadow: none;\n",
              "  }\n",
              "\n",
              "  .colab-df-spinner {\n",
              "    border: 2px solid var(--fill-color);\n",
              "    border-color: transparent;\n",
              "    border-bottom-color: var(--fill-color);\n",
              "    animation:\n",
              "      spin 1s steps(1) infinite;\n",
              "  }\n",
              "\n",
              "  @keyframes spin {\n",
              "    0% {\n",
              "      border-color: transparent;\n",
              "      border-bottom-color: var(--fill-color);\n",
              "      border-left-color: var(--fill-color);\n",
              "    }\n",
              "    20% {\n",
              "      border-color: transparent;\n",
              "      border-left-color: var(--fill-color);\n",
              "      border-top-color: var(--fill-color);\n",
              "    }\n",
              "    30% {\n",
              "      border-color: transparent;\n",
              "      border-left-color: var(--fill-color);\n",
              "      border-top-color: var(--fill-color);\n",
              "      border-right-color: var(--fill-color);\n",
              "    }\n",
              "    40% {\n",
              "      border-color: transparent;\n",
              "      border-right-color: var(--fill-color);\n",
              "      border-top-color: var(--fill-color);\n",
              "    }\n",
              "    60% {\n",
              "      border-color: transparent;\n",
              "      border-right-color: var(--fill-color);\n",
              "    }\n",
              "    80% {\n",
              "      border-color: transparent;\n",
              "      border-right-color: var(--fill-color);\n",
              "      border-bottom-color: var(--fill-color);\n",
              "    }\n",
              "    90% {\n",
              "      border-color: transparent;\n",
              "      border-bottom-color: var(--fill-color);\n",
              "    }\n",
              "  }\n",
              "</style>\n",
              "\n",
              "  <script>\n",
              "    async function quickchart(key) {\n",
              "      const quickchartButtonEl =\n",
              "        document.querySelector('#' + key + ' button');\n",
              "      quickchartButtonEl.disabled = true;  // To prevent multiple clicks.\n",
              "      quickchartButtonEl.classList.add('colab-df-spinner');\n",
              "      try {\n",
              "        const charts = await google.colab.kernel.invokeFunction(\n",
              "            'suggestCharts', [key], {});\n",
              "      } catch (error) {\n",
              "        console.error('Error during call to suggestCharts:', error);\n",
              "      }\n",
              "      quickchartButtonEl.classList.remove('colab-df-spinner');\n",
              "      quickchartButtonEl.classList.add('colab-df-quickchart-complete');\n",
              "    }\n",
              "    (() => {\n",
              "      let quickchartButtonEl =\n",
              "        document.querySelector('#df-d039d947-89b2-4ed6-bf0f-7c73109f74d2 button');\n",
              "      quickchartButtonEl.style.display =\n",
              "        google.colab.kernel.accessAllowed ? 'block' : 'none';\n",
              "    })();\n",
              "  </script>\n",
              "</div>\n",
              "\n",
              "  <div id=\"id_f6d0b29c-d1a0-4add-98e8-c6458a030de5\">\n",
              "    <style>\n",
              "      .colab-df-generate {\n",
              "        background-color: #E8F0FE;\n",
              "        border: none;\n",
              "        border-radius: 50%;\n",
              "        cursor: pointer;\n",
              "        display: none;\n",
              "        fill: #1967D2;\n",
              "        height: 32px;\n",
              "        padding: 0 0 0 0;\n",
              "        width: 32px;\n",
              "      }\n",
              "\n",
              "      .colab-df-generate:hover {\n",
              "        background-color: #E2EBFA;\n",
              "        box-shadow: 0px 1px 2px rgba(60, 64, 67, 0.3), 0px 1px 3px 1px rgba(60, 64, 67, 0.15);\n",
              "        fill: #174EA6;\n",
              "      }\n",
              "\n",
              "      [theme=dark] .colab-df-generate {\n",
              "        background-color: #3B4455;\n",
              "        fill: #D2E3FC;\n",
              "      }\n",
              "\n",
              "      [theme=dark] .colab-df-generate:hover {\n",
              "        background-color: #434B5C;\n",
              "        box-shadow: 0px 1px 3px 1px rgba(0, 0, 0, 0.15);\n",
              "        filter: drop-shadow(0px 1px 2px rgba(0, 0, 0, 0.3));\n",
              "        fill: #FFFFFF;\n",
              "      }\n",
              "    </style>\n",
              "    <button class=\"colab-df-generate\" onclick=\"generateWithVariable('df')\"\n",
              "            title=\"Generate code using this dataframe.\"\n",
              "            style=\"display:none;\">\n",
              "\n",
              "  <svg xmlns=\"http://www.w3.org/2000/svg\" height=\"24px\"viewBox=\"0 0 24 24\"\n",
              "       width=\"24px\">\n",
              "    <path d=\"M7,19H8.4L18.45,9,17,7.55,7,17.6ZM5,21V16.75L18.45,3.32a2,2,0,0,1,2.83,0l1.4,1.43a1.91,1.91,0,0,1,.58,1.4,1.91,1.91,0,0,1-.58,1.4L9.25,21ZM18.45,9,17,7.55Zm-12,3A5.31,5.31,0,0,0,4.9,8.1,5.31,5.31,0,0,0,1,6.5,5.31,5.31,0,0,0,4.9,4.9,5.31,5.31,0,0,0,6.5,1,5.31,5.31,0,0,0,8.1,4.9,5.31,5.31,0,0,0,12,6.5,5.46,5.46,0,0,0,6.5,12Z\"/>\n",
              "  </svg>\n",
              "    </button>\n",
              "    <script>\n",
              "      (() => {\n",
              "      const buttonEl =\n",
              "        document.querySelector('#id_f6d0b29c-d1a0-4add-98e8-c6458a030de5 button.colab-df-generate');\n",
              "      buttonEl.style.display =\n",
              "        google.colab.kernel.accessAllowed ? 'block' : 'none';\n",
              "\n",
              "      buttonEl.onclick = () => {\n",
              "        google.colab.notebook.generateWithVariable('df');\n",
              "      }\n",
              "      })();\n",
              "    </script>\n",
              "  </div>\n",
              "\n",
              "    </div>\n",
              "  </div>\n"
            ],
            "application/vnd.google.colaboratory.intrinsic+json": {
              "type": "dataframe",
              "variable_name": "df"
            }
          },
          "metadata": {},
          "execution_count": 45
        }
      ]
    },
    {
      "cell_type": "code",
      "source": [
        "new_data"
      ],
      "metadata": {
        "colab": {
          "base_uri": "https://localhost:8080/",
          "height": 424
        },
        "id": "ArmMz9FgF244",
        "outputId": "c88fde18-3071-467a-9366-1a39c5a81620"
      },
      "execution_count": 47,
      "outputs": [
        {
          "output_type": "execute_result",
          "data": {
            "text/plain": [
              "               InvoiceDate  Quantity  TotalAmount\n",
              "0      2010-12-01 08:26:00         6        15.30\n",
              "1      2010-12-01 08:26:00         6        20.34\n",
              "2      2010-12-01 08:26:00         8        22.00\n",
              "3      2010-12-01 08:26:00         6        20.34\n",
              "4      2010-12-01 08:26:00         6        20.34\n",
              "...                    ...       ...          ...\n",
              "541904 2011-12-09 12:50:00        12        10.20\n",
              "541905 2011-12-09 12:50:00         6        12.60\n",
              "541906 2011-12-09 12:50:00         4        16.60\n",
              "541907 2011-12-09 12:50:00         4        16.60\n",
              "541908 2011-12-09 12:50:00         3        14.85\n",
              "\n",
              "[524878 rows x 3 columns]"
            ],
            "text/html": [
              "\n",
              "  <div id=\"df-846969c4-94fc-4162-9d05-baf1f59b3a91\" class=\"colab-df-container\">\n",
              "    <div>\n",
              "<style scoped>\n",
              "    .dataframe tbody tr th:only-of-type {\n",
              "        vertical-align: middle;\n",
              "    }\n",
              "\n",
              "    .dataframe tbody tr th {\n",
              "        vertical-align: top;\n",
              "    }\n",
              "\n",
              "    .dataframe thead th {\n",
              "        text-align: right;\n",
              "    }\n",
              "</style>\n",
              "<table border=\"1\" class=\"dataframe\">\n",
              "  <thead>\n",
              "    <tr style=\"text-align: right;\">\n",
              "      <th></th>\n",
              "      <th>InvoiceDate</th>\n",
              "      <th>Quantity</th>\n",
              "      <th>TotalAmount</th>\n",
              "    </tr>\n",
              "  </thead>\n",
              "  <tbody>\n",
              "    <tr>\n",
              "      <th>0</th>\n",
              "      <td>2010-12-01 08:26:00</td>\n",
              "      <td>6</td>\n",
              "      <td>15.30</td>\n",
              "    </tr>\n",
              "    <tr>\n",
              "      <th>1</th>\n",
              "      <td>2010-12-01 08:26:00</td>\n",
              "      <td>6</td>\n",
              "      <td>20.34</td>\n",
              "    </tr>\n",
              "    <tr>\n",
              "      <th>2</th>\n",
              "      <td>2010-12-01 08:26:00</td>\n",
              "      <td>8</td>\n",
              "      <td>22.00</td>\n",
              "    </tr>\n",
              "    <tr>\n",
              "      <th>3</th>\n",
              "      <td>2010-12-01 08:26:00</td>\n",
              "      <td>6</td>\n",
              "      <td>20.34</td>\n",
              "    </tr>\n",
              "    <tr>\n",
              "      <th>4</th>\n",
              "      <td>2010-12-01 08:26:00</td>\n",
              "      <td>6</td>\n",
              "      <td>20.34</td>\n",
              "    </tr>\n",
              "    <tr>\n",
              "      <th>...</th>\n",
              "      <td>...</td>\n",
              "      <td>...</td>\n",
              "      <td>...</td>\n",
              "    </tr>\n",
              "    <tr>\n",
              "      <th>541904</th>\n",
              "      <td>2011-12-09 12:50:00</td>\n",
              "      <td>12</td>\n",
              "      <td>10.20</td>\n",
              "    </tr>\n",
              "    <tr>\n",
              "      <th>541905</th>\n",
              "      <td>2011-12-09 12:50:00</td>\n",
              "      <td>6</td>\n",
              "      <td>12.60</td>\n",
              "    </tr>\n",
              "    <tr>\n",
              "      <th>541906</th>\n",
              "      <td>2011-12-09 12:50:00</td>\n",
              "      <td>4</td>\n",
              "      <td>16.60</td>\n",
              "    </tr>\n",
              "    <tr>\n",
              "      <th>541907</th>\n",
              "      <td>2011-12-09 12:50:00</td>\n",
              "      <td>4</td>\n",
              "      <td>16.60</td>\n",
              "    </tr>\n",
              "    <tr>\n",
              "      <th>541908</th>\n",
              "      <td>2011-12-09 12:50:00</td>\n",
              "      <td>3</td>\n",
              "      <td>14.85</td>\n",
              "    </tr>\n",
              "  </tbody>\n",
              "</table>\n",
              "<p>524878 rows × 3 columns</p>\n",
              "</div>\n",
              "    <div class=\"colab-df-buttons\">\n",
              "\n",
              "  <div class=\"colab-df-container\">\n",
              "    <button class=\"colab-df-convert\" onclick=\"convertToInteractive('df-846969c4-94fc-4162-9d05-baf1f59b3a91')\"\n",
              "            title=\"Convert this dataframe to an interactive table.\"\n",
              "            style=\"display:none;\">\n",
              "\n",
              "  <svg xmlns=\"http://www.w3.org/2000/svg\" height=\"24px\" viewBox=\"0 -960 960 960\">\n",
              "    <path d=\"M120-120v-720h720v720H120Zm60-500h600v-160H180v160Zm220 220h160v-160H400v160Zm0 220h160v-160H400v160ZM180-400h160v-160H180v160Zm440 0h160v-160H620v160ZM180-180h160v-160H180v160Zm440 0h160v-160H620v160Z\"/>\n",
              "  </svg>\n",
              "    </button>\n",
              "\n",
              "  <style>\n",
              "    .colab-df-container {\n",
              "      display:flex;\n",
              "      gap: 12px;\n",
              "    }\n",
              "\n",
              "    .colab-df-convert {\n",
              "      background-color: #E8F0FE;\n",
              "      border: none;\n",
              "      border-radius: 50%;\n",
              "      cursor: pointer;\n",
              "      display: none;\n",
              "      fill: #1967D2;\n",
              "      height: 32px;\n",
              "      padding: 0 0 0 0;\n",
              "      width: 32px;\n",
              "    }\n",
              "\n",
              "    .colab-df-convert:hover {\n",
              "      background-color: #E2EBFA;\n",
              "      box-shadow: 0px 1px 2px rgba(60, 64, 67, 0.3), 0px 1px 3px 1px rgba(60, 64, 67, 0.15);\n",
              "      fill: #174EA6;\n",
              "    }\n",
              "\n",
              "    .colab-df-buttons div {\n",
              "      margin-bottom: 4px;\n",
              "    }\n",
              "\n",
              "    [theme=dark] .colab-df-convert {\n",
              "      background-color: #3B4455;\n",
              "      fill: #D2E3FC;\n",
              "    }\n",
              "\n",
              "    [theme=dark] .colab-df-convert:hover {\n",
              "      background-color: #434B5C;\n",
              "      box-shadow: 0px 1px 3px 1px rgba(0, 0, 0, 0.15);\n",
              "      filter: drop-shadow(0px 1px 2px rgba(0, 0, 0, 0.3));\n",
              "      fill: #FFFFFF;\n",
              "    }\n",
              "  </style>\n",
              "\n",
              "    <script>\n",
              "      const buttonEl =\n",
              "        document.querySelector('#df-846969c4-94fc-4162-9d05-baf1f59b3a91 button.colab-df-convert');\n",
              "      buttonEl.style.display =\n",
              "        google.colab.kernel.accessAllowed ? 'block' : 'none';\n",
              "\n",
              "      async function convertToInteractive(key) {\n",
              "        const element = document.querySelector('#df-846969c4-94fc-4162-9d05-baf1f59b3a91');\n",
              "        const dataTable =\n",
              "          await google.colab.kernel.invokeFunction('convertToInteractive',\n",
              "                                                    [key], {});\n",
              "        if (!dataTable) return;\n",
              "\n",
              "        const docLinkHtml = 'Like what you see? Visit the ' +\n",
              "          '<a target=\"_blank\" href=https://colab.research.google.com/notebooks/data_table.ipynb>data table notebook</a>'\n",
              "          + ' to learn more about interactive tables.';\n",
              "        element.innerHTML = '';\n",
              "        dataTable['output_type'] = 'display_data';\n",
              "        await google.colab.output.renderOutput(dataTable, element);\n",
              "        const docLink = document.createElement('div');\n",
              "        docLink.innerHTML = docLinkHtml;\n",
              "        element.appendChild(docLink);\n",
              "      }\n",
              "    </script>\n",
              "  </div>\n",
              "\n",
              "\n",
              "<div id=\"df-d5022754-a09b-473f-8f5d-0ca1220f3e7a\">\n",
              "  <button class=\"colab-df-quickchart\" onclick=\"quickchart('df-d5022754-a09b-473f-8f5d-0ca1220f3e7a')\"\n",
              "            title=\"Suggest charts\"\n",
              "            style=\"display:none;\">\n",
              "\n",
              "<svg xmlns=\"http://www.w3.org/2000/svg\" height=\"24px\"viewBox=\"0 0 24 24\"\n",
              "     width=\"24px\">\n",
              "    <g>\n",
              "        <path d=\"M19 3H5c-1.1 0-2 .9-2 2v14c0 1.1.9 2 2 2h14c1.1 0 2-.9 2-2V5c0-1.1-.9-2-2-2zM9 17H7v-7h2v7zm4 0h-2V7h2v10zm4 0h-2v-4h2v4z\"/>\n",
              "    </g>\n",
              "</svg>\n",
              "  </button>\n",
              "\n",
              "<style>\n",
              "  .colab-df-quickchart {\n",
              "      --bg-color: #E8F0FE;\n",
              "      --fill-color: #1967D2;\n",
              "      --hover-bg-color: #E2EBFA;\n",
              "      --hover-fill-color: #174EA6;\n",
              "      --disabled-fill-color: #AAA;\n",
              "      --disabled-bg-color: #DDD;\n",
              "  }\n",
              "\n",
              "  [theme=dark] .colab-df-quickchart {\n",
              "      --bg-color: #3B4455;\n",
              "      --fill-color: #D2E3FC;\n",
              "      --hover-bg-color: #434B5C;\n",
              "      --hover-fill-color: #FFFFFF;\n",
              "      --disabled-bg-color: #3B4455;\n",
              "      --disabled-fill-color: #666;\n",
              "  }\n",
              "\n",
              "  .colab-df-quickchart {\n",
              "    background-color: var(--bg-color);\n",
              "    border: none;\n",
              "    border-radius: 50%;\n",
              "    cursor: pointer;\n",
              "    display: none;\n",
              "    fill: var(--fill-color);\n",
              "    height: 32px;\n",
              "    padding: 0;\n",
              "    width: 32px;\n",
              "  }\n",
              "\n",
              "  .colab-df-quickchart:hover {\n",
              "    background-color: var(--hover-bg-color);\n",
              "    box-shadow: 0 1px 2px rgba(60, 64, 67, 0.3), 0 1px 3px 1px rgba(60, 64, 67, 0.15);\n",
              "    fill: var(--button-hover-fill-color);\n",
              "  }\n",
              "\n",
              "  .colab-df-quickchart-complete:disabled,\n",
              "  .colab-df-quickchart-complete:disabled:hover {\n",
              "    background-color: var(--disabled-bg-color);\n",
              "    fill: var(--disabled-fill-color);\n",
              "    box-shadow: none;\n",
              "  }\n",
              "\n",
              "  .colab-df-spinner {\n",
              "    border: 2px solid var(--fill-color);\n",
              "    border-color: transparent;\n",
              "    border-bottom-color: var(--fill-color);\n",
              "    animation:\n",
              "      spin 1s steps(1) infinite;\n",
              "  }\n",
              "\n",
              "  @keyframes spin {\n",
              "    0% {\n",
              "      border-color: transparent;\n",
              "      border-bottom-color: var(--fill-color);\n",
              "      border-left-color: var(--fill-color);\n",
              "    }\n",
              "    20% {\n",
              "      border-color: transparent;\n",
              "      border-left-color: var(--fill-color);\n",
              "      border-top-color: var(--fill-color);\n",
              "    }\n",
              "    30% {\n",
              "      border-color: transparent;\n",
              "      border-left-color: var(--fill-color);\n",
              "      border-top-color: var(--fill-color);\n",
              "      border-right-color: var(--fill-color);\n",
              "    }\n",
              "    40% {\n",
              "      border-color: transparent;\n",
              "      border-right-color: var(--fill-color);\n",
              "      border-top-color: var(--fill-color);\n",
              "    }\n",
              "    60% {\n",
              "      border-color: transparent;\n",
              "      border-right-color: var(--fill-color);\n",
              "    }\n",
              "    80% {\n",
              "      border-color: transparent;\n",
              "      border-right-color: var(--fill-color);\n",
              "      border-bottom-color: var(--fill-color);\n",
              "    }\n",
              "    90% {\n",
              "      border-color: transparent;\n",
              "      border-bottom-color: var(--fill-color);\n",
              "    }\n",
              "  }\n",
              "</style>\n",
              "\n",
              "  <script>\n",
              "    async function quickchart(key) {\n",
              "      const quickchartButtonEl =\n",
              "        document.querySelector('#' + key + ' button');\n",
              "      quickchartButtonEl.disabled = true;  // To prevent multiple clicks.\n",
              "      quickchartButtonEl.classList.add('colab-df-spinner');\n",
              "      try {\n",
              "        const charts = await google.colab.kernel.invokeFunction(\n",
              "            'suggestCharts', [key], {});\n",
              "      } catch (error) {\n",
              "        console.error('Error during call to suggestCharts:', error);\n",
              "      }\n",
              "      quickchartButtonEl.classList.remove('colab-df-spinner');\n",
              "      quickchartButtonEl.classList.add('colab-df-quickchart-complete');\n",
              "    }\n",
              "    (() => {\n",
              "      let quickchartButtonEl =\n",
              "        document.querySelector('#df-d5022754-a09b-473f-8f5d-0ca1220f3e7a button');\n",
              "      quickchartButtonEl.style.display =\n",
              "        google.colab.kernel.accessAllowed ? 'block' : 'none';\n",
              "    })();\n",
              "  </script>\n",
              "</div>\n",
              "\n",
              "  <div id=\"id_2433ff03-dff9-46da-a73f-45d46b61ebeb\">\n",
              "    <style>\n",
              "      .colab-df-generate {\n",
              "        background-color: #E8F0FE;\n",
              "        border: none;\n",
              "        border-radius: 50%;\n",
              "        cursor: pointer;\n",
              "        display: none;\n",
              "        fill: #1967D2;\n",
              "        height: 32px;\n",
              "        padding: 0 0 0 0;\n",
              "        width: 32px;\n",
              "      }\n",
              "\n",
              "      .colab-df-generate:hover {\n",
              "        background-color: #E2EBFA;\n",
              "        box-shadow: 0px 1px 2px rgba(60, 64, 67, 0.3), 0px 1px 3px 1px rgba(60, 64, 67, 0.15);\n",
              "        fill: #174EA6;\n",
              "      }\n",
              "\n",
              "      [theme=dark] .colab-df-generate {\n",
              "        background-color: #3B4455;\n",
              "        fill: #D2E3FC;\n",
              "      }\n",
              "\n",
              "      [theme=dark] .colab-df-generate:hover {\n",
              "        background-color: #434B5C;\n",
              "        box-shadow: 0px 1px 3px 1px rgba(0, 0, 0, 0.15);\n",
              "        filter: drop-shadow(0px 1px 2px rgba(0, 0, 0, 0.3));\n",
              "        fill: #FFFFFF;\n",
              "      }\n",
              "    </style>\n",
              "    <button class=\"colab-df-generate\" onclick=\"generateWithVariable('new_data')\"\n",
              "            title=\"Generate code using this dataframe.\"\n",
              "            style=\"display:none;\">\n",
              "\n",
              "  <svg xmlns=\"http://www.w3.org/2000/svg\" height=\"24px\"viewBox=\"0 0 24 24\"\n",
              "       width=\"24px\">\n",
              "    <path d=\"M7,19H8.4L18.45,9,17,7.55,7,17.6ZM5,21V16.75L18.45,3.32a2,2,0,0,1,2.83,0l1.4,1.43a1.91,1.91,0,0,1,.58,1.4,1.91,1.91,0,0,1-.58,1.4L9.25,21ZM18.45,9,17,7.55Zm-12,3A5.31,5.31,0,0,0,4.9,8.1,5.31,5.31,0,0,0,1,6.5,5.31,5.31,0,0,0,4.9,4.9,5.31,5.31,0,0,0,6.5,1,5.31,5.31,0,0,0,8.1,4.9,5.31,5.31,0,0,0,12,6.5,5.46,5.46,0,0,0,6.5,12Z\"/>\n",
              "  </svg>\n",
              "    </button>\n",
              "    <script>\n",
              "      (() => {\n",
              "      const buttonEl =\n",
              "        document.querySelector('#id_2433ff03-dff9-46da-a73f-45d46b61ebeb button.colab-df-generate');\n",
              "      buttonEl.style.display =\n",
              "        google.colab.kernel.accessAllowed ? 'block' : 'none';\n",
              "\n",
              "      buttonEl.onclick = () => {\n",
              "        google.colab.notebook.generateWithVariable('new_data');\n",
              "      }\n",
              "      })();\n",
              "    </script>\n",
              "  </div>\n",
              "\n",
              "    </div>\n",
              "  </div>\n"
            ],
            "application/vnd.google.colaboratory.intrinsic+json": {
              "type": "dataframe",
              "variable_name": "new_data"
            }
          },
          "metadata": {},
          "execution_count": 47
        }
      ]
    },
    {
      "cell_type": "code",
      "source": [
        "new_data.set_index('InvoiceDate', inplace=True)"
      ],
      "metadata": {
        "id": "eEy36nXWF-Ra"
      },
      "execution_count": 48,
      "outputs": []
    },
    {
      "cell_type": "code",
      "source": [
        "# Aggregate monthly revenue\n",
        "monthly_revenue = new_data.resample('M').sum()['TotalAmount']"
      ],
      "metadata": {
        "id": "YmN4_sdlk2qa"
      },
      "execution_count": 49,
      "outputs": []
    },
    {
      "cell_type": "code",
      "source": [
        "# Check stationarity\n",
        "result = adfuller(monthly_revenue)\n",
        "if result[1] > 0.05:\n",
        "    monthly_sales_diff = monthly_revenue.diff().dropna()\n",
        "else:\n",
        "    monthly_sales_diff = monthly_revenue"
      ],
      "metadata": {
        "id": "AVeUsIH7lXaL"
      },
      "execution_count": 52,
      "outputs": []
    },
    {
      "cell_type": "code",
      "source": [
        "# Plot monthly revenue\n",
        "plt.figure(figsize=(10, 6))\n",
        "plt.plot(monthly_revenue, label='Monthly Revenue')\n",
        "plt.title('Monthly Revenue')\n",
        "plt.xlabel('Date')\n",
        "plt.ylabel('Revenue')\n",
        "plt.legend()\n",
        "plt.show()"
      ],
      "metadata": {
        "colab": {
          "base_uri": "https://localhost:8080/",
          "height": 564
        },
        "id": "_0ziOTxZk2vP",
        "outputId": "b0d99ca9-2a77-4994-c3d1-2043e1ee101f"
      },
      "execution_count": 53,
      "outputs": [
        {
          "output_type": "display_data",
          "data": {
            "text/plain": [
              "<Figure size 1000x600 with 1 Axes>"
            ],
            "image/png": "[encoded data removed]"
          },
          "metadata": {}
        }
      ]
    },
    {
      "cell_type": "code",
      "source": [
        "# Fit ARIMA model\n",
        "model = ARIMA(monthly_revenue, order=(5,1,0))  # Adjust order based on ACF/PACF plots\n",
        "model_fit = model.fit()"
      ],
      "metadata": {
        "colab": {
          "base_uri": "https://localhost:8080/"
        },
        "id": "WX68zLDIGgud",
        "outputId": "ea8ecc4b-ecb3-4ddf-ab79-f0a1df517d2a"
      },
      "execution_count": 54,
      "outputs": [
        {
          "output_type": "stream",
          "name": "stderr",
          "text": [
            "/usr/local/lib/python3.10/dist-packages/statsmodels/tsa/statespace/sarimax.py:966: UserWarning: Non-stationary starting autoregressive parameters found. Using zeros as starting parameters.\n",
            "  warn('Non-stationary starting autoregressive parameters'\n"
          ]
        }
      ]
    },
    {
      "cell_type": "code",
      "source": [
        "# Forecast\n",
        "forecast = model_fit.forecast(steps=12)  # Forecast next 12 months"
      ],
      "metadata": {
        "id": "NMppIDkQGk0u"
      },
      "execution_count": 55,
      "outputs": []
    },
    {
      "cell_type": "code",
      "source": [
        "# Plot results\n",
        "plt.figure(figsize=(10, 6))\n",
        "plt.plot(monthly_revenue, label='Historical Sales')\n",
        "plt.plot(forecast, label='Forecast', color='red')\n",
        "plt.title('Sales Forecast using ARIMA')\n",
        "plt.xlabel('Date')\n",
        "plt.ylabel('Sales Amount')\n",
        "plt.legend()\n",
        "plt.show()"
      ],
      "metadata": {
        "colab": {
          "base_uri": "https://localhost:8080/",
          "height": 564
        },
        "id": "56e1GFbpGk47",
        "outputId": "0bfb23a9-859c-4e13-ecaa-7eade4638d32"
      },
      "execution_count": 57,
      "outputs": [
        {
          "output_type": "display_data",
          "data": {
            "text/plain": [
              "<Figure size 1000x600 with 1 Axes>"
            ],
            "image/png": "[encoded data removed]"
          },
          "metadata": {}
        }
      ]
    },
    {
      "cell_type": "code",
      "source": [],
      "metadata": {
        "id": "FU2yfHGJGk86"
      },
      "execution_count": null,
      "outputs": []
    },
    {
      "cell_type": "code",
      "source": [
        "# Fit SARIMA model\n",
        "sarima_model = SARIMAX(monthly_revenue,\n",
        "                       order=(1,1,1),       # Non-seasonal parameters\n",
        "                       seasonal_order=(1,1,1,12))  # Seasonal parameters with period 12\n",
        "sarima_model_fit = sarima_model.fit()"
      ],
      "metadata": {
        "colab": {
          "base_uri": "https://localhost:8080/"
        },
        "id": "PPoanqs_G5-6",
        "outputId": "b1ba5cf5-b010-4d74-940e-7a7c0d9a7f52"
      },
      "execution_count": 58,
      "outputs": [
        {
          "output_type": "stream",
          "name": "stderr",
          "text": [
            "/usr/local/lib/python3.10/dist-packages/statsmodels/tsa/statespace/sarimax.py:866: UserWarning: Too few observations to estimate starting parameters for ARMA and trend. All parameters except for variances will be set to zeros.\n",
            "  warn('Too few observations to estimate starting parameters%s.'\n",
            "/usr/local/lib/python3.10/dist-packages/statsmodels/tsa/statespace/sarimax.py:866: UserWarning: Too few observations to estimate starting parameters for seasonal ARMA. All parameters except for variances will be set to zeros.\n",
            "  warn('Too few observations to estimate starting parameters%s.'\n",
            "/usr/local/lib/python3.10/dist-packages/statsmodels/tsa/statespace/mlemodel.py:1233: RuntimeWarning: invalid value encountered in divide\n",
            "  np.inner(score_obs, score_obs) /\n"
          ]
        }
      ]
    },
    {
      "cell_type": "code",
      "source": [
        "# Forecast\n",
        "sarima_forecast = sarima_model_fit.get_forecast(steps=12).predicted_mean"
      ],
      "metadata": {
        "id": "bsYw8FYjG6KQ"
      },
      "execution_count": 59,
      "outputs": []
    },
    {
      "cell_type": "code",
      "source": [
        "# Plot results\n",
        "plt.figure(figsize=(10, 6))\n",
        "plt.plot(monthly_revenue, label='Historical Sales')\n",
        "plt.plot(sarima_forecast, label='SARIMA Forecast', color='red')\n",
        "plt.title('Sales Forecast using SARIMA')\n",
        "plt.xlabel('Date')\n",
        "plt.ylabel('Sales Amount')\n",
        "plt.legend()\n",
        "plt.show()"
      ],
      "metadata": {
        "colab": {
          "base_uri": "https://localhost:8080/",
          "height": 564
        },
        "id": "MsxSloUfG6Ou",
        "outputId": "65e6cb03-d955-4a7d-9dea-4438fb6c7929"
      },
      "execution_count": 60,
      "outputs": [
        {
          "output_type": "display_data",
          "data": {
            "text/plain": [
              "<Figure size 1000x600 with 1 Axes>"
            ],
            "image/png": "[encoded data removed]"
          },
          "metadata": {}
        }
      ]
    },
    {
      "cell_type": "code",
      "source": [],
      "metadata": {
        "id": "VY_8tIYcG6Sc"
      },
      "execution_count": null,
      "outputs": []
    },
    {
      "cell_type": "code",
      "source": [
        "# Fit SARIMA model\n",
        "sarima_model = SARIMAX(monthly_revenue,\n",
        "                       order=(1,1,1),       # Non-seasonal parameters (adjust based on ACF/PACF)\n",
        "                       seasonal_order=(1,1,1,12))  # Seasonal parameters with period 12\n",
        "sarima_model_fit = sarima_model.fit()"
      ],
      "metadata": {
        "colab": {
          "base_uri": "https://localhost:8080/"
        },
        "id": "amoZ1a9fHQd2",
        "outputId": "6a3f1ac6-abb4-4095-eddf-4d5683c8acea"
      },
      "execution_count": 62,
      "outputs": [
        {
          "output_type": "stream",
          "name": "stderr",
          "text": [
            "/usr/local/lib/python3.10/dist-packages/statsmodels/tsa/statespace/sarimax.py:866: UserWarning: Too few observations to estimate starting parameters for ARMA and trend. All parameters except for variances will be set to zeros.\n",
            "  warn('Too few observations to estimate starting parameters%s.'\n",
            "/usr/local/lib/python3.10/dist-packages/statsmodels/tsa/statespace/sarimax.py:866: UserWarning: Too few observations to estimate starting parameters for seasonal ARMA. All parameters except for variances will be set to zeros.\n",
            "  warn('Too few observations to estimate starting parameters%s.'\n",
            "/usr/local/lib/python3.10/dist-packages/statsmodels/tsa/statespace/mlemodel.py:1233: RuntimeWarning: invalid value encountered in divide\n",
            "  np.inner(score_obs, score_obs) /\n"
          ]
        }
      ]
    },
    {
      "cell_type": "code",
      "source": [
        "# Forecast\n",
        "forecast_steps = 12  # Forecast next 12 months\n",
        "forecast = sarima_model_fit.get_forecast(steps=forecast_steps)\n",
        "forecast_index = pd.date_range(start=monthly_revenue.index[-1] + pd.DateOffset(months=1), periods=forecast_steps, freq='M')\n",
        "forecast_df = pd.DataFrame(forecast.predicted_mean, index=forecast_index, columns=['Forecast'])"
      ],
      "metadata": {
        "id": "dMB9JboaHQhG"
      },
      "execution_count": 63,
      "outputs": []
    },
    {
      "cell_type": "code",
      "source": [
        "# Plot results\n",
        "plt.figure(figsize=(10, 6))\n",
        "plt.plot(monthly_revenue, label='Historical Revenue')\n",
        "plt.plot(forecast_df, label='SARIMA Forecast', color='red')\n",
        "plt.title('Monthly Revenue Forecast using SARIMA')\n",
        "plt.xlabel('Date')\n",
        "plt.ylabel('Revenue')\n",
        "plt.legend()\n",
        "plt.show()"
      ],
      "metadata": {
        "colab": {
          "base_uri": "https://localhost:8080/",
          "height": 564
        },
        "id": "9k4WzV3FHQj8",
        "outputId": "3a5864ca-7877-4dba-eb96-b9808645a8e5"
      },
      "execution_count": 64,
      "outputs": [
        {
          "output_type": "display_data",
          "data": {
            "text/plain": [
              "<Figure size 1000x600 with 1 Axes>"
            ],
            "image/png": "[encoded data removed]"
          },
          "metadata": {}
        }
      ]
    },
    {
      "cell_type": "code",
      "source": [
        "# Evaluate Model (if test data is available)\n",
        "# Split the data\n",
        "train_size = int(len(monthly_revenue) * 0.8)\n",
        "train, test = monthly_revenue[:train_size], monthly_revenue[train_size:]"
      ],
      "metadata": {
        "id": "s1aG6razGk_l"
      },
      "execution_count": 65,
      "outputs": []
    },
    {
      "cell_type": "code",
      "source": [
        "# Fit model on training data\n",
        "sarima_model = SARIMAX(train, order=(1,1,1), seasonal_order=(1,1,1,12))\n",
        "sarima_model_fit = sarima_model.fit()\n"
      ],
      "metadata": {
        "colab": {
          "base_uri": "https://localhost:8080/"
        },
        "id": "2qjF0H9IHjjT",
        "outputId": "9da0c7dc-2902-4f59-b14f-1c6dd115af7a"
      },
      "execution_count": 66,
      "outputs": [
        {
          "output_type": "stream",
          "name": "stderr",
          "text": [
            "/usr/local/lib/python3.10/dist-packages/statsmodels/tsa/statespace/sarimax.py:866: UserWarning: Too few observations to estimate starting parameters for ARMA and trend. All parameters except for variances will be set to zeros.\n",
            "  warn('Too few observations to estimate starting parameters%s.'\n",
            "/usr/local/lib/python3.10/dist-packages/statsmodels/tsa/statespace/sarimax.py:866: UserWarning: Too few observations to estimate starting parameters for seasonal ARMA. All parameters except for variances will be set to zeros.\n",
            "  warn('Too few observations to estimate starting parameters%s.'\n"
          ]
        }
      ]
    },
    {
      "cell_type": "code",
      "source": [
        "# Forecast on test data\n",
        "test_forecast = sarima_model_fit.get_forecast(steps=len(test))\n",
        "test_forecast_mean = test_forecast.predicted_mean"
      ],
      "metadata": {
        "id": "TRzm6fCUHjqR"
      },
      "execution_count": 67,
      "outputs": []
    },
    {
      "cell_type": "code",
      "source": [
        "# Calculate error\n",
        "mse = mean_squared_error(test, test_forecast_mean)\n",
        "print(f'Mean Squared Error: {mse}')"
      ],
      "metadata": {
        "colab": {
          "base_uri": "https://localhost:8080/"
        },
        "id": "jzvqy3myHjuu",
        "outputId": "3510ca04-231a-44bf-88ea-e326c4ae2232"
      },
      "execution_count": 68,
      "outputs": [
        {
          "output_type": "stream",
          "name": "stdout",
          "text": [
            "Mean Squared Error: 299014816793.1354\n"
          ]
        }
      ]
    },
    {
      "cell_type": "code",
      "source": [
        "# Plot test results\n",
        "plt.figure(figsize=(10, 6))\n",
        "plt.plot(train, label='Train')\n",
        "plt.plot(test, label='Test')\n",
        "plt.plot(test_forecast_mean, label='Forecast', color='red')\n",
        "plt.title('Test Data Forecast Comparison')\n",
        "plt.xlabel('Date')\n",
        "plt.ylabel('Revenue')\n",
        "plt.legend()\n",
        "plt.show()"
      ],
      "metadata": {
        "colab": {
          "base_uri": "https://localhost:8080/",
          "height": 564
        },
        "id": "CKIgLFisHjzm",
        "outputId": "f6580b81-6d7a-4ff0-f23e-2306c9ff7f75"
      },
      "execution_count": 69,
      "outputs": [
        {
          "output_type": "display_data",
          "data": {
            "text/plain": [
              "<Figure size 1000x600 with 1 Axes>"
            ],
            "image/png": "[encoded data removed]"
          },
          "metadata": {}
        }
      ]
    },
    {
      "cell_type": "code",
      "source": [],
      "metadata": {
        "id": "4U0tztgFk28M"
      },
      "execution_count": 69,
      "outputs": []
    },
    {
      "cell_type": "code",
      "source": [
        "# Create lag features for machine learning model\n",
        "df['Lag_1'] = df['TotalAmount'].shift(1)\n",
        "df['Lag_2'] = df['TotalAmount'].shift(2)\n",
        "df.dropna(inplace=True)"
      ],
      "metadata": {
        "id": "s_GCsuiejVU4"
      },
      "execution_count": 70,
      "outputs": []
    },
    {
      "cell_type": "code",
      "source": [
        "# Define features and target variable\n",
        "X = df[['Lag_1', 'Lag_2']]\n",
        "y = df['TotalAmount']"
      ],
      "metadata": {
        "id": "7ia-HRyPkfot"
      },
      "execution_count": 71,
      "outputs": []
    },
    {
      "cell_type": "code",
      "source": [
        "# Time-based splitting\n",
        "train_size = int(len(X) * 0.8)\n",
        "X_train, X_test = X[:train_size], X[train_size:]\n",
        "y_train, y_test = y[:train_size], y[train_size:]"
      ],
      "metadata": {
        "id": "zlTdEHX2kfyG"
      },
      "execution_count": 72,
      "outputs": []
    },
    {
      "cell_type": "code",
      "source": [
        "# Train Random Forest model\n",
        "rf_model = RandomForestRegressor()\n",
        "rf_model.fit(X_train, y_train)"
      ],
      "metadata": {
        "colab": {
          "base_uri": "https://localhost:8080/",
          "height": 75
        },
        "id": "iQrL39Cfkf25",
        "outputId": "1d606d48-2141-44fe-fbb9-bd46e6972c49"
      },
      "execution_count": 73,
      "outputs": [
        {
          "output_type": "execute_result",
          "data": {
            "text/plain": [
              "RandomForestRegressor()"
            ],
            "text/html": [
              "<style>#sk-container-id-1 {color: black;}#sk-container-id-1 pre{padding: 0;}#sk-container-id-1 div.sk-toggleable {background-color: white;}#sk-container-id-1 label.sk-toggleable__label {cursor: pointer;display: block;width: 100%;margin-bottom: 0;padding: 0.3em;box-sizing: border-box;text-align: center;}#sk-container-id-1 label.sk-toggleable__label-arrow:before {content: \"▸\";float: left;margin-right: 0.25em;color: #696969;}#sk-container-id-1 label.sk-toggleable__label-arrow:hover:before {color: black;}#sk-container-id-1 div.sk-estimator:hover label.sk-toggleable__label-arrow:before {color: black;}#sk-container-id-1 div.sk-toggleable__content {max-height: 0;max-width: 0;overflow: hidden;text-align: left;background-color: #f0f8ff;}#sk-container-id-1 div.sk-toggleable__content pre {margin: 0.2em;color: black;border-radius: 0.25em;background-color: #f0f8ff;}#sk-container-id-1 input.sk-toggleable__control:checked~div.sk-toggleable__content {max-height: 200px;max-width: 100%;overflow: auto;}#sk-container-id-1 input.sk-toggleable__control:checked~label.sk-toggleable__label-arrow:before {content: \"▾\";}#sk-container-id-1 div.sk-estimator input.sk-toggleable__control:checked~label.sk-toggleable__label {background-color: #d4ebff;}#sk-container-id-1 div.sk-label input.sk-toggleable__control:checked~label.sk-toggleable__label {background-color: #d4ebff;}#sk-container-id-1 input.sk-hidden--visually {border: 0;clip: rect(1px 1px 1px 1px);clip: rect(1px, 1px, 1px, 1px);height: 1px;margin: -1px;overflow: hidden;padding: 0;position: absolute;width: 1px;}#sk-container-id-1 div.sk-estimator {font-family: monospace;background-color: #f0f8ff;border: 1px dotted black;border-radius: 0.25em;box-sizing: border-box;margin-bottom: 0.5em;}#sk-container-id-1 div.sk-estimator:hover {background-color: #d4ebff;}#sk-container-id-1 div.sk-parallel-item::after {content: \"\";width: 100%;border-bottom: 1px solid gray;flex-grow: 1;}#sk-container-id-1 div.sk-label:hover label.sk-toggleable__label {background-color: #d4ebff;}#sk-container-id-1 div.sk-serial::before {content: \"\";position: absolute;border-left: 1px solid gray;box-sizing: border-box;top: 0;bottom: 0;left: 50%;z-index: 0;}#sk-container-id-1 div.sk-serial {display: flex;flex-direction: column;align-items: center;background-color: white;padding-right: 0.2em;padding-left: 0.2em;position: relative;}#sk-container-id-1 div.sk-item {position: relative;z-index: 1;}#sk-container-id-1 div.sk-parallel {display: flex;align-items: stretch;justify-content: center;background-color: white;position: relative;}#sk-container-id-1 div.sk-item::before, #sk-container-id-1 div.sk-parallel-item::before {content: \"\";position: absolute;border-left: 1px solid gray;box-sizing: border-box;top: 0;bottom: 0;left: 50%;z-index: -1;}#sk-container-id-1 div.sk-parallel-item {display: flex;flex-direction: column;z-index: 1;position: relative;background-color: white;}#sk-container-id-1 div.sk-parallel-item:first-child::after {align-self: flex-end;width: 50%;}#sk-container-id-1 div.sk-parallel-item:last-child::after {align-self: flex-start;width: 50%;}#sk-container-id-1 div.sk-parallel-item:only-child::after {width: 0;}#sk-container-id-1 div.sk-dashed-wrapped {border: 1px dashed gray;margin: 0 0.4em 0.5em 0.4em;box-sizing: border-box;padding-bottom: 0.4em;background-color: white;}#sk-container-id-1 div.sk-label label {font-family: monospace;font-weight: bold;display: inline-block;line-height: 1.2em;}#sk-container-id-1 div.sk-label-container {text-align: center;}#sk-container-id-1 div.sk-container {/* jupyter's `normalize.less` sets `[hidden] { display: none; }` but bootstrap.min.css set `[hidden] { display: none !important; }` so we also need the `!important` here to be able to override the default hidden behavior on the sphinx rendered scikit-learn.org. See: https://github.com/scikit-learn/scikit-learn/issues/21755 */display: inline-block !important;position: relative;}#sk-container-id-1 div.sk-text-repr-fallback {display: none;}</style><div id=\"sk-container-id-1\" class=\"sk-top-container\"><div class=\"sk-text-repr-fallback\"><pre>RandomForestRegressor()</pre><b>In a Jupyter environment, please rerun this cell to show the HTML representation or trust the notebook. <br />On GitHub, the HTML representation is unable to render, please try loading this page with nbviewer.org.</b></div><div class=\"sk-container\" hidden><div class=\"sk-item\"><div class=\"sk-estimator sk-toggleable\"><input class=\"sk-toggleable__control sk-hidden--visually\" id=\"sk-estimator-id-1\" type=\"checkbox\" checked><label for=\"sk-estimator-id-1\" class=\"sk-toggleable__label sk-toggleable__label-arrow\">RandomForestRegressor</label><div class=\"sk-toggleable__content\"><pre>RandomForestRegressor()</pre></div></div></div></div></div>"
            ]
          },
          "metadata": {},
          "execution_count": 73
        }
      ]
    },
    {
      "cell_type": "code",
      "source": [
        "# Forecast\n",
        "rf_forecast = rf_model.predict(X_test)"
      ],
      "metadata": {
        "id": "yzE-IMhBIbPy"
      },
      "execution_count": 74,
      "outputs": []
    },
    {
      "cell_type": "code",
      "source": [
        "# Calculate error metrics\n",
        "mae = mean_absolute_error(y_test, rf_forecast)\n",
        "rmse = np.sqrt(mean_squared_error(y_test, rf_forecast))\n",
        "mape = np.mean(np.abs((y_test - rf_forecast) / y_test)) * 100\n",
        "\n",
        "print(f'MAE: {mae}')\n",
        "print(f'RMSE: {rmse}')\n",
        "print(f'MAPE: {mape}')"
      ],
      "metadata": {
        "colab": {
          "base_uri": "https://localhost:8080/"
        },
        "id": "QarrVRZZIbXk",
        "outputId": "faa3bca5-066b-4745-9193-3c664b3b2f4b"
      },
      "execution_count": 75,
      "outputs": [
        {
          "output_type": "stream",
          "name": "stdout",
          "text": [
            "MAE: 16.154377387935114\n",
            "RMSE: 524.1723206572257\n",
            "MAPE: 191.04416696925247\n"
          ]
        }
      ]
    },
    {
      "cell_type": "code",
      "source": [
        "from sklearn.model_selection import GridSearchCV\n",
        "\n",
        "# Define parameter grid\n",
        "param_grid = {\n",
        "    'n_estimators': [50, 100, 200],\n",
        "    'max_depth': [None, 10, 20, 30]\n",
        "}\n",
        "\n",
        "# Initialize Grid Search\n",
        "grid_search = GridSearchCV(estimator=RandomForestRegressor(), param_grid=param_grid, cv=3, n_jobs=-1, scoring='neg_mean_squared_error')\n",
        "\n",
        "# Fit Grid Search\n",
        "grid_search.fit(X_train, y_train)\n",
        "\n",
        "# Best parameters\n",
        "print(\"Best Parameters:\", grid_search.best_params_)"
      ],
      "metadata": {
        "id": "73jkffmsIbfC"
      },
      "execution_count": null,
      "outputs": []
    }
  ]
}